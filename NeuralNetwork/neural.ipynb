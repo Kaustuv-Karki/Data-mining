{
 "cells": [
  {
   "cell_type": "code",
   "execution_count": 2,
   "metadata": {},
   "outputs": [
    {
     "name": "stdout",
     "output_type": "stream",
     "text": [
      "Collecting tqdm\n",
      "  Obtaining dependency information for tqdm from https://files.pythonhosted.org/packages/c0/ab/bd9ba7f84c509c8b377628bc66696d52623e30c6c0830db3c78748eec4b4/tqdm-4.65.2-py3-none-any.whl.metadata\n",
      "  Downloading tqdm-4.65.2-py3-none-any.whl.metadata (56 kB)\n",
      "\u001b[2K     \u001b[90m━━━━━━━━━━━━━━━━━━━━━━━━━━━━━━━━━━━━━━━\u001b[0m \u001b[32m57.0/57.0 kB\u001b[0m \u001b[31m459.0 kB/s\u001b[0m eta \u001b[36m0:00:00\u001b[0ma \u001b[36m0:00:01\u001b[0m\n",
      "\u001b[?25hDownloading tqdm-4.65.2-py3-none-any.whl (77 kB)\n",
      "\u001b[2K   \u001b[90m━━━━━━━━━━━━━━━━━━━━━━━━━━━━━━━━━━━━━━━━\u001b[0m \u001b[32m77.1/77.1 kB\u001b[0m \u001b[31m1.5 MB/s\u001b[0m eta \u001b[36m0:00:00\u001b[0ma \u001b[36m0:00:01\u001b[0m\n",
      "\u001b[?25hInstalling collected packages: tqdm\n",
      "Successfully installed tqdm-4.65.2\n"
     ]
    }
   ],
   "source": [
    "!pip install tqdm"
   ]
  },
  {
   "cell_type": "code",
   "execution_count": 1,
   "metadata": {},
   "outputs": [],
   "source": [
    "import pandas as pd\n",
    "import numpy as np\n",
    "import matplotlib.pyplot as plt\n",
    "from tqdm import tqdm\n",
    "from tqdm.notebook import tqdm_notebook"
   ]
  },
  {
   "cell_type": "code",
   "execution_count": 50,
   "metadata": {},
   "outputs": [],
   "source": [
    "data = pd.read_csv(\"./digit_data.csv\")"
   ]
  },
  {
   "cell_type": "code",
   "execution_count": 51,
   "metadata": {},
   "outputs": [],
   "source": [
    "df = pd.get_dummies(data[\"label\"], dtype=int)"
   ]
  },
  {
   "cell_type": "code",
   "execution_count": 52,
   "metadata": {},
   "outputs": [],
   "source": [
    "data_encoded = pd.concat([data,df], axis = 1)"
   ]
  },
  {
   "cell_type": "code",
   "execution_count": 53,
   "metadata": {},
   "outputs": [],
   "source": [
    "data_encoded = data_encoded.drop([\"label\"], axis =1)"
   ]
  },
  {
   "cell_type": "code",
   "execution_count": 54,
   "metadata": {},
   "outputs": [],
   "source": [
    "data_test = data_encoded[:1000]\n",
    "data_test.shape\n",
    "test_y = data_test.iloc[:, 784:]\n",
    "test_x = data_test.iloc[:,:784]\n"
   ]
  },
  {
   "cell_type": "code",
   "execution_count": 55,
   "metadata": {},
   "outputs": [],
   "source": [
    "data_train = data_encoded[1000:]\n",
    "data_test.shape\n",
    "train_y = data_train.iloc[:, 784:]\n",
    "train_x = data_train.iloc[:,:784]"
   ]
  },
  {
   "cell_type": "code",
   "execution_count": 56,
   "metadata": {},
   "outputs": [],
   "source": [
    "train_x = np.array(train_x)\n",
    "train_y = np.array(train_y)\n",
    "test_x = np.array(test_x)\n",
    "test_y = np.array(test_y)"
   ]
  },
  {
   "cell_type": "code",
   "execution_count": 57,
   "metadata": {},
   "outputs": [],
   "source": [
    "# Normalize\n",
    "# train_x = train_x.astype(\"float32\") / 255.0\n",
    "# test_x = test_x.astype(\"float32\") / 255.0"
   ]
  },
  {
   "cell_type": "code",
   "execution_count": 58,
   "metadata": {},
   "outputs": [
    {
     "data": {
      "text/plain": [
       "Text(0.5, 1.0, 'The number is 8')"
      ]
     },
     "execution_count": 58,
     "metadata": {},
     "output_type": "execute_result"
    },
    {
     "data": {
      "image/png": "[encoded data removed]",
      "text/plain": [
       "<Figure size 432x288 with 1 Axes>"
      ]
     },
     "metadata": {
      "needs_background": "light"
     },
     "output_type": "display_data"
    }
   ],
   "source": [
    "index = int(np.random.random() * data_encoded.shape[0])\n",
    "plt.imshow(np.array(data.iloc[index, 1:]).reshape((28,28)), cmap=\"gray\")\n",
    "plt.title(f\"The number is {data.iloc[index,0]}\")"
   ]
  },
  {
   "cell_type": "code",
   "execution_count": 59,
   "metadata": {},
   "outputs": [],
   "source": [
    "def initialize_parameters(layer_dims, method =\"basic\"):\n",
    "    \"\"\"Layer dims contains the dimension of each layer in the neural network\"\"\"\n",
    "    parameters = {}\n",
    "\n",
    "    num_layers = len(layer_dims) # as the input layer is taken as 0\n",
    "    if(method == \"basic\"):\n",
    "        for i in range(1, num_layers):\n",
    "            parameters[f\"W{i}\"] = (np.random.random((layer_dims[i-1], layer_dims[i])) - 0.5).T\n",
    "            parameters[f\"b{i}\"] = (np.random.random((1, layer_dims[i])) - 0.5).T\n",
    "\n",
    "    # if(method == \"xavier\"):\n",
    "    #     for i in range(1, num_layers):\n",
    "    #         parameters[f\"W{i}\"] = (np.random.rand(layer_dims[i], layer_dims[i-1]) * np.sqrt(1/layer_dims[i-1]))\n",
    "    #         parameters[f\"b{i}\"] = np.zeros((1, layer_dims[i])).T \n",
    "\n",
    "    # if (method == \"he\"):\n",
    "    #     for i in range(1, num_layers):\n",
    "    #         parameters[f\"W{i}\"] = (np.random.rand(layer_dims[i], layer_dims[i-1]) * np.sqrt(2/layer_dims[i-1]))\n",
    "    #         parameters[f\"b{i}\"] = np.zeros((1, layer_dims[i])).T \n",
    "\n",
    "    if(method == \"xavier\"):\n",
    "        for i in range(1, num_layers):\n",
    "            fan_in = layer_dims[i-1]\n",
    "            fan_out = layer_dims[i]\n",
    "            sd = np.sqrt(2/(fan_in + fan_out))\n",
    "            parameters[f\"W{i}\"] = (np.random.normal(0, sd, (layer_dims[i-1], layer_dims[i]))).T\n",
    "            parameters[f\"b{i}\"] = np.zeros((1, layer_dims[i])).T\n",
    "    \n",
    "    if(method == \"he\"):\n",
    "        for i in range(1, num_layers):\n",
    "            fan_in = layer_dims[i-1]\n",
    "            sd = np.sqrt(2/(fan_in))\n",
    "            parameters[f\"W{i}\"] = (np.random.normal(0, sd, (layer_dims[i-1], layer_dims[i]))).T\n",
    "            parameters[f\"b{i}\"] = np.zeros((1, layer_dims[i])).T\n",
    "\n",
    "    return parameters"
   ]
  },
  {
   "cell_type": "code",
   "execution_count": 60,
   "metadata": {},
   "outputs": [],
   "source": [
    "def relu(z):\n",
    "    return np.maximum(0, z)"
   ]
  },
  {
   "cell_type": "code",
   "execution_count": 61,
   "metadata": {},
   "outputs": [],
   "source": [
    "def softmax(z):\n",
    "    exp_z = np.exp(z - np.max(z, axis=0, keepdims=True)) # For numerical stability\n",
    "    return exp_z / np.sum(exp_z, axis=0, keepdims=True)"
   ]
  },
  {
   "cell_type": "code",
   "execution_count": 62,
   "metadata": {},
   "outputs": [],
   "source": [
    "def sigmoid(z):\n",
    "    return 1/ (1+np.exp(-z))"
   ]
  },
  {
   "cell_type": "code",
   "execution_count": 63,
   "metadata": {},
   "outputs": [],
   "source": [
    "def derivative_sigmoid(z):\n",
    "    sigmoid = 1/ (1+np.exp(-z))\n",
    "    return sigmoid*(1-sigmoid)"
   ]
  },
  {
   "cell_type": "code",
   "execution_count": 64,
   "metadata": {},
   "outputs": [],
   "source": [
    "def tanh(z):\n",
    "    return (np.exp(z) - np.exp(-z))/ (np.exp(z) + np.exp(-z))"
   ]
  },
  {
   "cell_type": "code",
   "execution_count": 65,
   "metadata": {},
   "outputs": [],
   "source": [
    "def derivative_tanh(z):\n",
    "    tanh = (np.exp(z) - np.exp(-z))/ (np.exp(z) + np.exp(-z))\n",
    "    return (1- tanh**2)"
   ]
  },
  {
   "cell_type": "code",
   "execution_count": 66,
   "metadata": {},
   "outputs": [],
   "source": [
    "def derivative_relu(z):\n",
    "    return z > 0"
   ]
  },
  {
   "cell_type": "code",
   "execution_count": 67,
   "metadata": {},
   "outputs": [],
   "source": [
    "def dropout(X, dropout_rate):\n",
    "    dropout_mask = (np.random.rand(*X.shape) < 1 - dropout_rate)\n",
    "    X *= dropout_mask / (1 - dropout_rate)\n",
    "    return X"
   ]
  },
  {
   "cell_type": "code",
   "execution_count": 68,
   "metadata": {},
   "outputs": [],
   "source": [
    "def forward_pass_test(X, parameters, dropout_rate):\n",
    "    cache = {}\n",
    "    num_layers = len(parameters)//2\n",
    "\n",
    "    for i in range(1, len(parameters)//2): \n",
    "        W = parameters[f\"W{i}\"]\n",
    "        b = parameters[f\"b{i}\"]\n",
    "\n",
    "        if i == 1:\n",
    "            Z = np.dot(W,X) + b\n",
    "        else:\n",
    "            Z = np.dot(W,A) + b\n",
    "\n",
    "        A = relu(Z)\n",
    "        # Apply dropout to the hidden layer activations\n",
    "        A = dropout(A, dropout_rate)\n",
    "\n",
    "        cache[f\"Z{i}\"] = Z\n",
    "        cache[f\"A{i}\"] = A\n",
    "\n",
    "    W_last = parameters[f\"W{num_layers}\"]\n",
    "    b_last = parameters[f\"b{num_layers}\"]\n",
    "\n",
    "    Z_last = np.dot(W_last, cache[f\"A{num_layers-1}\"]) + b_last\n",
    "    val = cache[f\"A{num_layers-1}\"]\n",
    "\n",
    "    A_last = softmax(Z_last)\n",
    "\n",
    "    cache[f\"Z{num_layers}\"] = Z_last\n",
    "    cache[f\"A{num_layers}\"] = A_last\n",
    "\n",
    "    return cache, A_last"
   ]
  },
  {
   "cell_type": "code",
   "execution_count": 69,
   "metadata": {},
   "outputs": [],
   "source": [
    "def predict(X, parameters, dropout):\n",
    "    # print(\"parameters\" ,parameters)\n",
    "    _, A_last = forward_pass_test(X, parameters, dropout)\n",
    "    return np.argmax(A_last, axis=0)"
   ]
  },
  {
   "cell_type": "code",
   "execution_count": 70,
   "metadata": {},
   "outputs": [],
   "source": [
    "def accuracy(train_x, train_y, test_x, test_y, trained_parameters, dropout_rate, epoch,loss):\n",
    "        predictions_test = predict(test_x.T, trained_parameters, dropout_rate)\n",
    "        predictions_train = predict(train_x.T, trained_parameters, dropout_rate)\n",
    "        validation_accuracy = np.mean(predictions_train == np.argmax(train_y.T, axis=0))\n",
    "        test_accuracy = np.mean(predictions_test == np.argmax(test_y.T, axis=0))\n",
    "        print(f\"Epoch {epoch}, Loss: {loss:.4f}, Validation Accuracy : {validation_accuracy * 100:.2f}%,Test Accuracy: {test_accuracy * 100:.2f}%\" )\n",
    "        return test_accuracy, validation_accuracy"
   ]
  },
  {
   "cell_type": "code",
   "execution_count": 71,
   "metadata": {},
   "outputs": [],
   "source": [
    "def backward_pass_test(X,Y,parameters,cache):\n",
    "    m = Y.shape[1]\n",
    "    temp = {}\n",
    "    out = {}\n",
    "    num_layers = len(parameters)//2\n",
    "\n",
    "    for layer in range(num_layers, 0, -1):\n",
    "        \n",
    "        if layer == num_layers:\n",
    "            temp[f\"dZ{layer}\"] = cache[f\"A{layer}\"] - Y\n",
    "            out[f\"dW{layer}\"] = np.dot(temp[f\"dZ{layer}\"], cache[f\"A{layer - 1}\"].T) /m\n",
    "            out[f\"db{layer}\"] = np.sum(temp[f\"dZ{layer}\"], axis = 1, keepdims = True) / m\n",
    "\n",
    "        elif layer > 1:\n",
    "            temp[f\"dA{layer}\"] = np.dot(parameters[f\"W{layer+1}\"].T, temp[f\"dZ{layer+1}\"])\n",
    "            temp[f\"dZ{layer}\"] = temp[f\"dA{layer}\"] * derivative_relu(cache[f\"Z{layer}\"])\n",
    "            out[f\"dW{layer}\"] = np.dot(temp[f\"dZ{layer}\"], cache[f\"A{layer-1}\"].T) / m\n",
    "            out[f\"db{layer}\"] = np.sum(temp[f\"dZ{layer}\"], axis = 1, keepdims = True) / m\n",
    "\n",
    "        else:\n",
    "            temp[f\"dA{layer}\"] = np.dot(parameters[f\"W{layer+1}\"].T, temp[f\"dZ{layer + 1}\"])\n",
    "            temp[f\"dZ{layer}\"] =  temp[f\"dA{layer}\"] * derivative_relu(cache[f\"Z{layer}\"])\n",
    "\n",
    "            out[f\"dW{layer}\"] = np.dot(temp[f\"dZ{layer}\"], X.T) / m\n",
    "            out[f\"db{layer}\"] = np.sum(temp[f\"dZ{layer}\"], axis=1, keepdims=True) / m\n",
    "    gradients = out\n",
    "    \n",
    "    return gradients"
   ]
  },
  {
   "cell_type": "code",
   "execution_count": 72,
   "metadata": {},
   "outputs": [],
   "source": [
    "def cross_entropy_loss(Y_pred, Y_true):\n",
    "    m = Y_true.shape[1]\n",
    "    loss = -np.sum(Y_true * np.log(Y_pred + 1e-8)) / m\n",
    "    return loss"
   ]
  },
  {
   "cell_type": "code",
   "execution_count": 73,
   "metadata": {},
   "outputs": [],
   "source": [
    "def update_parameters_test(parameters, gradients, learning_rate):\n",
    " \n",
    "    cache = {}\n",
    "    for i in range(1, len(parameters)//2 + 1):\n",
    "        w = parameters[f\"W{i}\"]\n",
    "        b = parameters[f\"b{i}\"]\n",
    "\n",
    "        dw = gradients[f\"dW{i}\"]\n",
    "        db = gradients[f\"db{i}\"]\n",
    "\n",
    "        w -= learning_rate * dw\n",
    "        b -= learning_rate * db\n",
    "\n",
    "        cache[f\"W{i}\"] = w\n",
    "        cache[f\"b{i}\"] = b\n",
    "\n",
    "    return cache"
   ]
  },
  {
   "cell_type": "code",
   "execution_count": 74,
   "metadata": {},
   "outputs": [],
   "source": [
    "def train(X, Y, test_x, test_y, hidden_size, output_size, learning_rate, epochs, dropout_rate):\n",
    "    input_size = X.shape[0]\n",
    "    parameters = initialize_parameters([input_size, *hidden_size, output_size], method=\"he\")\n",
    "    # print(parameters)\n",
    "\n",
    "    test_accuracy_list = []\n",
    "    validation_accuracy_list = []\n",
    "    loss_list = []\n",
    "    for epoch in tqdm_notebook(range(epochs), desc=\"Training progress: \"):\n",
    "        cache, A = forward_pass_test(X, parameters, dropout_rate)\n",
    "        loss = cross_entropy_loss(A, Y)\n",
    "        loss_list.append(loss)\n",
    "        gradients = backward_pass_test(X, Y, parameters, cache)\n",
    "        # print(gradients)\n",
    "        parameters = update_parameters_test(parameters, gradients, learning_rate)\n",
    "\n",
    "        if epoch % 1 == 0:\n",
    "            trained_parameters = parameters\n",
    "            test_accuracy, validation_accuracy= accuracy(train_x, train_y, test_x, test_y,trained_parameters, dropout_rate, epoch, loss)\n",
    "            test_accuracy_list.append(test_accuracy)\n",
    "            validation_accuracy_list.append(validation_accuracy)\n",
    "    return parameters, test_accuracy_list, validation_accuracy_list, loss_list"
   ]
  },
  {
   "cell_type": "code",
   "execution_count": 75,
   "metadata": {},
   "outputs": [],
   "source": [
    "def predict_labels(test_x, test_y, trained_parameters, index):\n",
    "    value = predict(test_x.T, trained_parameters, 0)\n",
    "    prediction = value[index]\n",
    "    actual = np.argmax(test_y[index])\n",
    "    plt.title(f\" Actual : {actual}   Prediction : {prediction}\")\n",
    "    plt.imshow(np.array(test_x[index]).reshape((28,28)), cmap=\"gray\")"
   ]
  },
  {
   "cell_type": "code",
   "execution_count": 76,
   "metadata": {},
   "outputs": [],
   "source": [
    "def plot_accuracy(values, x_label, y_label, title):\n",
    "    plt.figure(figsize=(8, 5))\n",
    "    plt.title(title)\n",
    "    plt.xlabel(x_label)\n",
    "    plt.grid(True)\n",
    "    plt.ylabel(y_label)\n",
    "    plt.plot(values)"
   ]
  },
  {
   "cell_type": "code",
   "execution_count": 77,
   "metadata": {},
   "outputs": [
    {
     "data": {
      "application/vnd.jupyter.widget-view+json": {
       "model_id": "f3b542b694694c3e805acdcccbcb7d25",
       "version_major": 2,
       "version_minor": 0
      },
      "text/plain": [
       "Training progress:   0%|          | 0/100 [00:00<?, ?it/s]"
      ]
     },
     "metadata": {},
     "output_type": "display_data"
    },
    {
     "name": "stdout",
     "output_type": "stream",
     "text": [
      "Epoch 0, Loss: 16.9463, Validation Accuracy : 31.17%,Test Accuracy: 29.30%\n",
      "Epoch 1, Loss: 12.4767, Validation Accuracy : 28.37%,Test Accuracy: 28.40%\n",
      "Epoch 2, Loss: 13.0583, Validation Accuracy : 35.02%,Test Accuracy: 33.60%\n",
      "Epoch 3, Loss: 11.8476, Validation Accuracy : 40.08%,Test Accuracy: 40.60%\n",
      "Epoch 4, Loss: 10.6205, Validation Accuracy : 60.89%,Test Accuracy: 60.50%\n",
      "Epoch 5, Loss: 6.5234, Validation Accuracy : 67.42%,Test Accuracy: 68.00%\n",
      "Epoch 6, Loss: 5.1181, Validation Accuracy : 71.80%,Test Accuracy: 71.10%\n",
      "Epoch 7, Loss: 4.2328, Validation Accuracy : 73.77%,Test Accuracy: 74.20%\n",
      "Epoch 8, Loss: 3.8497, Validation Accuracy : 74.84%,Test Accuracy: 75.90%\n",
      "Epoch 9, Loss: 3.6140, Validation Accuracy : 76.10%,Test Accuracy: 76.10%\n",
      "Epoch 10, Loss: 3.4667, Validation Accuracy : 76.76%,Test Accuracy: 77.30%\n",
      "Epoch 11, Loss: 3.3240, Validation Accuracy : 77.53%,Test Accuracy: 77.50%\n",
      "Epoch 12, Loss: 3.2266, Validation Accuracy : 77.98%,Test Accuracy: 77.70%\n",
      "Epoch 13, Loss: 3.1038, Validation Accuracy : 78.60%,Test Accuracy: 78.50%\n",
      "Epoch 14, Loss: 3.0218, Validation Accuracy : 79.24%,Test Accuracy: 79.10%\n",
      "Epoch 15, Loss: 2.9357, Validation Accuracy : 79.52%,Test Accuracy: 80.80%\n",
      "Epoch 16, Loss: 2.8765, Validation Accuracy : 79.99%,Test Accuracy: 79.90%\n",
      "Epoch 17, Loss: 2.8089, Validation Accuracy : 80.40%,Test Accuracy: 79.00%\n",
      "Epoch 18, Loss: 2.7638, Validation Accuracy : 80.63%,Test Accuracy: 81.10%\n",
      "Epoch 19, Loss: 2.6854, Validation Accuracy : 80.78%,Test Accuracy: 82.00%\n",
      "Epoch 20, Loss: 2.6204, Validation Accuracy : 81.38%,Test Accuracy: 82.10%\n",
      "Epoch 21, Loss: 2.6023, Validation Accuracy : 81.65%,Test Accuracy: 81.30%\n",
      "Epoch 22, Loss: 2.5255, Validation Accuracy : 81.97%,Test Accuracy: 80.80%\n",
      "Epoch 23, Loss: 2.5004, Validation Accuracy : 82.09%,Test Accuracy: 83.00%\n",
      "Epoch 24, Loss: 2.4758, Validation Accuracy : 82.50%,Test Accuracy: 82.20%\n",
      "Epoch 25, Loss: 2.4392, Validation Accuracy : 82.59%,Test Accuracy: 83.70%\n",
      "Epoch 26, Loss: 2.3716, Validation Accuracy : 82.79%,Test Accuracy: 82.30%\n",
      "Epoch 27, Loss: 2.3499, Validation Accuracy : 83.04%,Test Accuracy: 82.30%\n",
      "Epoch 28, Loss: 2.3017, Validation Accuracy : 83.08%,Test Accuracy: 84.00%\n",
      "Epoch 29, Loss: 2.2753, Validation Accuracy : 83.49%,Test Accuracy: 81.80%\n",
      "Epoch 30, Loss: 2.2684, Validation Accuracy : 83.70%,Test Accuracy: 82.50%\n",
      "Epoch 31, Loss: 2.2296, Validation Accuracy : 83.85%,Test Accuracy: 82.80%\n",
      "Epoch 32, Loss: 2.2070, Validation Accuracy : 83.99%,Test Accuracy: 83.00%\n",
      "Epoch 33, Loss: 2.1780, Validation Accuracy : 84.07%,Test Accuracy: 82.90%\n",
      "Epoch 34, Loss: 2.1787, Validation Accuracy : 84.38%,Test Accuracy: 84.00%\n",
      "Epoch 35, Loss: 2.1395, Validation Accuracy : 84.40%,Test Accuracy: 83.80%\n",
      "Epoch 36, Loss: 2.1171, Validation Accuracy : 84.54%,Test Accuracy: 83.90%\n",
      "Epoch 37, Loss: 2.0844, Validation Accuracy : 84.57%,Test Accuracy: 83.50%\n",
      "Epoch 38, Loss: 2.0770, Validation Accuracy : 84.62%,Test Accuracy: 85.20%\n",
      "Epoch 39, Loss: 2.0549, Validation Accuracy : 85.04%,Test Accuracy: 83.90%\n",
      "Epoch 40, Loss: 2.0178, Validation Accuracy : 85.02%,Test Accuracy: 84.10%\n",
      "Epoch 41, Loss: 1.9914, Validation Accuracy : 85.13%,Test Accuracy: 84.20%\n",
      "Epoch 42, Loss: 1.9878, Validation Accuracy : 85.10%,Test Accuracy: 85.10%\n",
      "Epoch 43, Loss: 1.9376, Validation Accuracy : 85.40%,Test Accuracy: 84.70%\n",
      "Epoch 44, Loss: 1.9821, Validation Accuracy : 85.46%,Test Accuracy: 84.70%\n",
      "Epoch 45, Loss: 1.9256, Validation Accuracy : 85.64%,Test Accuracy: 84.60%\n",
      "Epoch 46, Loss: 1.8875, Validation Accuracy : 85.76%,Test Accuracy: 84.10%\n",
      "Epoch 47, Loss: 1.8718, Validation Accuracy : 85.99%,Test Accuracy: 84.60%\n",
      "Epoch 48, Loss: 1.8780, Validation Accuracy : 85.86%,Test Accuracy: 86.10%\n",
      "Epoch 49, Loss: 1.8561, Validation Accuracy : 86.12%,Test Accuracy: 85.50%\n",
      "Epoch 50, Loss: 1.8608, Validation Accuracy : 85.95%,Test Accuracy: 85.60%\n",
      "Epoch 51, Loss: 1.8649, Validation Accuracy : 86.35%,Test Accuracy: 85.50%\n",
      "Epoch 52, Loss: 1.8177, Validation Accuracy : 86.44%,Test Accuracy: 85.20%\n",
      "Epoch 53, Loss: 1.7997, Validation Accuracy : 86.55%,Test Accuracy: 85.40%\n",
      "Epoch 54, Loss: 1.8061, Validation Accuracy : 86.43%,Test Accuracy: 85.80%\n",
      "Epoch 55, Loss: 1.8058, Validation Accuracy : 86.66%,Test Accuracy: 85.90%\n",
      "Epoch 56, Loss: 1.7470, Validation Accuracy : 86.69%,Test Accuracy: 85.80%\n",
      "Epoch 57, Loss: 1.7442, Validation Accuracy : 86.77%,Test Accuracy: 86.20%\n",
      "Epoch 58, Loss: 1.7640, Validation Accuracy : 86.87%,Test Accuracy: 85.20%\n",
      "Epoch 59, Loss: 1.7115, Validation Accuracy : 86.90%,Test Accuracy: 86.70%\n",
      "Epoch 60, Loss: 1.7335, Validation Accuracy : 87.09%,Test Accuracy: 87.10%\n",
      "Epoch 61, Loss: 1.6959, Validation Accuracy : 87.09%,Test Accuracy: 86.90%\n",
      "Epoch 62, Loss: 1.6920, Validation Accuracy : 87.25%,Test Accuracy: 86.10%\n",
      "Epoch 63, Loss: 1.6909, Validation Accuracy : 87.32%,Test Accuracy: 88.00%\n",
      "Epoch 64, Loss: 1.6820, Validation Accuracy : 87.33%,Test Accuracy: 85.30%\n",
      "Epoch 65, Loss: 1.6535, Validation Accuracy : 87.39%,Test Accuracy: 86.80%\n",
      "Epoch 66, Loss: 1.6841, Validation Accuracy : 87.51%,Test Accuracy: 86.80%\n",
      "Epoch 67, Loss: 1.6325, Validation Accuracy : 87.46%,Test Accuracy: 86.60%\n",
      "Epoch 68, Loss: 1.6351, Validation Accuracy : 87.53%,Test Accuracy: 86.50%\n",
      "Epoch 69, Loss: 1.6146, Validation Accuracy : 87.67%,Test Accuracy: 86.00%\n",
      "Epoch 70, Loss: 1.6120, Validation Accuracy : 87.68%,Test Accuracy: 86.50%\n",
      "Epoch 71, Loss: 1.6009, Validation Accuracy : 87.90%,Test Accuracy: 86.30%\n",
      "Epoch 72, Loss: 1.5949, Validation Accuracy : 88.07%,Test Accuracy: 85.00%\n",
      "Epoch 73, Loss: 1.6136, Validation Accuracy : 87.95%,Test Accuracy: 87.10%\n",
      "Epoch 74, Loss: 1.5961, Validation Accuracy : 87.73%,Test Accuracy: 86.50%\n",
      "Epoch 75, Loss: 1.5581, Validation Accuracy : 87.91%,Test Accuracy: 86.60%\n",
      "Epoch 76, Loss: 1.5555, Validation Accuracy : 87.92%,Test Accuracy: 87.10%\n",
      "Epoch 77, Loss: 1.5596, Validation Accuracy : 88.08%,Test Accuracy: 86.80%\n",
      "Epoch 78, Loss: 1.5560, Validation Accuracy : 88.23%,Test Accuracy: 86.80%\n",
      "Epoch 79, Loss: 1.5478, Validation Accuracy : 88.00%,Test Accuracy: 85.40%\n",
      "Epoch 80, Loss: 1.5199, Validation Accuracy : 88.29%,Test Accuracy: 87.90%\n",
      "Epoch 81, Loss: 1.5295, Validation Accuracy : 88.19%,Test Accuracy: 87.20%\n",
      "Epoch 82, Loss: 1.5299, Validation Accuracy : 88.10%,Test Accuracy: 87.00%\n",
      "Epoch 83, Loss: 1.4946, Validation Accuracy : 88.35%,Test Accuracy: 87.50%\n",
      "Epoch 84, Loss: 1.5042, Validation Accuracy : 88.40%,Test Accuracy: 87.20%\n",
      "Epoch 85, Loss: 1.5137, Validation Accuracy : 88.54%,Test Accuracy: 86.90%\n",
      "Epoch 86, Loss: 1.4703, Validation Accuracy : 88.40%,Test Accuracy: 87.30%\n",
      "Epoch 87, Loss: 1.4927, Validation Accuracy : 88.54%,Test Accuracy: 87.40%\n",
      "Epoch 88, Loss: 1.4869, Validation Accuracy : 88.71%,Test Accuracy: 88.10%\n",
      "Epoch 89, Loss: 1.4856, Validation Accuracy : 88.60%,Test Accuracy: 87.60%\n",
      "Epoch 90, Loss: 1.4409, Validation Accuracy : 88.84%,Test Accuracy: 86.60%\n",
      "Epoch 91, Loss: 1.4620, Validation Accuracy : 88.76%,Test Accuracy: 87.00%\n",
      "Epoch 92, Loss: 1.4577, Validation Accuracy : 88.72%,Test Accuracy: 87.80%\n",
      "Epoch 93, Loss: 1.4417, Validation Accuracy : 88.88%,Test Accuracy: 87.20%\n",
      "Epoch 94, Loss: 1.4136, Validation Accuracy : 88.82%,Test Accuracy: 89.20%\n",
      "Epoch 95, Loss: 1.4135, Validation Accuracy : 88.95%,Test Accuracy: 86.60%\n",
      "Epoch 96, Loss: 1.4256, Validation Accuracy : 88.95%,Test Accuracy: 88.30%\n",
      "Epoch 97, Loss: 1.4137, Validation Accuracy : 89.03%,Test Accuracy: 88.80%\n",
      "Epoch 98, Loss: 1.4124, Validation Accuracy : 89.13%,Test Accuracy: 87.50%\n",
      "Epoch 99, Loss: 1.4225, Validation Accuracy : 89.32%,Test Accuracy: 89.20%\n",
      "Accuracy on test set: 87.90%\n"
     ]
    }
   ],
   "source": [
    "input_size = train_x.shape[1]\n",
    "output_size = train_y.shape[1]\n",
    "\n",
    "hidden_size = [512]\n",
    "learning_rate = 0.002\n",
    "iterations = 100\n",
    "dropout_rate = 0.2  # Example dropout rate of 20% (0.2)\n",
    "\n",
    "trained_parameters, validation_accuracy, test_accuracy, loss_list = train(train_x.T, train_y.T, test_x, test_y, hidden_size, output_size, learning_rate, iterations, dropout_rate)\n",
    "predictions = predict(test_x.T, trained_parameters, dropout_rate)\n",
    "\n",
    "# Calculate accuracy\n",
    "accuracy_value = np.mean(predictions == np.argmax(test_y.T, axis=0))\n",
    "print(f\"Accuracy on test set: {accuracy_value * 100:.2f}%\")"
   ]
  },
  {
   "cell_type": "code",
   "execution_count": 45,
   "metadata": {},
   "outputs": [
    {
     "data": {
      "image/png": "[encoded data removed]",
      "text/plain": [
       "<Figure size 576x360 with 1 Axes>"
      ]
     },
     "metadata": {
      "needs_background": "light"
     },
     "output_type": "display_data"
    }
   ],
   "source": [
    "plot_accuracy(test_accuracy, \"iterations\", \"accuracy\", \"Accuracy vs epoch For test set\")"
   ]
  },
  {
   "cell_type": "code",
   "execution_count": 46,
   "metadata": {},
   "outputs": [
    {
     "data": {
      "image/png": "[encoded data removed]",
      "text/plain": [
       "<Figure size 576x360 with 1 Axes>"
      ]
     },
     "metadata": {
      "needs_background": "light"
     },
     "output_type": "display_data"
    }
   ],
   "source": [
    "plot_accuracy(validation_accuracy, \"iterations\", \"accuracy\", \"Accuracy vs epoch For Validation set\")"
   ]
  },
  {
   "cell_type": "code",
   "execution_count": 47,
   "metadata": {},
   "outputs": [
    {
     "data": {
      "image/png": "[encoded data removed]",
      "text/plain": [
       "<Figure size 576x360 with 1 Axes>"
      ]
     },
     "metadata": {
      "needs_background": "light"
     },
     "output_type": "display_data"
    }
   ],
   "source": [
    "plot_accuracy(loss_list, \"iterations\", \"loss\", \"Loss plot\")"
   ]
  },
  {
   "cell_type": "code",
   "execution_count": 49,
   "metadata": {},
   "outputs": [
    {
     "data": {
      "image/png": "[encoded data removed]",
      "text/plain": [
       "<Figure size 432x288 with 1 Axes>"
      ]
     },
     "metadata": {
      "needs_background": "light"
     },
     "output_type": "display_data"
    }
   ],
   "source": [
    "index = int(np.random.random() * test_x.shape[0])\n",
    "predict_labels(test_x, test_y, trained_parameters, index)"
   ]
  },
  {
   "cell_type": "code",
   "execution_count": null,
   "metadata": {},
   "outputs": [],
   "source": []
  }
 ],
 "metadata": {
  "kernelspec": {
   "display_name": "mlenv-310",
   "language": "python",
   "name": "python3"
  },
  "language_info": {
   "codemirror_mode": {
    "name": "ipython",
    "version": 3
   },
   "file_extension": ".py",
   "mimetype": "text/x-python",
   "name": "python",
   "nbconvert_exporter": "python",
   "pygments_lexer": "ipython3",
   "version": "3.10.11"
  },
  "orig_nbformat": 4
 },
 "nbformat": 4,
 "nbformat_minor": 2
}
