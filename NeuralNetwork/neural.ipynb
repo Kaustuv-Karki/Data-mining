{
 "cells": [
  {
   "cell_type": "code",
   "execution_count": 2,
   "metadata": {},
   "outputs": [
    {
     "name": "stdout",
     "output_type": "stream",
     "text": [
      "Collecting tqdm\n",
      "  Obtaining dependency information for tqdm from https://files.pythonhosted.org/packages/c0/ab/bd9ba7f84c509c8b377628bc66696d52623e30c6c0830db3c78748eec4b4/tqdm-4.65.2-py3-none-any.whl.metadata\n",
      "  Downloading tqdm-4.65.2-py3-none-any.whl.metadata (56 kB)\n",
      "\u001b[2K     \u001b[90m━━━━━━━━━━━━━━━━━━━━━━━━━━━━━━━━━━━━━━━\u001b[0m \u001b[32m57.0/57.0 kB\u001b[0m \u001b[31m459.0 kB/s\u001b[0m eta \u001b[36m0:00:00\u001b[0ma \u001b[36m0:00:01\u001b[0m\n",
      "\u001b[?25hDownloading tqdm-4.65.2-py3-none-any.whl (77 kB)\n",
      "\u001b[2K   \u001b[90m━━━━━━━━━━━━━━━━━━━━━━━━━━━━━━━━━━━━━━━━\u001b[0m \u001b[32m77.1/77.1 kB\u001b[0m \u001b[31m1.5 MB/s\u001b[0m eta \u001b[36m0:00:00\u001b[0ma \u001b[36m0:00:01\u001b[0m\n",
      "\u001b[?25hInstalling collected packages: tqdm\n",
      "Successfully installed tqdm-4.65.2\n"
     ]
    }
   ],
   "source": [
    "!pip install tqdm"
   ]
  },
  {
   "cell_type": "code",
   "execution_count": 19,
   "metadata": {},
   "outputs": [],
   "source": [
    "import pandas as pd\n",
    "import numpy as np\n",
    "import matplotlib.pyplot as plt\n",
    "from tqdm import tqdm\n",
    "from tqdm.notebook import tqdm_notebook"
   ]
  },
  {
   "cell_type": "code",
   "execution_count": 20,
   "metadata": {},
   "outputs": [],
   "source": [
    "data = pd.read_csv(\"./digit_data.csv\")"
   ]
  },
  {
   "cell_type": "code",
   "execution_count": 21,
   "metadata": {},
   "outputs": [],
   "source": [
    "df = pd.get_dummies(data[\"label\"], dtype=int)"
   ]
  },
  {
   "cell_type": "code",
   "execution_count": 22,
   "metadata": {},
   "outputs": [],
   "source": [
    "data_encoded = pd.concat([data,df], axis = 1)"
   ]
  },
  {
   "cell_type": "code",
   "execution_count": 23,
   "metadata": {},
   "outputs": [],
   "source": [
    "data_encoded = data_encoded.drop([\"label\"], axis =1)"
   ]
  },
  {
   "cell_type": "code",
   "execution_count": 74,
   "metadata": {},
   "outputs": [],
   "source": [
    "data_test = data_encoded[:1000]\n",
    "data_test.shape\n",
    "test_y = data_test.iloc[:, 784:]\n",
    "test_x = data_test.iloc[:,:784]\n"
   ]
  },
  {
   "cell_type": "code",
   "execution_count": 75,
   "metadata": {},
   "outputs": [],
   "source": [
    "data_train = data_encoded[1000:]\n",
    "data_test.shape\n",
    "train_y = data_train.iloc[:, 784:]\n",
    "train_x = data_train.iloc[:,:784]"
   ]
  },
  {
   "cell_type": "code",
   "execution_count": 76,
   "metadata": {},
   "outputs": [],
   "source": [
    "train_x = np.array(train_x)\n",
    "train_y = np.array(train_y)\n",
    "test_x = np.array(test_x)\n",
    "test_y = np.array(test_y)"
   ]
  },
  {
   "cell_type": "code",
   "execution_count": 70,
   "metadata": {},
   "outputs": [],
   "source": [
    "train_x = train_x.astype(\"float32\") / 255.0\n",
    "test_x = test_x.astype(\"float32\") / 255.0"
   ]
  },
  {
   "cell_type": "code",
   "execution_count": 32,
   "metadata": {},
   "outputs": [
    {
     "data": {
      "text/plain": [
       "Text(0.5, 1.0, 'The number is 6')"
      ]
     },
     "execution_count": 32,
     "metadata": {},
     "output_type": "execute_result"
    },
    {
     "data": {
      "image/png": "[encoded data removed]",
      "text/plain": [
       "<Figure size 432x288 with 1 Axes>"
      ]
     },
     "metadata": {
      "needs_background": "light"
     },
     "output_type": "display_data"
    }
   ],
   "source": [
    "index = int(np.random.random() * data_encoded.shape[0])\n",
    "plt.imshow(np.array(data.iloc[index, 1:]).reshape((28,28)), cmap=\"gray\")\n",
    "plt.title(f\"The number is {data.iloc[index,0]}\")"
   ]
  },
  {
   "cell_type": "code",
   "execution_count": 87,
   "metadata": {},
   "outputs": [],
   "source": [
    "def initialize_parameters(layer_dims, method =\"basic\"):\n",
    "    \"\"\"Layer dims contains the dimension of each layer in the neural network\"\"\"\n",
    "    parameters = {}\n",
    "\n",
    "    num_layers = len(layer_dims) # as the input layer is taken as 0\n",
    "    if(method == \"basic\"):\n",
    "        for i in range(1, num_layers):\n",
    "            parameters[f\"W{i}\"] = (np.random.random((layer_dims[i-1], layer_dims[i])) - 0.5).T\n",
    "            parameters[f\"b{i}\"] = (np.random.random((1, layer_dims[i])) - 0.5).T\n",
    "\n",
    "    if(method == \"xavier\"):\n",
    "        for i in range(1, num_layers):\n",
    "            parameters[f\"W{i}\"] = (np.random.rand(layer_dims[i], layer_dims[i-1]) * np.sqrt(1/layer_dims[i-1]))\n",
    "            parameters[f\"b{i}\"] = np.zeros((1, layer_dims[i])).T \n",
    "\n",
    "    if (method == \"he\"):\n",
    "        for i in range(1, num_layers):\n",
    "            parameters[f\"W{i}\"] = (np.random.rand(layer_dims[i], layer_dims[i-1]) * np.sqrt(2/layer_dims[i-1]))\n",
    "            parameters[f\"b{i}\"] = np.zeros((1, layer_dims[i])).T \n",
    "\n",
    "    if(method == \"xavier_normal\"):\n",
    "        for i in range(1, num_layers):\n",
    "            fan_in = layer_dims[i-1]\n",
    "            fan_out = layer_dims[i]\n",
    "            sd = np.sqrt(2/(fan_in + fan_out))\n",
    "            parameters[f\"W{i}\"] = (np.random.normal(0, sd, (layer_dims[i-1], layer_dims[i]))).T\n",
    "            parameters[f\"b{i}\"] = np.zeros((1, layer_dims[i])).T\n",
    "\n",
    "    if(method == \"xavier_uniform\"):\n",
    "        for i in range(1, num_layers):\n",
    "            fan_in = layer_dims[i-1]\n",
    "            fan_out = layer_dims[i]\n",
    "            m, n = -np.sqrt(6/(fan_in+fan_out)), np.sqrt(6/(fan_in+fan_out))\n",
    "            parameters[f\"W{i}\"] = (np.random.normal(m, n, (layer_dims[i-1],layer_dims[i]))).T\n",
    "            parameters[f\"b{i}\"] = np.zeros((1, layer_dims[i])).T\n",
    "    \n",
    "\n",
    "    if(method == \"he_uniform\"):\n",
    "        for i in range(1, num_layers):\n",
    "            fan_in = layer_dims[i-1]\n",
    "            m, n = -np.sqrt(6/(fan_in)), np.sqrt(6/(fan_in))\n",
    "            parameters[f\"W{i}\"] = (np.random.normal(m, n, (layer_dims[i-1],layer_dims[i]))).T\n",
    "            parameters[f\"b{i}\"] = np.zeros((1, layer_dims[i])).T\n",
    "    \n",
    "    if(method == \"he_normal\"):\n",
    "        for i in range(1, num_layers):\n",
    "            fan_in = layer_dims[i-1]\n",
    "            sd = np.sqrt(2/(fan_in))\n",
    "            parameters[f\"W{i}\"] = (np.random.normal(0, sd, (layer_dims[i-1], layer_dims[i]))).T\n",
    "            parameters[f\"b{i}\"] = np.zeros((1, layer_dims[i])).T\n",
    "\n",
    "    return parameters"
   ]
  },
  {
   "cell_type": "code",
   "execution_count": 88,
   "metadata": {},
   "outputs": [],
   "source": [
    "def relu(z):\n",
    "    return np.maximum(0, z)"
   ]
  },
  {
   "cell_type": "code",
   "execution_count": 89,
   "metadata": {},
   "outputs": [],
   "source": [
    "def softmax(z):\n",
    "    exp_z = np.exp(z - np.max(z, axis=0, keepdims=True)) # For numerical stability\n",
    "    return exp_z / np.sum(exp_z, axis=0, keepdims=True)"
   ]
  },
  {
   "cell_type": "code",
   "execution_count": 90,
   "metadata": {},
   "outputs": [],
   "source": [
    "def sigmoid(z):\n",
    "    return 1/ (1+np.exp(-z))"
   ]
  },
  {
   "cell_type": "code",
   "execution_count": 91,
   "metadata": {},
   "outputs": [],
   "source": [
    "def derivative_sigmoid(z):\n",
    "    sigmoid = 1/ (1+np.exp(-z))\n",
    "    return sigmoid*(1-sigmoid)"
   ]
  },
  {
   "cell_type": "code",
   "execution_count": 92,
   "metadata": {},
   "outputs": [],
   "source": [
    "def tanh(z):\n",
    "    return (np.exp(z) - np.exp(-z))/ (np.exp(z) + np.exp(-z))"
   ]
  },
  {
   "cell_type": "code",
   "execution_count": 93,
   "metadata": {},
   "outputs": [],
   "source": [
    "def derivative_tanh(z):\n",
    "    tanh = (np.exp(z) - np.exp(-z))/ (np.exp(z) + np.exp(-z))\n",
    "    return (1- tanh**2)"
   ]
  },
  {
   "cell_type": "code",
   "execution_count": 94,
   "metadata": {},
   "outputs": [],
   "source": [
    "def derivative_relu(z):\n",
    "    return z > 0"
   ]
  },
  {
   "cell_type": "code",
   "execution_count": 95,
   "metadata": {},
   "outputs": [],
   "source": [
    "def dropout(X, dropout_rate):\n",
    "    dropout_mask = (np.random.rand(*X.shape) < 1 - dropout_rate)\n",
    "    X *= dropout_mask / (1 - dropout_rate)\n",
    "    return X"
   ]
  },
  {
   "cell_type": "code",
   "execution_count": 96,
   "metadata": {},
   "outputs": [],
   "source": [
    "def forward_pass_test(X, parameters, dropout_rate):\n",
    "    cache = {}\n",
    "\n",
    "    num_layers = len(parameters)//2\n",
    "    # print(\"num_layers\" , num_layers)\n",
    "\n",
    "    A_final = 0\n",
    "\n",
    "    # print(\"forward pass\", parameters)\n",
    "\n",
    "    for i in range(1, len(parameters)//2): \n",
    "        W = parameters[f\"W{i}\"]\n",
    "        b = parameters[f\"b{i}\"]\n",
    "\n",
    "        if i == 1:\n",
    "            Z = np.dot(W,X) + b\n",
    "        else:\n",
    "            Z = np.dot(W,A) + b\n",
    "\n",
    "        # print(f\"W shape : {W.shape}  X shape = {X.shape}\")\n",
    "\n",
    "        A = relu(Z)\n",
    "        # print(f\"A shape : {A.shape}\")\n",
    "\n",
    "        # Apply dropout to the hidden layer activations\n",
    "        A = dropout(A, dropout_rate)\n",
    "\n",
    "        cache[f\"Z{i}\"] = Z\n",
    "        cache[f\"A{i}\"] = A\n",
    "\n",
    "        A_final = A\n",
    "\n",
    "\n",
    "    W_last = parameters[f\"W{num_layers}\"]\n",
    "    # print(f\"W{num_layers} shape : {W_last.shape}\")\n",
    "    b_last = parameters[f\"b{num_layers}\"]\n",
    "\n",
    "\n",
    "    # print(f\"A_final shape : {A_final.shape}\")\n",
    "    # print(W_last.shape, A_final.shape, b_last.shape)\n",
    "    Z_last = np.dot(W_last, cache[f\"A{num_layers-1}\"]) + b_last\n",
    "    val = cache[f\"A{num_layers-1}\"]\n",
    "    \n",
    "    # print(f\" W_last : {W_last.shape} last A - 1 shape : {val.shape}\")\n",
    "    \n",
    "    A_last = softmax(Z_last)\n",
    "\n",
    "    cache[f\"Z{num_layers}\"] = Z_last\n",
    "    cache[f\"A{num_layers}\"] = A_last\n",
    "    # print(f\"last A shape : {A_last.shape}\")\n",
    "\n",
    "    return cache, A_last"
   ]
  },
  {
   "cell_type": "code",
   "execution_count": 97,
   "metadata": {},
   "outputs": [],
   "source": [
    "def predict(X, parameters, dropout):\n",
    "    # print(\"parameters\" ,parameters)\n",
    "    _, A_last = forward_pass_test(X, parameters, dropout)\n",
    "    return np.argmax(A_last, axis=0)"
   ]
  },
  {
   "cell_type": "code",
   "execution_count": 106,
   "metadata": {},
   "outputs": [],
   "source": [
    "def accuracy(train_x, train_y, test_x, test_y, trained_parameters, dropout_rate, epoch,loss):\n",
    "        # for k,v  in trained_parameters.items():\n",
    "        #         print(f\"Parameters : {k}\")\n",
    "        predictions_test = predict(test_x.T, trained_parameters, dropout_rate)\n",
    "        predictions_train = predict(train_x.T, trained_parameters, dropout_rate)\n",
    "        validation_accuracy = np.mean(predictions_train == np.argmax(train_y.T, axis=0))\n",
    "        test_accuracy = np.mean(predictions_test == np.argmax(test_y.T, axis=0))\n",
    "        print(f\"Epoch {epoch}, Loss: {loss:.4f}, Validation Accuracy : {validation_accuracy * 100:.2f}%,Test Accuracy: {test_accuracy * 100:.2f}%\" )\n",
    "        return test_accuracy, validation_accuracy"
   ]
  },
  {
   "cell_type": "code",
   "execution_count": 107,
   "metadata": {},
   "outputs": [],
   "source": [
    "def backward_pass_test(X,Y,parameters,cache):\n",
    "    m = Y.shape[1]\n",
    "\n",
    "    temp = {}\n",
    "    out = {}\n",
    "\n",
    "    num_layers = len(parameters)//2\n",
    "\n",
    "\n",
    "    for layer in range(num_layers, 0, -1):\n",
    "        \n",
    "        if layer == num_layers:\n",
    "            temp[f\"dZ{layer}\"] = cache[f\"A{layer}\"] - Y\n",
    "            out[f\"dW{layer}\"] = np.dot(temp[f\"dZ{layer}\"], cache[f\"A{layer - 1}\"].T) /m\n",
    "            out[f\"db{layer}\"] = np.sum(temp[f\"dZ{layer}\"], axis = 1, keepdims = True) / m\n",
    "\n",
    "        elif layer > 1:\n",
    "            temp[f\"dA{layer}\"] = np.dot(parameters[f\"W{layer+1}\"].T, temp[f\"dZ{layer+1}\"])\n",
    "            temp[f\"dZ{layer}\"] = temp[f\"dA{layer}\"] * derivative_relu(cache[f\"Z{layer}\"])\n",
    "            out[f\"dW{layer}\"] = np.dot(temp[f\"dZ{layer}\"], cache[f\"A{layer-1}\"].T) / m\n",
    "            out[f\"db{layer}\"] = np.sum(temp[f\"dZ{layer}\"], axis = 1, keepdims = True) / m\n",
    "\n",
    "        else:\n",
    "            temp[f\"dA{layer}\"] = np.dot(parameters[f\"W{layer+1}\"].T, temp[f\"dZ{layer + 1}\"])\n",
    "            temp[f\"dZ{layer}\"] =  temp[f\"dA{layer}\"] * derivative_relu(cache[f\"Z{layer}\"])\n",
    "            # dW1 = np.dot(dZ1, X.T) / m\n",
    "            # db1 = np.sum(dZ1, axis=1, keepdims=True) / m\n",
    "            out[f\"dW{layer}\"] = np.dot(temp[f\"dZ{layer}\"], X.T) / m\n",
    "            out[f\"db{layer}\"] = np.sum(temp[f\"dZ{layer}\"], axis=1, keepdims=True) / m\n",
    "            \n",
    "    # Z1 = cache[\"Z1\"]\n",
    "    # A1 = cache[\"A1\"]\n",
    "    # Z2 = cache[\"Z2\"]\n",
    "    # A2 = cache[\"A2\"]\n",
    "    # Z3 = cache[\"Z3\"]\n",
    "    # A3 = cache[\"A3\"]\n",
    "\n",
    "\n",
    "    # W1 = parameters[\"W1\"]\n",
    "    # b1 = parameters[\"b1\"]\n",
    "    # W2 = parameters[\"W2\"]\n",
    "    # b2 = parameters[\"b2\"]\n",
    "    # W3 = parameters[\"W3\"]\n",
    "    # b3 = parameters[\"b3\"]\n",
    "\n",
    "    # print(f\"A2 = {A2.shape}   y = {Y.shape}\")\n",
    "    # dZ3 = A3 - Y\n",
    "    # dW3 = np.dot(dZ3, A2.T) / m\n",
    "    # db3 = np.sum(dZ3, axis=1, keepdims=True) / m\n",
    "\n",
    "    # dA2 = np.dot(W3.T, dZ3)\n",
    "    # dZ2 = dA2 * derivative_relu(Z2)  # Derivative of ReLU\n",
    "    # dW2 = np.dot(dZ2, A1.T) / m\n",
    "    # db2 = np.sum(dZ2, axis=1, keepdims=True) / m\n",
    "\n",
    "    # dA1 = np.dot(W2.T, dZ2)\n",
    "    # dZ1 = dA1 * derivative_relu(Z1)  # Derivative of ReLU\n",
    "    # dW1 = np.dot(dZ1, X.T) / m\n",
    "    # db1 = np.sum(dZ1, axis=1, keepdims=True) / m\n",
    "\n",
    "    # gradients = {\"dW1\": dW1, \"db1\": db1, \"dW2\": dW2, \"db2\": db2, \"dW3\": dW3, \"db3\": db3}\n",
    "\n",
    "    gradients = out\n",
    "    \n",
    "    return gradients"
   ]
  },
  {
   "cell_type": "code",
   "execution_count": 108,
   "metadata": {},
   "outputs": [],
   "source": [
    "def cross_entropy_loss(Y_pred, Y_true):\n",
    "    m = Y_true.shape[1]\n",
    "    loss = -np.sum(Y_true * np.log(Y_pred + 1e-8)) / m\n",
    "    return loss"
   ]
  },
  {
   "cell_type": "code",
   "execution_count": 109,
   "metadata": {},
   "outputs": [],
   "source": [
    "def update_parameters_test(parameters, gradients, learning_rate):\n",
    " \n",
    "    cache = {}\n",
    "    for i in range(1, len(parameters)//2 + 1):\n",
    "        w = parameters[f\"W{i}\"]\n",
    "        b = parameters[f\"b{i}\"]\n",
    "\n",
    "        dw = gradients[f\"dW{i}\"]\n",
    "        db = gradients[f\"db{i}\"]\n",
    "\n",
    "        w -= learning_rate * dw\n",
    "        b -= learning_rate * db\n",
    "\n",
    "        cache[f\"W{i}\"] = w\n",
    "        cache[f\"b{i}\"] = b\n",
    "\n",
    "    return cache"
   ]
  },
  {
   "cell_type": "code",
   "execution_count": 110,
   "metadata": {},
   "outputs": [],
   "source": [
    "def train(X, Y, test_x, test_y, hidden_size, output_size, learning_rate, epochs, dropout_rate):\n",
    "    input_size = X.shape[0]\n",
    "    parameters = initialize_parameters([input_size, *hidden_size, output_size], method=\"he_normal\")\n",
    "    # print(parameters)\n",
    "\n",
    "    test_accuracy_list = []\n",
    "    validation_accuracy_list = []\n",
    "    loss_list = []\n",
    "    for epoch in tqdm_notebook(range(epochs), desc=\"Training progress: \"):\n",
    "        cache, A = forward_pass_test(X, parameters, dropout_rate)\n",
    "        loss = cross_entropy_loss(A, Y)\n",
    "        loss_list.append(loss)\n",
    "        gradients = backward_pass_test(X, Y, parameters, cache)\n",
    "        # print(gradients)\n",
    "        parameters = update_parameters_test(parameters, gradients, learning_rate)\n",
    "\n",
    "        if epoch % 1 == 0:\n",
    "            trained_parameters = parameters\n",
    "            test_accuracy, validation_accuracy= accuracy(train_x, train_y, test_x, test_y,trained_parameters, dropout_rate, epoch, loss)\n",
    "            test_accuracy_list.append(test_accuracy)\n",
    "            validation_accuracy_list.append(validation_accuracy)\n",
    "    return parameters, test_accuracy_list, validation_accuracy_list, loss_list"
   ]
  },
  {
   "cell_type": "code",
   "execution_count": 111,
   "metadata": {},
   "outputs": [],
   "source": [
    "def predict_labels(test_x, test_y, trained_parameters, index):\n",
    "    value = predict(test_x.T, trained_parameters, 0)\n",
    "    prediction = value[index]\n",
    "    actual = np.argmax(test_y[index])\n",
    "    plt.title(f\" Actual : {actual}   Prediction : {prediction}\")\n",
    "    plt.imshow(np.array(test_x[index]).reshape((28,28)), cmap=\"gray\")"
   ]
  },
  {
   "cell_type": "code",
   "execution_count": 112,
   "metadata": {},
   "outputs": [],
   "source": [
    "def plot_accuracy(values, x_label, y_label, title):\n",
    "    plt.title(title)\n",
    "    plt.xlabel(x_label)\n",
    "    plt.ylabel(y_label)\n",
    "    plt.plot(values)"
   ]
  },
  {
   "cell_type": "code",
   "execution_count": 113,
   "metadata": {},
   "outputs": [
    {
     "data": {
      "application/vnd.jupyter.widget-view+json": {
       "model_id": "b5fa3df2823a494fb09515f83be1a539",
       "version_major": 2,
       "version_minor": 0
      },
      "text/plain": [
       "Training progress:   0%|          | 0/100 [00:00<?, ?it/s]"
      ]
     },
     "metadata": {},
     "output_type": "display_data"
    },
    {
     "name": "stdout",
     "output_type": "stream",
     "text": [
      "Epoch 0, Loss: 15.7504, Validation Accuracy : 22.41%,Test Accuracy: 24.80%\n",
      "Epoch 1, Loss: 13.7727, Validation Accuracy : 28.88%,Test Accuracy: 26.40%\n",
      "Epoch 2, Loss: 12.3967, Validation Accuracy : 27.20%,Test Accuracy: 26.40%\n",
      "Epoch 3, Loss: 12.9120, Validation Accuracy : 35.40%,Test Accuracy: 34.90%\n",
      "Epoch 4, Loss: 10.9458, Validation Accuracy : 47.88%,Test Accuracy: 48.20%\n",
      "Epoch 5, Loss: 8.4763, Validation Accuracy : 61.46%,Test Accuracy: 62.00%\n",
      "Epoch 6, Loss: 5.6335, Validation Accuracy : 65.51%,Test Accuracy: 65.40%\n",
      "Epoch 7, Loss: 4.9110, Validation Accuracy : 67.51%,Test Accuracy: 66.10%\n",
      "Epoch 8, Loss: 4.6061, Validation Accuracy : 68.79%,Test Accuracy: 66.50%\n",
      "Epoch 9, Loss: 4.4004, Validation Accuracy : 69.80%,Test Accuracy: 67.50%\n",
      "Epoch 10, Loss: 4.2198, Validation Accuracy : 70.76%,Test Accuracy: 68.50%\n",
      "Epoch 11, Loss: 4.0643, Validation Accuracy : 71.45%,Test Accuracy: 69.40%\n",
      "Epoch 12, Loss: 3.9247, Validation Accuracy : 72.24%,Test Accuracy: 70.10%\n",
      "Epoch 13, Loss: 3.7998, Validation Accuracy : 72.93%,Test Accuracy: 70.90%\n",
      "Epoch 14, Loss: 3.6878, Validation Accuracy : 73.63%,Test Accuracy: 71.40%\n",
      "Epoch 15, Loss: 3.5860, Validation Accuracy : 74.22%,Test Accuracy: 72.00%\n",
      "Epoch 16, Loss: 3.4938, Validation Accuracy : 74.79%,Test Accuracy: 72.70%\n",
      "Epoch 17, Loss: 3.4083, Validation Accuracy : 75.30%,Test Accuracy: 72.90%\n",
      "Epoch 18, Loss: 3.3289, Validation Accuracy : 75.66%,Test Accuracy: 73.10%\n",
      "Epoch 19, Loss: 3.2546, Validation Accuracy : 76.07%,Test Accuracy: 73.30%\n",
      "Epoch 20, Loss: 3.1852, Validation Accuracy : 76.53%,Test Accuracy: 73.70%\n",
      "Epoch 21, Loss: 3.1205, Validation Accuracy : 76.93%,Test Accuracy: 73.90%\n",
      "Epoch 22, Loss: 3.0605, Validation Accuracy : 77.29%,Test Accuracy: 74.50%\n",
      "Epoch 23, Loss: 3.0042, Validation Accuracy : 77.61%,Test Accuracy: 75.40%\n",
      "Epoch 24, Loss: 2.9512, Validation Accuracy : 77.89%,Test Accuracy: 76.00%\n",
      "Epoch 25, Loss: 2.9014, Validation Accuracy : 78.22%,Test Accuracy: 76.50%\n",
      "Epoch 26, Loss: 2.8540, Validation Accuracy : 78.50%,Test Accuracy: 76.60%\n",
      "Epoch 27, Loss: 2.8091, Validation Accuracy : 78.75%,Test Accuracy: 77.10%\n",
      "Epoch 28, Loss: 2.7666, Validation Accuracy : 79.01%,Test Accuracy: 77.60%\n",
      "Epoch 29, Loss: 2.7261, Validation Accuracy : 79.27%,Test Accuracy: 77.70%\n",
      "Epoch 30, Loss: 2.6875, Validation Accuracy : 79.50%,Test Accuracy: 77.80%\n",
      "Epoch 31, Loss: 2.6510, Validation Accuracy : 79.69%,Test Accuracy: 77.90%\n",
      "Epoch 32, Loss: 2.6163, Validation Accuracy : 79.93%,Test Accuracy: 78.20%\n",
      "Epoch 33, Loss: 2.5832, Validation Accuracy : 80.11%,Test Accuracy: 78.50%\n",
      "Epoch 34, Loss: 2.5516, Validation Accuracy : 80.27%,Test Accuracy: 78.40%\n",
      "Epoch 35, Loss: 2.5212, Validation Accuracy : 80.44%,Test Accuracy: 78.40%\n",
      "Epoch 36, Loss: 2.4918, Validation Accuracy : 80.66%,Test Accuracy: 78.70%\n",
      "Epoch 37, Loss: 2.4636, Validation Accuracy : 80.81%,Test Accuracy: 78.90%\n",
      "Epoch 38, Loss: 2.4363, Validation Accuracy : 81.00%,Test Accuracy: 78.90%\n",
      "Epoch 39, Loss: 2.4100, Validation Accuracy : 81.18%,Test Accuracy: 78.90%\n",
      "Epoch 40, Loss: 2.3849, Validation Accuracy : 81.34%,Test Accuracy: 79.10%\n",
      "Epoch 41, Loss: 2.3605, Validation Accuracy : 81.50%,Test Accuracy: 79.30%\n",
      "Epoch 42, Loss: 2.3371, Validation Accuracy : 81.67%,Test Accuracy: 79.30%\n",
      "Epoch 43, Loss: 2.3145, Validation Accuracy : 81.81%,Test Accuracy: 79.60%\n",
      "Epoch 44, Loss: 2.2926, Validation Accuracy : 81.97%,Test Accuracy: 79.60%\n",
      "Epoch 45, Loss: 2.2712, Validation Accuracy : 82.08%,Test Accuracy: 80.10%\n",
      "Epoch 46, Loss: 2.2505, Validation Accuracy : 82.21%,Test Accuracy: 80.20%\n",
      "Epoch 47, Loss: 2.2302, Validation Accuracy : 82.38%,Test Accuracy: 80.40%\n",
      "Epoch 48, Loss: 2.2105, Validation Accuracy : 82.47%,Test Accuracy: 80.50%\n",
      "Epoch 49, Loss: 2.1913, Validation Accuracy : 82.58%,Test Accuracy: 80.50%\n",
      "Epoch 50, Loss: 2.1724, Validation Accuracy : 82.70%,Test Accuracy: 80.50%\n",
      "Epoch 51, Loss: 2.1540, Validation Accuracy : 82.82%,Test Accuracy: 80.70%\n",
      "Epoch 52, Loss: 2.1361, Validation Accuracy : 82.93%,Test Accuracy: 80.80%\n",
      "Epoch 53, Loss: 2.1186, Validation Accuracy : 83.00%,Test Accuracy: 80.90%\n",
      "Epoch 54, Loss: 2.1015, Validation Accuracy : 83.11%,Test Accuracy: 81.10%\n",
      "Epoch 55, Loss: 2.0848, Validation Accuracy : 83.23%,Test Accuracy: 81.10%\n",
      "Epoch 56, Loss: 2.0684, Validation Accuracy : 83.32%,Test Accuracy: 81.20%\n",
      "Epoch 57, Loss: 2.0523, Validation Accuracy : 83.40%,Test Accuracy: 81.20%\n",
      "Epoch 58, Loss: 2.0366, Validation Accuracy : 83.48%,Test Accuracy: 81.30%\n",
      "Epoch 59, Loss: 2.0211, Validation Accuracy : 83.56%,Test Accuracy: 81.30%\n",
      "Epoch 60, Loss: 2.0059, Validation Accuracy : 83.62%,Test Accuracy: 81.30%\n",
      "Epoch 61, Loss: 1.9911, Validation Accuracy : 83.71%,Test Accuracy: 81.30%\n",
      "Epoch 62, Loss: 1.9765, Validation Accuracy : 83.82%,Test Accuracy: 81.40%\n",
      "Epoch 63, Loss: 1.9622, Validation Accuracy : 83.91%,Test Accuracy: 81.60%\n",
      "Epoch 64, Loss: 1.9481, Validation Accuracy : 83.98%,Test Accuracy: 81.80%\n",
      "Epoch 65, Loss: 1.9343, Validation Accuracy : 84.06%,Test Accuracy: 81.70%\n",
      "Epoch 66, Loss: 1.9208, Validation Accuracy : 84.12%,Test Accuracy: 81.80%\n",
      "Epoch 67, Loss: 1.9074, Validation Accuracy : 84.16%,Test Accuracy: 81.80%\n",
      "Epoch 68, Loss: 1.8943, Validation Accuracy : 84.26%,Test Accuracy: 81.90%\n",
      "Epoch 69, Loss: 1.8815, Validation Accuracy : 84.33%,Test Accuracy: 82.10%\n",
      "Epoch 70, Loss: 1.8689, Validation Accuracy : 84.39%,Test Accuracy: 82.20%\n",
      "Epoch 71, Loss: 1.8566, Validation Accuracy : 84.46%,Test Accuracy: 82.20%\n",
      "Epoch 72, Loss: 1.8444, Validation Accuracy : 84.54%,Test Accuracy: 82.30%\n",
      "Epoch 73, Loss: 1.8324, Validation Accuracy : 84.59%,Test Accuracy: 82.40%\n",
      "Epoch 74, Loss: 1.8207, Validation Accuracy : 84.66%,Test Accuracy: 82.50%\n",
      "Epoch 75, Loss: 1.8092, Validation Accuracy : 84.73%,Test Accuracy: 82.60%\n",
      "Epoch 76, Loss: 1.7979, Validation Accuracy : 84.80%,Test Accuracy: 82.60%\n",
      "Epoch 77, Loss: 1.7867, Validation Accuracy : 84.88%,Test Accuracy: 82.70%\n",
      "Epoch 78, Loss: 1.7758, Validation Accuracy : 84.96%,Test Accuracy: 82.80%\n",
      "Epoch 79, Loss: 1.7651, Validation Accuracy : 85.00%,Test Accuracy: 82.70%\n",
      "Epoch 80, Loss: 1.7547, Validation Accuracy : 85.09%,Test Accuracy: 82.70%\n",
      "Epoch 81, Loss: 1.7443, Validation Accuracy : 85.14%,Test Accuracy: 82.70%\n",
      "Epoch 82, Loss: 1.7342, Validation Accuracy : 85.21%,Test Accuracy: 82.60%\n",
      "Epoch 83, Loss: 1.7242, Validation Accuracy : 85.29%,Test Accuracy: 82.70%\n",
      "Epoch 84, Loss: 1.7144, Validation Accuracy : 85.36%,Test Accuracy: 82.80%\n",
      "Epoch 85, Loss: 1.7047, Validation Accuracy : 85.40%,Test Accuracy: 82.80%\n",
      "Epoch 86, Loss: 1.6952, Validation Accuracy : 85.46%,Test Accuracy: 82.70%\n",
      "Epoch 87, Loss: 1.6859, Validation Accuracy : 85.50%,Test Accuracy: 82.80%\n",
      "Epoch 88, Loss: 1.6767, Validation Accuracy : 85.56%,Test Accuracy: 82.80%\n",
      "Epoch 89, Loss: 1.6676, Validation Accuracy : 85.62%,Test Accuracy: 82.80%\n",
      "Epoch 90, Loss: 1.6587, Validation Accuracy : 85.67%,Test Accuracy: 82.80%\n",
      "Epoch 91, Loss: 1.6499, Validation Accuracy : 85.73%,Test Accuracy: 82.90%\n",
      "Epoch 92, Loss: 1.6412, Validation Accuracy : 85.77%,Test Accuracy: 82.90%\n",
      "Epoch 93, Loss: 1.6327, Validation Accuracy : 85.82%,Test Accuracy: 83.00%\n",
      "Epoch 94, Loss: 1.6242, Validation Accuracy : 85.89%,Test Accuracy: 83.00%\n",
      "Epoch 95, Loss: 1.6159, Validation Accuracy : 85.95%,Test Accuracy: 83.20%\n",
      "Epoch 96, Loss: 1.6077, Validation Accuracy : 85.99%,Test Accuracy: 83.20%\n",
      "Epoch 97, Loss: 1.5996, Validation Accuracy : 86.05%,Test Accuracy: 83.20%\n",
      "Epoch 98, Loss: 1.5916, Validation Accuracy : 86.10%,Test Accuracy: 83.20%\n",
      "Epoch 99, Loss: 1.5837, Validation Accuracy : 86.15%,Test Accuracy: 83.20%\n",
      "Accuracy on test set: 83.20%\n"
     ]
    }
   ],
   "source": [
    "input_size = train_x.shape[1]\n",
    "output_size = train_y.shape[1]\n",
    "\n",
    "hidden_size = [256, 128]\n",
    "learning_rate = 0.001\n",
    "iterations = 100\n",
    "epoch = int(100)\n",
    "dropout_rate = 0  # Example dropout rate of 20% (0.2)\n",
    "\n",
    "trained_parameters, validation_accuracy, test_accuracy, loss_list = train(train_x.T, train_y.T, test_x, test_y, hidden_size, output_size, learning_rate, iterations, dropout_rate)\n",
    "predictions = predict(test_x.T, trained_parameters, dropout_rate)\n",
    "\n",
    "# Calculate accuracy\n",
    "accuracy_value = np.mean(predictions == np.argmax(test_y.T, axis=0))\n",
    "print(f\"Accuracy on test set: {accuracy_value * 100:.2f}%\")"
   ]
  },
  {
   "cell_type": "code",
   "execution_count": 114,
   "metadata": {},
   "outputs": [
    {
     "data": {
      "image/png": "[encoded data removed]",
      "text/plain": [
       "<Figure size 432x288 with 1 Axes>"
      ]
     },
     "metadata": {
      "needs_background": "light"
     },
     "output_type": "display_data"
    }
   ],
   "source": [
    "plot_accuracy(test_accuracy, \"iterations\", \"accuracy\", \"Accuracy vs epoch For test set\")"
   ]
  },
  {
   "cell_type": "code",
   "execution_count": 115,
   "metadata": {},
   "outputs": [
    {
     "data": {
      "image/png": "[encoded data removed]",
      "text/plain": [
       "<Figure size 432x288 with 1 Axes>"
      ]
     },
     "metadata": {
      "needs_background": "light"
     },
     "output_type": "display_data"
    }
   ],
   "source": [
    "plot_accuracy(validation_accuracy, \"iterations\", \"accuracy\", \"Accuracy vs epoch For Validation set\")"
   ]
  },
  {
   "cell_type": "code",
   "execution_count": 116,
   "metadata": {},
   "outputs": [
    {
     "data": {
      "image/png": "[encoded data removed]",
      "text/plain": [
       "<Figure size 432x288 with 1 Axes>"
      ]
     },
     "metadata": {
      "needs_background": "light"
     },
     "output_type": "display_data"
    }
   ],
   "source": [
    "index = int(np.random.random() * test_x.shape[0])\n",
    "predict_labels(test_x, test_y, trained_parameters, index)"
   ]
  },
  {
   "cell_type": "code",
   "execution_count": null,
   "metadata": {},
   "outputs": [],
   "source": []
  }
 ],
 "metadata": {
  "kernelspec": {
   "display_name": "mlenv-310",
   "language": "python",
   "name": "python3"
  },
  "language_info": {
   "codemirror_mode": {
    "name": "ipython",
    "version": 3
   },
   "file_extension": ".py",
   "mimetype": "text/x-python",
   "name": "python",
   "nbconvert_exporter": "python",
   "pygments_lexer": "ipython3",
   "version": "3.10.11"
  },
  "orig_nbformat": 4
 },
 "nbformat": 4,
 "nbformat_minor": 2
}
