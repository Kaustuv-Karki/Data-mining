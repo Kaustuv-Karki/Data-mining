{
 "cells": [
  {
   "cell_type": "code",
   "execution_count": 2,
   "metadata": {},
   "outputs": [
    {
     "name": "stdout",
     "output_type": "stream",
     "text": [
      "Collecting tqdm\n",
      "  Obtaining dependency information for tqdm from https://files.pythonhosted.org/packages/c0/ab/bd9ba7f84c509c8b377628bc66696d52623e30c6c0830db3c78748eec4b4/tqdm-4.65.2-py3-none-any.whl.metadata\n",
      "  Downloading tqdm-4.65.2-py3-none-any.whl.metadata (56 kB)\n",
      "\u001b[2K     \u001b[90m━━━━━━━━━━━━━━━━━━━━━━━━━━━━━━━━━━━━━━━\u001b[0m \u001b[32m57.0/57.0 kB\u001b[0m \u001b[31m459.0 kB/s\u001b[0m eta \u001b[36m0:00:00\u001b[0ma \u001b[36m0:00:01\u001b[0m\n",
      "\u001b[?25hDownloading tqdm-4.65.2-py3-none-any.whl (77 kB)\n",
      "\u001b[2K   \u001b[90m━━━━━━━━━━━━━━━━━━━━━━━━━━━━━━━━━━━━━━━━\u001b[0m \u001b[32m77.1/77.1 kB\u001b[0m \u001b[31m1.5 MB/s\u001b[0m eta \u001b[36m0:00:00\u001b[0ma \u001b[36m0:00:01\u001b[0m\n",
      "\u001b[?25hInstalling collected packages: tqdm\n",
      "Successfully installed tqdm-4.65.2\n"
     ]
    }
   ],
   "source": [
    "!pip install tqdm"
   ]
  },
  {
   "cell_type": "code",
   "execution_count": 3,
   "metadata": {},
   "outputs": [],
   "source": [
    "import pandas as pd\n",
    "import numpy as np\n",
    "import matplotlib.pyplot as plt\n",
    "from tqdm import tqdm\n",
    "from tqdm.notebook import tqdm_notebook"
   ]
  },
  {
   "cell_type": "code",
   "execution_count": 4,
   "metadata": {},
   "outputs": [],
   "source": [
    "data = pd.read_csv(\"./digit_data.csv\")"
   ]
  },
  {
   "cell_type": "code",
   "execution_count": 5,
   "metadata": {},
   "outputs": [],
   "source": [
    "df = pd.get_dummies(data[\"label\"], dtype=int)"
   ]
  },
  {
   "cell_type": "code",
   "execution_count": 6,
   "metadata": {},
   "outputs": [],
   "source": [
    "data_encoded = pd.concat([data,df], axis = 1)"
   ]
  },
  {
   "cell_type": "code",
   "execution_count": 7,
   "metadata": {},
   "outputs": [],
   "source": [
    "data_encoded = data_encoded.drop([\"label\"], axis =1)"
   ]
  },
  {
   "cell_type": "code",
   "execution_count": 8,
   "metadata": {},
   "outputs": [],
   "source": [
    "data_test = data_encoded[:1000]\n",
    "data_test.shape\n",
    "test_y = data_test.iloc[:, 784:]\n",
    "test_x = data_test.iloc[:,:784]\n"
   ]
  },
  {
   "cell_type": "code",
   "execution_count": 9,
   "metadata": {},
   "outputs": [],
   "source": [
    "data_train = data_encoded[1000:]\n",
    "data_test.shape\n",
    "train_y = data_train.iloc[:, 784:]\n",
    "train_x = data_train.iloc[:,:784]"
   ]
  },
  {
   "cell_type": "code",
   "execution_count": 10,
   "metadata": {},
   "outputs": [],
   "source": [
    "train_x = np.array(train_x)\n",
    "train_y = np.array(train_y)\n",
    "test_x = np.array(test_x)\n",
    "test_y = np.array(test_y)"
   ]
  },
  {
   "cell_type": "code",
   "execution_count": 11,
   "metadata": {},
   "outputs": [
    {
     "data": {
      "text/plain": [
       "Text(0.5, 1.0, 'The number is 8')"
      ]
     },
     "execution_count": 11,
     "metadata": {},
     "output_type": "execute_result"
    },
    {
     "data": {
      "image/png": "[encoded data removed]",
      "text/plain": [
       "<Figure size 640x480 with 1 Axes>"
      ]
     },
     "metadata": {},
     "output_type": "display_data"
    }
   ],
   "source": [
    "index = int(np.random.random() * data_encoded.shape[0])\n",
    "plt.imshow(np.array(data.iloc[index, 1:]).reshape((28,28)), cmap=\"gray\")\n",
    "plt.title(f\"The number is {data.iloc[index,0]}\")"
   ]
  },
  {
   "cell_type": "code",
   "execution_count": 12,
   "metadata": {},
   "outputs": [],
   "source": [
    "def initialize_parameters(layer_dims, method =\"basic\"):\n",
    "    \"\"\"Layer dims contains the dimension of each layer in the neural network\"\"\"\n",
    "    parameters = {}\n",
    "\n",
    "    num_layers = len(layer_dims) # as the input layer is taken as 0\n",
    "    if(method == \"basic\"):\n",
    "        for i in range(1, num_layers):\n",
    "            parameters[f\"W{i}\"] = (np.random.random((layer_dims[i-1], layer_dims[i])) - 0.5).T\n",
    "            parameters[f\"b{i}\"] = (np.random.random((1, layer_dims[i])) - 0.5).T\n",
    "\n",
    "    if(method == \"xavier_normal\"):\n",
    "        for i in range(1, num_layers):\n",
    "            fan_in = layer_dims[i-1]\n",
    "            fan_out = layer_dims[i]\n",
    "            sd = np.sqrt(2/(fan_in + fan_out))\n",
    "            parameters[f\"W{i}\"] = (np.random.normal(0, sd, (layer_dims[i-1], layer_dims[i]))).T\n",
    "            parameters[f\"b{i}\"] = np.zeros((1, layer_dims[i])).T\n",
    "\n",
    "    if(method == \"xavier_uniform\"):\n",
    "        for i in range(1, num_layers):\n",
    "            fan_in = layer_dims[i-1]\n",
    "            fan_out = layer_dims[i]\n",
    "            m, n = -np.sqrt(6/(fan_in+fan_out)), np.sqrt(6/(fan_in+fan_out))\n",
    "            parameters[f\"W{i}\"] = (np.random.normal(m, n, (layer_dims[i-1],layer_dims[i]))).T\n",
    "            parameters[f\"b{i}\"] = np.zeros((1, layer_dims[i])).T\n",
    "    \n",
    "\n",
    "    if(method == \"he_uniform\"):\n",
    "        for i in range(1, num_layers):\n",
    "            fan_in = layer_dims[i-1]\n",
    "            m, n = -np.sqrt(6/(fan_in)), np.sqrt(6/(fan_in))\n",
    "            parameters[f\"W{i}\"] = (np.random.normal(m, n, (layer_dims[i-1],layer_dims[i]))).T\n",
    "            parameters[f\"b{i}\"] = np.zeros((1, layer_dims[i])).T\n",
    "    \n",
    "    if(method == \"he_normal\"):\n",
    "        for i in range(1, num_layers):\n",
    "            fan_in = layer_dims[i-1]\n",
    "            sd = np.sqrt(2/(fan_in))\n",
    "            parameters[f\"W{i}\"] = (np.random.normal(0, sd, (layer_dims[i-1], layer_dims[i]))).T\n",
    "            parameters[f\"b{i}\"] = np.zeros((1, layer_dims[i])).T\n",
    "\n",
    "    return parameters"
   ]
  },
  {
   "cell_type": "code",
   "execution_count": 13,
   "metadata": {},
   "outputs": [],
   "source": [
    "def relu(z):\n",
    "    return np.maximum(0, z)"
   ]
  },
  {
   "cell_type": "code",
   "execution_count": 14,
   "metadata": {},
   "outputs": [],
   "source": [
    "def softmax(z):\n",
    "    exp_z = np.exp(z - np.max(z, axis=0, keepdims=True)) # For numerical stability\n",
    "    return exp_z / np.sum(exp_z, axis=0, keepdims=True)"
   ]
  },
  {
   "cell_type": "code",
   "execution_count": 15,
   "metadata": {},
   "outputs": [],
   "source": [
    "def sigmoid(z):\n",
    "    return 1/ (1+np.exp(-z))"
   ]
  },
  {
   "cell_type": "code",
   "execution_count": 16,
   "metadata": {},
   "outputs": [],
   "source": [
    "def derivative_sigmoid(z):\n",
    "    sigmoid = 1/ (1+np.exp(-z))\n",
    "    return sigmoid*(1-sigmoid)"
   ]
  },
  {
   "cell_type": "code",
   "execution_count": 17,
   "metadata": {},
   "outputs": [],
   "source": [
    "def tanh(z):\n",
    "    return (np.exp(z) - np.exp(-z))/ (np.exp(z) + np.exp(-z))"
   ]
  },
  {
   "cell_type": "code",
   "execution_count": 18,
   "metadata": {},
   "outputs": [],
   "source": [
    "def derivative_tanh(z):\n",
    "    tanh = (np.exp(z) - np.exp(-z))/ (np.exp(z) + np.exp(-z))\n",
    "    return (1- tanh**2)"
   ]
  },
  {
   "cell_type": "code",
   "execution_count": 19,
   "metadata": {},
   "outputs": [],
   "source": [
    "def derivative_relu(z):\n",
    "    return z > 0"
   ]
  },
  {
   "cell_type": "code",
   "execution_count": 20,
   "metadata": {},
   "outputs": [],
   "source": [
    "def dropout(X, dropout_rate):\n",
    "    dropout_mask = (np.random.rand(*X.shape) < 1 - dropout_rate)\n",
    "    X *= dropout_mask / (1 - dropout_rate)\n",
    "    return X"
   ]
  },
  {
   "cell_type": "code",
   "execution_count": 21,
   "metadata": {},
   "outputs": [],
   "source": [
    "def forward_pass_test(X, parameters, dropout_rate):\n",
    "    cache = {}\n",
    "\n",
    "    num_layers = len(parameters)//2\n",
    "    # print(\"num_layers\" , num_layers)\n",
    "\n",
    "    A_final = 0\n",
    "\n",
    "    # print(\"forward pass\", parameters)\n",
    "\n",
    "    for i in range(1, len(parameters)//2): \n",
    "        W = parameters[f\"W{i}\"]\n",
    "        b = parameters[f\"b{i}\"]\n",
    "\n",
    "        if i == 1:\n",
    "            Z = np.dot(W,X) + b\n",
    "        else:\n",
    "            Z = np.dot(W,A) + b\n",
    "\n",
    "        print(f\"W shape : {W.shape}  X shape = {X.shape}\")\n",
    "\n",
    "        A = relu(Z)\n",
    "        print(f\"A shape : {A.shape}\")\n",
    "\n",
    "        # Apply dropout to the hidden layer activations\n",
    "        A = dropout(A, dropout_rate)\n",
    "\n",
    "        cache[f\"Z{i}\"] = Z\n",
    "        cache[f\"A{i}\"] = A\n",
    "\n",
    "        A_final = A\n",
    "\n",
    "\n",
    "    W_last = parameters[f\"W{num_layers}\"]\n",
    "    # print(f\"W{num_layers} shape : {W_last.shape}\")\n",
    "    b_last = parameters[f\"b{num_layers}\"]\n",
    "\n",
    "\n",
    "    # print(f\"A_final shape : {A_final.shape}\")\n",
    "    # print(W_last.shape, A_final.shape, b_last.shape)\n",
    "    Z_last = np.dot(W_last, cache[f\"A{num_layers-1}\"]) + b_last\n",
    "    val = cache[f\"A{num_layers-1}\"]\n",
    "    \n",
    "    print(f\" W_last : {W_last.shape} last A - 1 shape : {val.shape}\")\n",
    "    \n",
    "    A_last = softmax(Z_last)\n",
    "\n",
    "    cache[f\"Z{num_layers}\"] = Z_last\n",
    "    cache[f\"A{num_layers}\"] = A_last\n",
    "    print(f\"last A shape : {A_last.shape}\")\n",
    "\n",
    "    return cache, A_last"
   ]
  },
  {
   "cell_type": "code",
   "execution_count": 22,
   "metadata": {},
   "outputs": [],
   "source": [
    "def predict(X, parameters, dropout):\n",
    "    # print(\"parameters\" ,parameters)\n",
    "    _, A_last = forward_pass_test(X, parameters, dropout)\n",
    "    return np.argmax(A_last, axis=0)"
   ]
  },
  {
   "cell_type": "code",
   "execution_count": 23,
   "metadata": {},
   "outputs": [],
   "source": [
    "def accuracy(train_x, train_y, test_x, test_y, trained_parameters, dropout_rate, epoch,loss):\n",
    "        for k,v  in trained_parameters.items():\n",
    "                print(f\"Parameters : {k}\")\n",
    "        predictions_test = predict(test_x.T, trained_parameters, dropout_rate)\n",
    "        predictions_train = predict(train_x.T, trained_parameters, dropout_rate)\n",
    "        validation_accuracy = np.mean(predictions_train == np.argmax(train_y.T, axis=0))\n",
    "        test_accuracy = np.mean(predictions_test == np.argmax(test_y.T, axis=0))\n",
    "        print(f\"Epoch {epoch}, Loss: {loss:.4f}, Validation Accuracy : {validation_accuracy * 100:.2f}%,Test Accuracy: {test_accuracy * 100:.2f}%\" )\n",
    "        return test_accuracy, validation_accuracy"
   ]
  },
  {
   "cell_type": "code",
   "execution_count": 24,
   "metadata": {},
   "outputs": [],
   "source": [
    "def backward_pass_test(X,Y,parameters,cache):\n",
    "    m = Y.shape[1]\n",
    "\n",
    "    temp = {}\n",
    "    out = {}\n",
    "\n",
    "    num_layers = len(parameters)//2\n",
    "\n",
    "\n",
    "    for layer in range(num_layers, 0, -1):\n",
    "        \n",
    "        if layer == num_layers:\n",
    "            temp[f\"dZ{layer}\"] = cache[f\"A{layer}\"] - Y\n",
    "            out[f\"dW{layer}\"] = np.dot(temp[f\"dZ{layer}\"], cache[f\"A{layer - 1}\"].T) /m\n",
    "            out[f\"db{layer}\"] = np.sum(temp[f\"dZ{layer}\"], axis = 1, keepdims = True) / m\n",
    "\n",
    "        elif layer > 1:\n",
    "            temp[f\"dA{layer}\"] = np.dot(parameters[f\"W{layer+1}\"].T, temp[f\"dZ{layer+1}\"])\n",
    "            temp[f\"dZ{layer}\"] = temp[f\"dA{layer}\"] * derivative_relu(cache[f\"Z{layer}\"])\n",
    "            out[f\"dW{layer}\"] = np.dot(temp[f\"dZ{layer}\"], cache[f\"A{layer-1}\"].T) / m\n",
    "            out[f\"db{layer}\"] = np.sum(temp[f\"dZ{layer}\"], axis = 1, keepdims = True) / m\n",
    "\n",
    "        else:\n",
    "            temp[f\"dA{layer}\"] = np.dot(parameters[f\"W{layer+1}\"].T, temp[f\"dZ{layer + 1}\"])\n",
    "            temp[f\"dZ{layer}\"] =  temp[f\"dA{layer}\"] * derivative_relu(cache[f\"Z{layer}\"])\n",
    "            # dW1 = np.dot(dZ1, X.T) / m\n",
    "            # db1 = np.sum(dZ1, axis=1, keepdims=True) / m\n",
    "            out[f\"dW{layer}\"] = np.dot(temp[f\"dZ{layer}\"], X.T) / m\n",
    "            out[f\"db{layer}\"] = np.sum(temp[f\"dZ{layer}\"], axis=1, keepdims=True) / m\n",
    "            \n",
    "    # Z1 = cache[\"Z1\"]\n",
    "    # A1 = cache[\"A1\"]\n",
    "    # Z2 = cache[\"Z2\"]\n",
    "    # A2 = cache[\"A2\"]\n",
    "    # Z3 = cache[\"Z3\"]\n",
    "    # A3 = cache[\"A3\"]\n",
    "\n",
    "\n",
    "    # W1 = parameters[\"W1\"]\n",
    "    # b1 = parameters[\"b1\"]\n",
    "    # W2 = parameters[\"W2\"]\n",
    "    # b2 = parameters[\"b2\"]\n",
    "    # W3 = parameters[\"W3\"]\n",
    "    # b3 = parameters[\"b3\"]\n",
    "\n",
    "    # print(f\"A2 = {A2.shape}   y = {Y.shape}\")\n",
    "    # dZ3 = A3 - Y\n",
    "    # dW3 = np.dot(dZ3, A2.T) / m\n",
    "    # db3 = np.sum(dZ3, axis=1, keepdims=True) / m\n",
    "\n",
    "    # dA2 = np.dot(W3.T, dZ3)\n",
    "    # dZ2 = dA2 * derivative_relu(Z2)  # Derivative of ReLU\n",
    "    # dW2 = np.dot(dZ2, A1.T) / m\n",
    "    # db2 = np.sum(dZ2, axis=1, keepdims=True) / m\n",
    "\n",
    "    # dA1 = np.dot(W2.T, dZ2)\n",
    "    # dZ1 = dA1 * derivative_relu(Z1)  # Derivative of ReLU\n",
    "    # dW1 = np.dot(dZ1, X.T) / m\n",
    "    # db1 = np.sum(dZ1, axis=1, keepdims=True) / m\n",
    "\n",
    "    # gradients = {\"dW1\": dW1, \"db1\": db1, \"dW2\": dW2, \"db2\": db2, \"dW3\": dW3, \"db3\": db3}\n",
    "\n",
    "    gradients = out\n",
    "    \n",
    "    return gradients"
   ]
  },
  {
   "cell_type": "code",
   "execution_count": 25,
   "metadata": {},
   "outputs": [],
   "source": [
    "def cross_entropy_loss(Y_pred, Y_true):\n",
    "    m = Y_true.shape[1]\n",
    "    loss = -np.sum(Y_true * np.log(Y_pred + 1e-8)) / m\n",
    "    return loss"
   ]
  },
  {
   "cell_type": "code",
   "execution_count": 26,
   "metadata": {},
   "outputs": [
    {
     "name": "stdout",
     "output_type": "stream",
     "text": [
      "1\n",
      "2\n"
     ]
    }
   ],
   "source": [
    "for i in range(1,3):\n",
    "    print(i)"
   ]
  },
  {
   "cell_type": "code",
   "execution_count": 27,
   "metadata": {},
   "outputs": [],
   "source": [
    "def update_parameters_test(parameters, gradients, learning_rate):\n",
    "\n",
    " \n",
    "    cache = {}\n",
    "    for i in range(1, len(parameters)//2 + 1):\n",
    "        w = parameters[f\"W{i}\"]\n",
    "        b = parameters[f\"b{i}\"]\n",
    "\n",
    "        dw = gradients[f\"dW{i}\"]\n",
    "        db = gradients[f\"db{i}\"]\n",
    "\n",
    "        w -= learning_rate * dw\n",
    "        b -= learning_rate * db\n",
    "\n",
    "        cache[f\"W{i}\"] = w\n",
    "        cache[f\"b{i}\"] = b\n",
    "\n",
    "    return cache"
   ]
  },
  {
   "cell_type": "code",
   "execution_count": 28,
   "metadata": {},
   "outputs": [],
   "source": [
    "def train(X, Y, test_x, test_y, hidden_size, output_size, learning_rate, epochs, dropout_rate):\n",
    "    input_size = X.shape[0]\n",
    "    parameters = initialize_parameters([input_size, 128, 64, output_size], method=\"he_normal\")\n",
    "    # print(parameters)\n",
    "\n",
    "    test_accuracy_list = []\n",
    "    validation_accuracy_list = []\n",
    "    for epoch in tqdm_notebook(range(epochs), desc=\"Training progress: \"):\n",
    "        cache, A = forward_pass_test(X, parameters, dropout_rate)\n",
    "        loss = cross_entropy_loss(A, Y)\n",
    "        gradients = backward_pass_test(X, Y, parameters, cache)\n",
    "        # print(gradients)\n",
    "        parameters = update_parameters_test(parameters, gradients, learning_rate)\n",
    "\n",
    "        if epoch % 1 == 0:\n",
    "            trained_parameters = parameters\n",
    "            test_accuracy, validation_accuracy= accuracy(train_x, train_y, test_x, test_y,trained_parameters, dropout_rate, epoch, loss)\n",
    "            test_accuracy_list.append(test_accuracy)\n",
    "            validation_accuracy_list.append(validation_accuracy)\n",
    "    return parameters, test_accuracy_list, validation_accuracy_list"
   ]
  },
  {
   "cell_type": "code",
   "execution_count": 29,
   "metadata": {},
   "outputs": [],
   "source": [
    "def predict_labels(test_x, test_y, trained_parameters, index):\n",
    "    value = predict(test_x.T, trained_parameters, 0)\n",
    "    prediction = value[index]\n",
    "    actual = np.argmax(test_y[index])\n",
    "    plt.title(f\" Actual : {actual}   Prediction : {prediction}\")\n",
    "    plt.imshow(np.array(test_x[index]).reshape((28,28)), cmap=\"gray\")"
   ]
  },
  {
   "cell_type": "code",
   "execution_count": 30,
   "metadata": {},
   "outputs": [],
   "source": [
    "def plot_accuracy(values, x_label, y_label, title):\n",
    "    plt.title(title)\n",
    "    plt.xlabel(x_label)\n",
    "    plt.ylabel(y_label)\n",
    "    plt.plot(values)"
   ]
  },
  {
   "cell_type": "code",
   "execution_count": 34,
   "metadata": {},
   "outputs": [
    {
     "data": {
      "application/vnd.jupyter.widget-view+json": {
       "model_id": "2d1af3d36faa4af98d86c7d375ec9a1c",
       "version_major": 2,
       "version_minor": 0
      },
      "text/plain": [
       "Training progress:   0%|          | 0/30 [00:00<?, ?it/s]"
      ]
     },
     "metadata": {},
     "output_type": "display_data"
    },
    {
     "name": "stdout",
     "output_type": "stream",
     "text": [
      "W shape : (128, 784)  X shape = (784, 41000)\n",
      "A shape : (128, 41000)\n",
      "W shape : (64, 128)  X shape = (784, 41000)\n",
      "A shape : (64, 41000)\n",
      " W_last : (10, 64) last A - 1 shape : (64, 41000)\n",
      "last A shape : (10, 41000)\n",
      "Parameters : W1\n",
      "Parameters : b1\n",
      "Parameters : W2\n",
      "Parameters : b2\n",
      "Parameters : W3\n",
      "Parameters : b3\n",
      "W shape : (128, 784)  X shape = (784, 1000)\n",
      "A shape : (128, 1000)\n",
      "W shape : (64, 128)  X shape = (784, 1000)\n",
      "A shape : (64, 1000)\n",
      " W_last : (10, 64) last A - 1 shape : (64, 1000)\n",
      "last A shape : (10, 1000)\n",
      "W shape : (128, 784)  X shape = (784, 41000)\n",
      "A shape : (128, 41000)\n",
      "W shape : (64, 128)  X shape = (784, 41000)\n",
      "A shape : (64, 41000)\n",
      " W_last : (10, 64) last A - 1 shape : (64, 41000)\n",
      "last A shape : (10, 41000)\n",
      "Epoch 0, Loss: 16.0875, Validation Accuracy : 9.93%,Test Accuracy: 8.70%\n",
      "W shape : (128, 784)  X shape = (784, 41000)\n",
      "A shape : (128, 41000)\n",
      "W shape : (64, 128)  X shape = (784, 41000)\n",
      "A shape : (64, 41000)\n",
      " W_last : (10, 64) last A - 1 shape : (64, 41000)\n",
      "last A shape : (10, 41000)\n",
      "Parameters : W1\n",
      "Parameters : b1\n",
      "Parameters : W2\n",
      "Parameters : b2\n",
      "Parameters : W3\n",
      "Parameters : b3\n",
      "W shape : (128, 784)  X shape = (784, 1000)\n",
      "A shape : (128, 1000)\n",
      "W shape : (64, 128)  X shape = (784, 1000)\n",
      "A shape : (64, 1000)\n",
      " W_last : (10, 64) last A - 1 shape : (64, 1000)\n",
      "last A shape : (10, 1000)\n",
      "W shape : (128, 784)  X shape = (784, 41000)\n",
      "A shape : (128, 41000)\n",
      "W shape : (64, 128)  X shape = (784, 41000)\n",
      "A shape : (64, 41000)\n",
      " W_last : (10, 64) last A - 1 shape : (64, 41000)\n",
      "last A shape : (10, 41000)\n",
      "Epoch 1, Loss: 16.6189, Validation Accuracy : 9.81%,Test Accuracy: 10.70%\n",
      "W shape : (128, 784)  X shape = (784, 41000)\n",
      "A shape : (128, 41000)\n",
      "W shape : (64, 128)  X shape = (784, 41000)\n",
      "A shape : (64, 41000)\n",
      " W_last : (10, 64) last A - 1 shape : (64, 41000)\n",
      "last A shape : (10, 41000)\n",
      "Parameters : W1\n",
      "Parameters : b1\n",
      "Parameters : W2\n",
      "Parameters : b2\n",
      "Parameters : W3\n",
      "Parameters : b3\n",
      "W shape : (128, 784)  X shape = (784, 1000)\n",
      "A shape : (128, 1000)\n",
      "W shape : (64, 128)  X shape = (784, 1000)\n",
      "A shape : (64, 1000)\n",
      " W_last : (10, 64) last A - 1 shape : (64, 1000)\n",
      "last A shape : (10, 1000)\n",
      "W shape : (128, 784)  X shape = (784, 41000)\n",
      "A shape : (128, 41000)\n",
      "W shape : (64, 128)  X shape = (784, 41000)\n",
      "A shape : (64, 41000)\n",
      " W_last : (10, 64) last A - 1 shape : (64, 41000)\n",
      "last A shape : (10, 41000)\n",
      "Epoch 2, Loss: 16.6114, Validation Accuracy : 10.39%,Test Accuracy: 9.00%\n",
      "W shape : (128, 784)  X shape = (784, 41000)\n",
      "A shape : (128, 41000)\n",
      "W shape : (64, 128)  X shape = (784, 41000)\n",
      "A shape : (64, 41000)\n",
      " W_last : (10, 64) last A - 1 shape : (64, 41000)\n",
      "last A shape : (10, 41000)\n",
      "Parameters : W1\n",
      "Parameters : b1\n",
      "Parameters : W2\n",
      "Parameters : b2\n",
      "Parameters : W3\n",
      "Parameters : b3\n",
      "W shape : (128, 784)  X shape = (784, 1000)\n",
      "A shape : (128, 1000)\n",
      "W shape : (64, 128)  X shape = (784, 1000)\n",
      "A shape : (64, 1000)\n",
      " W_last : (10, 64) last A - 1 shape : (64, 1000)\n",
      "last A shape : (10, 1000)\n",
      "W shape : (128, 784)  X shape = (784, 41000)\n",
      "A shape : (128, 41000)\n",
      "W shape : (64, 128)  X shape = (784, 41000)\n",
      "A shape : (64, 41000)\n",
      " W_last : (10, 64) last A - 1 shape : (64, 41000)\n",
      "last A shape : (10, 41000)\n",
      "Epoch 3, Loss: 2.3103, Validation Accuracy : 10.48%,Test Accuracy: 10.90%\n",
      "W shape : (128, 784)  X shape = (784, 41000)\n",
      "A shape : (128, 41000)\n",
      "W shape : (64, 128)  X shape = (784, 41000)\n",
      "A shape : (64, 41000)\n",
      " W_last : (10, 64) last A - 1 shape : (64, 41000)\n",
      "last A shape : (10, 41000)\n",
      "Parameters : W1\n",
      "Parameters : b1\n",
      "Parameters : W2\n",
      "Parameters : b2\n",
      "Parameters : W3\n",
      "Parameters : b3\n",
      "W shape : (128, 784)  X shape = (784, 1000)\n",
      "A shape : (128, 1000)\n",
      "W shape : (64, 128)  X shape = (784, 1000)\n",
      "A shape : (64, 1000)\n",
      " W_last : (10, 64) last A - 1 shape : (64, 1000)\n",
      "last A shape : (10, 1000)\n",
      "W shape : (128, 784)  X shape = (784, 41000)\n",
      "A shape : (128, 41000)\n",
      "W shape : (64, 128)  X shape = (784, 41000)\n",
      "A shape : (64, 41000)\n",
      " W_last : (10, 64) last A - 1 shape : (64, 41000)\n",
      "last A shape : (10, 41000)\n",
      "Epoch 4, Loss: 2.3041, Validation Accuracy : 11.19%,Test Accuracy: 9.60%\n",
      "W shape : (128, 784)  X shape = (784, 41000)\n",
      "A shape : (128, 41000)\n",
      "W shape : (64, 128)  X shape = (784, 41000)\n",
      "A shape : (64, 41000)\n",
      " W_last : (10, 64) last A - 1 shape : (64, 41000)\n",
      "last A shape : (10, 41000)\n",
      "Parameters : W1\n",
      "Parameters : b1\n",
      "Parameters : W2\n",
      "Parameters : b2\n",
      "Parameters : W3\n",
      "Parameters : b3\n",
      "W shape : (128, 784)  X shape = (784, 1000)\n",
      "A shape : (128, 1000)\n",
      "W shape : (64, 128)  X shape = (784, 1000)\n",
      "A shape : (64, 1000)\n",
      " W_last : (10, 64) last A - 1 shape : (64, 1000)\n",
      "last A shape : (10, 1000)\n",
      "W shape : (128, 784)  X shape = (784, 41000)\n",
      "A shape : (128, 41000)\n",
      "W shape : (64, 128)  X shape = (784, 41000)\n",
      "A shape : (64, 41000)\n",
      " W_last : (10, 64) last A - 1 shape : (64, 41000)\n",
      "last A shape : (10, 41000)\n",
      "Epoch 5, Loss: 2.3025, Validation Accuracy : 11.19%,Test Accuracy: 9.60%\n",
      "W shape : (128, 784)  X shape = (784, 41000)\n",
      "A shape : (128, 41000)\n",
      "W shape : (64, 128)  X shape = (784, 41000)\n",
      "A shape : (64, 41000)\n",
      " W_last : (10, 64) last A - 1 shape : (64, 41000)\n",
      "last A shape : (10, 41000)\n",
      "Parameters : W1\n",
      "Parameters : b1\n",
      "Parameters : W2\n",
      "Parameters : b2\n",
      "Parameters : W3\n",
      "Parameters : b3\n",
      "W shape : (128, 784)  X shape = (784, 1000)\n",
      "A shape : (128, 1000)\n",
      "W shape : (64, 128)  X shape = (784, 1000)\n",
      "A shape : (64, 1000)\n",
      " W_last : (10, 64) last A - 1 shape : (64, 1000)\n",
      "last A shape : (10, 1000)\n"
     ]
    }
   ],
   "source": [
    "input_size = train_x.shape[1]\n",
    "output_size = train_y.shape[1]\n",
    "\n",
    "hidden_size = 64\n",
    "learning_rate = 0.01\n",
    "iterations = 100\n",
    "epoch = int(100)\n",
    "dropout_rate = 0.1  # Example dropout rate of 20% (0.2)\n",
    "\n",
    "trained_parameters, validation_accuracy, test_accuracy = train(train_x.T, train_y.T, test_x, test_y, hidden_size, output_size, learning_rate, epoch, dropout_rate)\n",
    "predictions = predict(test_x.T, trained_parameters, dropout_rate)\n",
    "\n",
    "# Calculate accuracy\n",
    "accuracy_value = np.mean(predictions == np.argmax(test_y.T, axis=0))\n",
    "print(f\"Accuracy on test set: {accuracy_value * 100:.2f}%\")"
   ]
  },
  {
   "cell_type": "code",
   "execution_count": 32,
   "metadata": {},
   "outputs": [
    {
     "data": {
      "image/png": "[encoded data removed]",
      "text/plain": [
       "<Figure size 640x480 with 1 Axes>"
      ]
     },
     "metadata": {},
     "output_type": "display_data"
    }
   ],
   "source": [
    "plot_accuracy(test_accuracy, \"iterations\", \"accuracy\", \"Accuracy vs epoch For test set\")"
   ]
  },
  {
   "cell_type": "code",
   "execution_count": 38,
   "metadata": {},
   "outputs": [
    {
     "data": {
      "image/png": "[encoded data removed]",
      "text/plain": [
       "<Figure size 432x288 with 1 Axes>"
      ]
     },
     "metadata": {
      "needs_background": "light"
     },
     "output_type": "display_data"
    }
   ],
   "source": [
    "plot_accuracy(validation_accuracy, \"iterations\", \"accuracy\", \"Accuracy vs epoch For Validation set\")"
   ]
  },
  {
   "cell_type": "code",
   "execution_count": 40,
   "metadata": {},
   "outputs": [
    {
     "name": "stdout",
     "output_type": "stream",
     "text": [
      "W shape : (128, 784)  X shape = (784, 1000)\n",
      "A shape : (128, 1000)\n",
      "W shape : (64, 128)  X shape = (784, 1000)\n",
      "A shape : (64, 1000)\n",
      " W_last : (10, 64) last A - 1 shape : (64, 1000)\n",
      "last A shape : (10, 1000)\n"
     ]
    },
    {
     "data": {
      "image/png": "[encoded data removed]",
      "text/plain": [
       "<Figure size 432x288 with 1 Axes>"
      ]
     },
     "metadata": {
      "needs_background": "light"
     },
     "output_type": "display_data"
    }
   ],
   "source": [
    "index = int(np.random.random() * test_x.shape[0])\n",
    "predict_labels(test_x, test_y, trained_parameters, index)"
   ]
  },
  {
   "cell_type": "code",
   "execution_count": null,
   "metadata": {},
   "outputs": [],
   "source": []
  },
  {
   "cell_type": "code",
   "execution_count": null,
   "metadata": {},
   "outputs": [],
   "source": []
  }
 ],
 "metadata": {
  "kernelspec": {
   "display_name": "mlenv-310",
   "language": "python",
   "name": "python3"
  },
  "language_info": {
   "codemirror_mode": {
    "name": "ipython",
    "version": 3
   },
   "file_extension": ".py",
   "mimetype": "text/x-python",
   "name": "python",
   "nbconvert_exporter": "python",
   "pygments_lexer": "ipython3",
   "version": "3.9.14"
  },
  "orig_nbformat": 4
 },
 "nbformat": 4,
 "nbformat_minor": 2
}
