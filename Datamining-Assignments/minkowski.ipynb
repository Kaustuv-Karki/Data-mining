{
 "cells": [
  {
   "cell_type": "code",
   "execution_count": 2,
   "metadata": {},
   "outputs": [],
   "source": [
    "import numpy as np\n",
    "import matplotlib.pyplot as plt\n",
    "from ipywidgets import interact, FloatSlider"
   ]
  },
  {
   "cell_type": "code",
   "execution_count": 12,
   "metadata": {},
   "outputs": [],
   "source": [
    "def minkowski(e):\n",
    "  x = np.linspace(-2.5,2.5,1000)\n",
    "  y = np.linspace(-2.5,2.5,1000)\n",
    "  X,Y = np.meshgrid(x, y)\n",
    "\n",
    "  distance = np.power(np.power(np.abs(X), e) + np.power(np.abs(Y), e), 1/e)\n",
    "\n",
    "  fig = plt.figure(figsize=(10,10))\n",
    "\n",
    "  plt.title(\"Minkowski distance visualization\")\n",
    "  plt.contour(X,Y, distance, levels=[2], colors=\"pink\")\n",
    "  plt.grid(color=\"green\", linestyle=\"--\", linewidth=\"0.5\")"
   ]
  },
  {
   "cell_type": "code",
   "execution_count": 13,
   "metadata": {},
   "outputs": [
    {
     "data": {
      "application/vnd.jupyter.widget-view+json": {
       "model_id": "7d78bf71669a4a458be468e4a11c82c1",
       "version_major": 2,
       "version_minor": 0
      },
      "text/plain": [
       "interactive(children=(FloatSlider(value=0.1, description='e', max=1000.0, min=0.1), Output()), _dom_classes=('…"
      ]
     },
     "metadata": {},
     "output_type": "display_data"
    }
   ],
   "source": [
    "interact(minkowski, e=FloatSlider(min = 0.1, max =1000, step= 0.1));"
   ]
  },
  {
   "cell_type": "code",
   "execution_count": null,
   "metadata": {},
   "outputs": [],
   "source": []
  }
 ],
 "metadata": {
  "kernelspec": {
   "display_name": "Python 3",
   "language": "python",
   "name": "python3"
  },
  "language_info": {
   "codemirror_mode": {
    "name": "ipython",
    "version": 3
   },
   "file_extension": ".py",
   "mimetype": "text/x-python",
   "name": "python",
   "nbconvert_exporter": "python",
   "pygments_lexer": "ipython3",
   "version": "3.9.14"
  },
  "orig_nbformat": 4
 },
 "nbformat": 4,
 "nbformat_minor": 2
}
