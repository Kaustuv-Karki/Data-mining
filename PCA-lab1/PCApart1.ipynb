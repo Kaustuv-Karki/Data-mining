{
 "cells": [
  {
   "attachments": {},
   "cell_type": "markdown",
   "metadata": {},
   "source": [
    "1.PLOT THE RANDOM Data\n",
    "2.Create a 2 * 2 matrix sampled from a uniform distribution with values between 0 and 1\n",
    "3.Multiply the matrices 1 and 3\n",
    "4.plot the product\n",
    "5.Calculate the variance along dominant direction and the direction perpendicular to it\n",
    "6.Covaraince matrix\n",
    "7.Eigen values\n",
    "8.Proportion of variances\n",
    "9.Y=PX\n",
    "10.SY Calculate the covaraince matix of y"
   ]
  },
  {
   "cell_type": "code",
   "execution_count": 1,
   "metadata": {},
   "outputs": [],
   "source": [
    "import numpy as np\n",
    "import matplotlib.pyplot as plt"
   ]
  },
  {
   "cell_type": "code",
   "execution_count": 146,
   "metadata": {},
   "outputs": [],
   "source": [
    "X = np.random.randn(100,2)"
   ]
  },
  {
   "cell_type": "code",
   "execution_count": 147,
   "metadata": {},
   "outputs": [
    {
     "data": {
      "text/plain": [
       "(100, 2)"
      ]
     },
     "execution_count": 147,
     "metadata": {},
     "output_type": "execute_result"
    }
   ],
   "source": [
    "X.shape"
   ]
  },
  {
   "cell_type": "code",
   "execution_count": 148,
   "metadata": {},
   "outputs": [
    {
     "data": {
      "text/plain": [
       "-0.005784886194391805"
      ]
     },
     "execution_count": 148,
     "metadata": {},
     "output_type": "execute_result"
    }
   ],
   "source": [
    "X.mean()"
   ]
  },
  {
   "cell_type": "code",
   "execution_count": 149,
   "metadata": {},
   "outputs": [
    {
     "data": {
      "text/plain": [
       "0.9608749367714358"
      ]
     },
     "execution_count": 149,
     "metadata": {},
     "output_type": "execute_result"
    }
   ],
   "source": [
    "X.std()"
   ]
  },
  {
   "cell_type": "code",
   "execution_count": 150,
   "metadata": {},
   "outputs": [
    {
     "data": {
      "text/plain": [
       "<matplotlib.collections.PathCollection at 0x7faa2d1bad00>"
      ]
     },
     "execution_count": 150,
     "metadata": {},
     "output_type": "execute_result"
    },
    {
     "data": {
      "image/png": "[encoded data removed]",
      "text/plain": [
       "<Figure size 640x480 with 1 Axes>"
      ]
     },
     "metadata": {},
     "output_type": "display_data"
    }
   ],
   "source": [
    "plt.scatter(X[:,0], X[:,1], linewidths=1)"
   ]
  },
  {
   "cell_type": "code",
   "execution_count": 151,
   "metadata": {},
   "outputs": [],
   "source": [
    "x1 = np.random.rand(2,2)"
   ]
  },
  {
   "cell_type": "code",
   "execution_count": 152,
   "metadata": {},
   "outputs": [],
   "source": [
    "Y = np.matmul(X, x1)"
   ]
  },
  {
   "cell_type": "code",
   "execution_count": 153,
   "metadata": {},
   "outputs": [
    {
     "data": {
      "text/plain": [
       "array([[ 0.74881427,  0.39272548],\n",
       "       [-1.00034556, -0.67616445],\n",
       "       [ 2.82446196,  2.0808437 ],\n",
       "       [ 1.50010634,  1.12377654],\n",
       "       [-1.76722788, -1.06781634],\n",
       "       [-1.03075093, -0.56744476],\n",
       "       [-0.36116194,  0.02185847],\n",
       "       [-0.94153582, -0.94220787],\n",
       "       [-2.54460329, -2.26150807],\n",
       "       [ 1.19554301,  1.06205435],\n",
       "       [-0.96470809, -0.63098821],\n",
       "       [-1.47222488, -1.1232886 ],\n",
       "       [ 0.24676263, -0.0181253 ],\n",
       "       [ 0.07094308,  0.06918138],\n",
       "       [-0.82142756, -0.44854803],\n",
       "       [-0.1842716 , -0.1950014 ],\n",
       "       [ 0.75407567,  0.74425958],\n",
       "       [ 0.25396122,  0.20944493],\n",
       "       [ 0.26885271, -0.01856199],\n",
       "       [-1.20708742, -0.93724415],\n",
       "       [ 0.48276462,  0.61151666],\n",
       "       [-0.74010466, -0.3131888 ],\n",
       "       [ 0.77909857,  0.70680875],\n",
       "       [-0.6500711 , -0.88543012],\n",
       "       [ 1.03610827,  1.00360947],\n",
       "       [-1.11989591, -0.84793133],\n",
       "       [-1.41352089, -0.88439744],\n",
       "       [-0.0208917 ,  0.0825168 ],\n",
       "       [-0.12635588, -0.25903594],\n",
       "       [-0.31647527,  0.13117445],\n",
       "       [-0.69260822, -0.56431978],\n",
       "       [-1.01805417, -0.90137794],\n",
       "       [-0.52382677, -0.5911573 ],\n",
       "       [ 0.99260218,  0.90427388],\n",
       "       [-0.15974007,  0.08272901],\n",
       "       [ 0.13697703,  0.29004826],\n",
       "       [ 2.73575968,  2.17137238],\n",
       "       [ 0.58754832,  0.60318636],\n",
       "       [-2.27192515, -1.75143941],\n",
       "       [ 0.10646045,  0.12559405],\n",
       "       [ 1.555104  ,  1.18806248],\n",
       "       [ 0.14116687, -0.17547913],\n",
       "       [-0.27578152, -0.78188039],\n",
       "       [ 0.2128661 ,  0.08668801],\n",
       "       [-1.13991873, -0.88761492],\n",
       "       [ 1.21804477,  1.24395115],\n",
       "       [-1.04514348, -0.88632425],\n",
       "       [ 0.31252864,  0.20528699],\n",
       "       [ 0.09788361,  0.14064776],\n",
       "       [-0.06157617, -0.25099999],\n",
       "       [ 0.65376879,  0.20523359],\n",
       "       [ 1.56072216,  1.1612854 ],\n",
       "       [-0.73574612, -0.57525438],\n",
       "       [-0.10625431, -0.22476444],\n",
       "       [-0.72564475, -0.89151658],\n",
       "       [-0.92734229, -0.94041902],\n",
       "       [ 1.74321029,  1.38833047],\n",
       "       [-0.65739112, -0.36074433],\n",
       "       [ 1.00471653,  0.72132656],\n",
       "       [-0.17241325, -0.0189011 ],\n",
       "       [-0.72481998, -0.40788233],\n",
       "       [ 0.06652489, -0.19412184],\n",
       "       [-0.11925843,  0.16960003],\n",
       "       [ 0.71279011,  0.51068083],\n",
       "       [-1.07411433, -1.03552964],\n",
       "       [ 0.95804721,  0.47710692],\n",
       "       [ 0.9093784 ,  0.96357557],\n",
       "       [-0.77124642, -0.57303445],\n",
       "       [-0.88740757, -0.36155838],\n",
       "       [-0.69743415, -0.54653923],\n",
       "       [ 0.09388299, -0.09726118],\n",
       "       [-0.17447605, -0.40086692],\n",
       "       [ 2.23953071,  1.80528632],\n",
       "       [ 0.92876081,  0.90298954],\n",
       "       [ 0.48843216,  0.28750075],\n",
       "       [ 0.67620929,  0.59955315],\n",
       "       [-0.24279133,  0.16493408],\n",
       "       [ 3.2534064 ,  2.93551559],\n",
       "       [-2.83551356, -2.36143438],\n",
       "       [-0.24576661,  0.02523716],\n",
       "       [ 2.50818941,  1.78998486],\n",
       "       [ 0.46058429,  0.6504712 ],\n",
       "       [ 0.50538388,  0.26465478],\n",
       "       [-0.88575182, -0.79435591],\n",
       "       [-0.65674561, -0.68149375],\n",
       "       [-0.39972185, -0.69862123],\n",
       "       [ 0.4564174 ,  0.52031472],\n",
       "       [-0.11728898,  0.2435668 ],\n",
       "       [-0.68852882, -0.52913867],\n",
       "       [-0.37086492, -0.42437177],\n",
       "       [ 0.38157403,  0.64300011],\n",
       "       [-1.35961145, -1.03087355],\n",
       "       [ 0.03369022, -0.16657726],\n",
       "       [-0.11404415, -0.43700089],\n",
       "       [-0.67318326, -0.56585414],\n",
       "       [-0.11847538, -0.11290365],\n",
       "       [-0.01337303,  0.0784354 ],\n",
       "       [ 0.81387135,  0.49458537],\n",
       "       [ 0.66237553,  0.49738036],\n",
       "       [ 0.48100768,  0.63723141]])"
      ]
     },
     "execution_count": 153,
     "metadata": {},
     "output_type": "execute_result"
    }
   ],
   "source": [
    "Y"
   ]
  },
  {
   "cell_type": "code",
   "execution_count": 192,
   "metadata": {},
   "outputs": [
    {
     "data": {
      "text/plain": [
       "<matplotlib.collections.PathCollection at 0x7faa2bf7c4f0>"
      ]
     },
     "execution_count": 192,
     "metadata": {},
     "output_type": "execute_result"
    },
    {
     "data": {
      "image/png": "[encoded data removed]",
      "text/plain": [
       "<Figure size 640x480 with 1 Axes>"
      ]
     },
     "metadata": {},
     "output_type": "display_data"
    }
   ],
   "source": [
    "plt.xlim(-5,5)\n",
    "plt.ylim(-5,5)\n",
    "plt.grid()\n",
    "plt.axhline(y=0, color=\"g\")\n",
    "plt.axvline(x=0, color=\"g\")\n",
    "plt.scatter(Y[:,0], Y[:,1], linewidths=0.01)"
   ]
  },
  {
   "cell_type": "code",
   "execution_count": 193,
   "metadata": {},
   "outputs": [
    {
     "data": {
      "text/plain": [
       "1.1281532903675957"
      ]
     },
     "execution_count": 193,
     "metadata": {},
     "output_type": "execute_result"
    }
   ],
   "source": [
    "# Varaiance of the matrix\n",
    "np.var(Y[:,0])"
   ]
  },
  {
   "cell_type": "code",
   "execution_count": 177,
   "metadata": {},
   "outputs": [
    {
     "data": {
      "text/plain": [
       "0.7581131486137797"
      ]
     },
     "execution_count": 177,
     "metadata": {},
     "output_type": "execute_result"
    }
   ],
   "source": [
    "# Variance of the matrix\n",
    "np.var(Y[:,1])"
   ]
  },
  {
   "cell_type": "code",
   "execution_count": 178,
   "metadata": {},
   "outputs": [],
   "source": [
    "# Covariance of the matrix\n",
    "cov_matrix = np.cov(Y.T)"
   ]
  },
  {
   "cell_type": "code",
   "execution_count": 179,
   "metadata": {},
   "outputs": [
    {
     "data": {
      "text/plain": [
       "array([[1.13954878, 0.90952173],\n",
       "       [0.90952173, 0.76577086]])"
      ]
     },
     "execution_count": 179,
     "metadata": {},
     "output_type": "execute_result"
    }
   ],
   "source": [
    "cov_matrix"
   ]
  },
  {
   "cell_type": "code",
   "execution_count": 180,
   "metadata": {},
   "outputs": [
    {
     "data": {
      "text/plain": [
       "array([[1.13957562, 0.90951544],\n",
       "       [0.90951544, 0.76577233]])"
      ]
     },
     "execution_count": 180,
     "metadata": {},
     "output_type": "execute_result"
    }
   ],
   "source": [
    "# Variance of the corrlated data\n",
    "np.matmul(Y.T, Y) / (Y.shape[0] -1)"
   ]
  },
  {
   "cell_type": "code",
   "execution_count": 181,
   "metadata": {},
   "outputs": [
    {
     "data": {
      "text/plain": [
       "array([[ 1.01035458, -0.02673563],\n",
       "       [-0.02673563,  0.85492645]])"
      ]
     },
     "execution_count": 181,
     "metadata": {},
     "output_type": "execute_result"
    }
   ],
   "source": [
    "# Varinance of random data\n",
    "np.matmul(X.T, X) / (X.shape[0] -1)"
   ]
  },
  {
   "cell_type": "code",
   "execution_count": 182,
   "metadata": {},
   "outputs": [],
   "source": [
    "from numpy.linalg import eig"
   ]
  },
  {
   "cell_type": "code",
   "execution_count": 183,
   "metadata": {},
   "outputs": [],
   "source": [
    "eigen_values, eigen_vectors = eig(cov_matrix)"
   ]
  },
  {
   "cell_type": "code",
   "execution_count": 163,
   "metadata": {},
   "outputs": [
    {
     "data": {
      "text/plain": [
       "array([1.88118406, 0.02413557])"
      ]
     },
     "execution_count": 163,
     "metadata": {},
     "output_type": "execute_result"
    }
   ],
   "source": [
    "eigen_values"
   ]
  },
  {
   "cell_type": "code",
   "execution_count": 164,
   "metadata": {},
   "outputs": [
    {
     "data": {
      "text/plain": [
       "array([[ 0.77500815, -0.63195124],\n",
       "       [ 0.63195124,  0.77500815]])"
      ]
     },
     "execution_count": 164,
     "metadata": {},
     "output_type": "execute_result"
    }
   ],
   "source": [
    "eigen_vectors"
   ]
  },
  {
   "cell_type": "code",
   "execution_count": 165,
   "metadata": {},
   "outputs": [],
   "source": [
    "# proportion of variance\n",
    "total = np.sum(eigen_values)"
   ]
  },
  {
   "cell_type": "code",
   "execution_count": 166,
   "metadata": {},
   "outputs": [
    {
     "data": {
      "text/plain": [
       "98.73325323955399"
      ]
     },
     "execution_count": 166,
     "metadata": {},
     "output_type": "execute_result"
    }
   ],
   "source": [
    "(eigen_values[0]/total) * 100"
   ]
  },
  {
   "cell_type": "code",
   "execution_count": 167,
   "metadata": {},
   "outputs": [
    {
     "data": {
      "text/plain": [
       "1.2667467604460156"
      ]
     },
     "execution_count": 167,
     "metadata": {},
     "output_type": "execute_result"
    }
   ],
   "source": [
    "eigen_values[1]/total * 100"
   ]
  },
  {
   "cell_type": "code",
   "execution_count": 169,
   "metadata": {},
   "outputs": [],
   "source": [
    "transformed = np.matmul(eigen_vectors.T, Y.T).T"
   ]
  },
  {
   "cell_type": "code",
   "execution_count": 198,
   "metadata": {},
   "outputs": [
    {
     "data": {
      "text/plain": [
       "(100, 2)"
      ]
     },
     "execution_count": 198,
     "metadata": {},
     "output_type": "execute_result"
    }
   ],
   "source": [
    "Y.shape"
   ]
  },
  {
   "cell_type": "code",
   "execution_count": 170,
   "metadata": {},
   "outputs": [
    {
     "data": {
      "text/plain": [
       "(100, 2)"
      ]
     },
     "execution_count": 170,
     "metadata": {},
     "output_type": "execute_result"
    }
   ],
   "source": [
    "transformed.shape"
   ]
  },
  {
   "cell_type": "code",
   "execution_count": 171,
   "metadata": {},
   "outputs": [
    {
     "data": {
      "text/plain": [
       "array([[ 1.88118406e+00, -4.79120532e-17],\n",
       "       [-4.79120532e-17,  2.41355748e-02]])"
      ]
     },
     "execution_count": 171,
     "metadata": {},
     "output_type": "execute_result"
    }
   ],
   "source": [
    "np.cov(transformed.T)"
   ]
  },
  {
   "cell_type": "code",
   "execution_count": 191,
   "metadata": {},
   "outputs": [
    {
     "data": {
      "text/plain": [
       "<matplotlib.collections.PathCollection at 0x7faa2bb595b0>"
      ]
     },
     "execution_count": 191,
     "metadata": {},
     "output_type": "execute_result"
    },
    {
     "data": {
      "image/png": "[encoded data removed]",
      "text/plain": [
       "<Figure size 640x480 with 1 Axes>"
      ]
     },
     "metadata": {},
     "output_type": "display_data"
    }
   ],
   "source": [
    "plt.xlim(-5,5)\n",
    "plt.ylim(-5,5)\n",
    "plt.grid()\n",
    "plt.axhline(y=0, color=\"g\")\n",
    "plt.axvline(x=0, color=\"g\")\n",
    "plt.scatter(transformed[:,0], transformed[:,1], linewidths=0.01)"
   ]
  },
  {
   "cell_type": "code",
   "execution_count": 197,
   "metadata": {},
   "outputs": [
    {
     "data": {
      "text/plain": [
       "array([0.77500815, 0.63195124])"
      ]
     },
     "execution_count": 197,
     "metadata": {},
     "output_type": "execute_result"
    }
   ],
   "source": [
    "\n",
    "eigen_vectors.T[0]"
   ]
  },
  {
   "cell_type": "code",
   "execution_count": 199,
   "metadata": {},
   "outputs": [],
   "source": [
    "oned_transformed = np.matmul(eigen_vectors.T[0].T, Y.T).T"
   ]
  },
  {
   "cell_type": "code",
   "execution_count": 211,
   "metadata": {},
   "outputs": [],
   "source": [
    "oned_transformed.shape\n",
    "zeros = np.zeros(oned_transformed.shape[0],)"
   ]
  },
  {
   "cell_type": "code",
   "execution_count": 212,
   "metadata": {},
   "outputs": [
    {
     "data": {
      "text/plain": [
       "(100,)"
      ]
     },
     "execution_count": 212,
     "metadata": {},
     "output_type": "execute_result"
    }
   ],
   "source": [
    "zeros.shape"
   ]
  },
  {
   "cell_type": "code",
   "execution_count": 213,
   "metadata": {},
   "outputs": [
    {
     "data": {
      "text/plain": [
       "<matplotlib.collections.PathCollection at 0x7faa2b734460>"
      ]
     },
     "execution_count": 213,
     "metadata": {},
     "output_type": "execute_result"
    },
    {
     "data": {
      "image/png": "[encoded data removed]",
      "text/plain": [
       "<Figure size 640x480 with 1 Axes>"
      ]
     },
     "metadata": {},
     "output_type": "display_data"
    }
   ],
   "source": [
    "plt.grid()\n",
    "plt.scatter(oned_transformed, zeros)"
   ]
  },
  {
   "cell_type": "code",
   "execution_count": null,
   "metadata": {},
   "outputs": [],
   "source": []
  }
 ],
 "metadata": {
  "kernelspec": {
   "display_name": "Python 3",
   "language": "python",
   "name": "python3"
  },
  "language_info": {
   "codemirror_mode": {
    "name": "ipython",
    "version": 3
   },
   "file_extension": ".py",
   "mimetype": "text/x-python",
   "name": "python",
   "nbconvert_exporter": "python",
   "pygments_lexer": "ipython3",
   "version": "3.9.14"
  },
  "orig_nbformat": 4
 },
 "nbformat": 4,
 "nbformat_minor": 2
}
