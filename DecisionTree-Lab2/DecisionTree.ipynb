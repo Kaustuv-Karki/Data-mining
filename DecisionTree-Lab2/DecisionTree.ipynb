{
 "cells": [
  {
   "cell_type": "code",
   "execution_count": 126,
   "metadata": {},
   "outputs": [],
   "source": [
    "import pandas as pd\n",
    "import numpy as np\n",
    "import matplotlib.pyplot as plt"
   ]
  },
  {
   "cell_type": "code",
   "execution_count": 127,
   "metadata": {},
   "outputs": [],
   "source": [
    "data = pd.read_csv(\"winequality-red.csv\")"
   ]
  },
  {
   "cell_type": "code",
   "execution_count": 128,
   "metadata": {},
   "outputs": [
    {
     "data": {
      "text/plain": [
       "(1599, 12)"
      ]
     },
     "execution_count": 128,
     "metadata": {},
     "output_type": "execute_result"
    }
   ],
   "source": [
    "data.shape"
   ]
  },
  {
   "cell_type": "code",
   "execution_count": 129,
   "metadata": {},
   "outputs": [],
   "source": [
    "column = data.columns"
   ]
  },
  {
   "cell_type": "code",
   "execution_count": 130,
   "metadata": {},
   "outputs": [
    {
     "data": {
      "text/plain": [
       "Index(['fixed acidity', 'volatile acidity', 'citric acid', 'residual sugar',\n",
       "       'chlorides', 'free sulfur dioxide', 'total sulfur dioxide', 'density',\n",
       "       'pH', 'sulphates', 'alcohol', 'quality'],\n",
       "      dtype='object')"
      ]
     },
     "execution_count": 130,
     "metadata": {},
     "output_type": "execute_result"
    }
   ],
   "source": [
    "column"
   ]
  },
  {
   "cell_type": "code",
   "execution_count": 131,
   "metadata": {},
   "outputs": [],
   "source": [
    "# The dataset shows the ranking of the quality of the dataset from 0-10 0 being the lowest and 10 being the highest"
   ]
  },
  {
   "cell_type": "code",
   "execution_count": 132,
   "metadata": {},
   "outputs": [
    {
     "data": {
      "text/plain": [
       "quality\n",
       "5    681\n",
       "6    638\n",
       "7    199\n",
       "4     53\n",
       "8     18\n",
       "3     10\n",
       "Name: count, dtype: int64"
      ]
     },
     "execution_count": 132,
     "metadata": {},
     "output_type": "execute_result"
    }
   ],
   "source": [
    "data[\"quality\"].value_counts()"
   ]
  },
  {
   "cell_type": "code",
   "execution_count": 133,
   "metadata": {},
   "outputs": [],
   "source": [
    "# Three classes low medium and high\n",
    "# 0-3 -> 0\n",
    "# 4-6 -> 1\n",
    "# 7-10 2"
   ]
  },
  {
   "cell_type": "code",
   "execution_count": 218,
   "metadata": {},
   "outputs": [],
   "source": [
    "ranges = [0, 4, 6, 10]\n",
    "labels = [0, 1, 2]"
   ]
  },
  {
   "cell_type": "code",
   "execution_count": 219,
   "metadata": {},
   "outputs": [],
   "source": [
    "data['quality_label'] = np.select(\n",
    "    [data['quality'].between(ranges[i], ranges[i+1], inclusive='right') for i in range(len(labels))],\n",
    "    labels,\n",
    "    default=''\n",
    ")"
   ]
  },
  {
   "cell_type": "code",
   "execution_count": 220,
   "metadata": {},
   "outputs": [],
   "source": [
    "df_y = data[\"quality_label\"]"
   ]
  },
  {
   "cell_type": "code",
   "execution_count": 221,
   "metadata": {},
   "outputs": [
    {
     "data": {
      "text/plain": [
       "0       1\n",
       "1       1\n",
       "2       1\n",
       "3       1\n",
       "4       1\n",
       "       ..\n",
       "1594    1\n",
       "1595    1\n",
       "1596    1\n",
       "1597    1\n",
       "1598    1\n",
       "Name: quality_label, Length: 1599, dtype: object"
      ]
     },
     "execution_count": 221,
     "metadata": {},
     "output_type": "execute_result"
    }
   ],
   "source": [
    "df_y"
   ]
  },
  {
   "cell_type": "code",
   "execution_count": 222,
   "metadata": {},
   "outputs": [
    {
     "data": {
      "text/plain": [
       "quality_label\n",
       "1    1319\n",
       "2     217\n",
       "0      63\n",
       "Name: count, dtype: int64"
      ]
     },
     "execution_count": 222,
     "metadata": {},
     "output_type": "execute_result"
    }
   ],
   "source": [
    "df_y.value_counts()"
   ]
  },
  {
   "cell_type": "code",
   "execution_count": 223,
   "metadata": {},
   "outputs": [
    {
     "data": {
      "text/plain": [
       "(1599,)"
      ]
     },
     "execution_count": 223,
     "metadata": {},
     "output_type": "execute_result"
    }
   ],
   "source": [
    "df_y.shape"
   ]
  },
  {
   "cell_type": "code",
   "execution_count": 224,
   "metadata": {},
   "outputs": [],
   "source": [
    "df_y = df_y.values.reshape(-1, 1)"
   ]
  },
  {
   "cell_type": "code",
   "execution_count": 225,
   "metadata": {},
   "outputs": [
    {
     "data": {
      "text/plain": [
       "quality_label\n",
       "1    1319\n",
       "2     217\n",
       "0      63\n",
       "Name: count, dtype: int64"
      ]
     },
     "execution_count": 225,
     "metadata": {},
     "output_type": "execute_result"
    }
   ],
   "source": [
    "data[\"quality_label\"].value_counts()"
   ]
  },
  {
   "cell_type": "code",
   "execution_count": 226,
   "metadata": {},
   "outputs": [
    {
     "data": {
      "text/html": [
       "<div>\n",
       "<style scoped>\n",
       "    .dataframe tbody tr th:only-of-type {\n",
       "        vertical-align: middle;\n",
       "    }\n",
       "\n",
       "    .dataframe tbody tr th {\n",
       "        vertical-align: top;\n",
       "    }\n",
       "\n",
       "    .dataframe thead th {\n",
       "        text-align: right;\n",
       "    }\n",
       "</style>\n",
       "<table border=\"1\" class=\"dataframe\">\n",
       "  <thead>\n",
       "    <tr style=\"text-align: right;\">\n",
       "      <th></th>\n",
       "      <th>fixed acidity</th>\n",
       "      <th>volatile acidity</th>\n",
       "      <th>citric acid</th>\n",
       "      <th>residual sugar</th>\n",
       "      <th>chlorides</th>\n",
       "      <th>free sulfur dioxide</th>\n",
       "      <th>total sulfur dioxide</th>\n",
       "      <th>density</th>\n",
       "      <th>pH</th>\n",
       "      <th>sulphates</th>\n",
       "      <th>alcohol</th>\n",
       "      <th>quality</th>\n",
       "      <th>quality_label</th>\n",
       "    </tr>\n",
       "  </thead>\n",
       "  <tbody>\n",
       "    <tr>\n",
       "      <th>0</th>\n",
       "      <td>7.4</td>\n",
       "      <td>0.700</td>\n",
       "      <td>0.00</td>\n",
       "      <td>1.9</td>\n",
       "      <td>0.076</td>\n",
       "      <td>11.0</td>\n",
       "      <td>34.0</td>\n",
       "      <td>0.99780</td>\n",
       "      <td>3.51</td>\n",
       "      <td>0.56</td>\n",
       "      <td>9.4</td>\n",
       "      <td>5</td>\n",
       "      <td>1</td>\n",
       "    </tr>\n",
       "    <tr>\n",
       "      <th>1</th>\n",
       "      <td>7.8</td>\n",
       "      <td>0.880</td>\n",
       "      <td>0.00</td>\n",
       "      <td>2.6</td>\n",
       "      <td>0.098</td>\n",
       "      <td>25.0</td>\n",
       "      <td>67.0</td>\n",
       "      <td>0.99680</td>\n",
       "      <td>3.20</td>\n",
       "      <td>0.68</td>\n",
       "      <td>9.8</td>\n",
       "      <td>5</td>\n",
       "      <td>1</td>\n",
       "    </tr>\n",
       "    <tr>\n",
       "      <th>2</th>\n",
       "      <td>7.8</td>\n",
       "      <td>0.760</td>\n",
       "      <td>0.04</td>\n",
       "      <td>2.3</td>\n",
       "      <td>0.092</td>\n",
       "      <td>15.0</td>\n",
       "      <td>54.0</td>\n",
       "      <td>0.99700</td>\n",
       "      <td>3.26</td>\n",
       "      <td>0.65</td>\n",
       "      <td>9.8</td>\n",
       "      <td>5</td>\n",
       "      <td>1</td>\n",
       "    </tr>\n",
       "    <tr>\n",
       "      <th>3</th>\n",
       "      <td>11.2</td>\n",
       "      <td>0.280</td>\n",
       "      <td>0.56</td>\n",
       "      <td>1.9</td>\n",
       "      <td>0.075</td>\n",
       "      <td>17.0</td>\n",
       "      <td>60.0</td>\n",
       "      <td>0.99800</td>\n",
       "      <td>3.16</td>\n",
       "      <td>0.58</td>\n",
       "      <td>9.8</td>\n",
       "      <td>6</td>\n",
       "      <td>1</td>\n",
       "    </tr>\n",
       "    <tr>\n",
       "      <th>4</th>\n",
       "      <td>7.4</td>\n",
       "      <td>0.700</td>\n",
       "      <td>0.00</td>\n",
       "      <td>1.9</td>\n",
       "      <td>0.076</td>\n",
       "      <td>11.0</td>\n",
       "      <td>34.0</td>\n",
       "      <td>0.99780</td>\n",
       "      <td>3.51</td>\n",
       "      <td>0.56</td>\n",
       "      <td>9.4</td>\n",
       "      <td>5</td>\n",
       "      <td>1</td>\n",
       "    </tr>\n",
       "    <tr>\n",
       "      <th>...</th>\n",
       "      <td>...</td>\n",
       "      <td>...</td>\n",
       "      <td>...</td>\n",
       "      <td>...</td>\n",
       "      <td>...</td>\n",
       "      <td>...</td>\n",
       "      <td>...</td>\n",
       "      <td>...</td>\n",
       "      <td>...</td>\n",
       "      <td>...</td>\n",
       "      <td>...</td>\n",
       "      <td>...</td>\n",
       "      <td>...</td>\n",
       "    </tr>\n",
       "    <tr>\n",
       "      <th>1594</th>\n",
       "      <td>6.2</td>\n",
       "      <td>0.600</td>\n",
       "      <td>0.08</td>\n",
       "      <td>2.0</td>\n",
       "      <td>0.090</td>\n",
       "      <td>32.0</td>\n",
       "      <td>44.0</td>\n",
       "      <td>0.99490</td>\n",
       "      <td>3.45</td>\n",
       "      <td>0.58</td>\n",
       "      <td>10.5</td>\n",
       "      <td>5</td>\n",
       "      <td>1</td>\n",
       "    </tr>\n",
       "    <tr>\n",
       "      <th>1595</th>\n",
       "      <td>5.9</td>\n",
       "      <td>0.550</td>\n",
       "      <td>0.10</td>\n",
       "      <td>2.2</td>\n",
       "      <td>0.062</td>\n",
       "      <td>39.0</td>\n",
       "      <td>51.0</td>\n",
       "      <td>0.99512</td>\n",
       "      <td>3.52</td>\n",
       "      <td>0.76</td>\n",
       "      <td>11.2</td>\n",
       "      <td>6</td>\n",
       "      <td>1</td>\n",
       "    </tr>\n",
       "    <tr>\n",
       "      <th>1596</th>\n",
       "      <td>6.3</td>\n",
       "      <td>0.510</td>\n",
       "      <td>0.13</td>\n",
       "      <td>2.3</td>\n",
       "      <td>0.076</td>\n",
       "      <td>29.0</td>\n",
       "      <td>40.0</td>\n",
       "      <td>0.99574</td>\n",
       "      <td>3.42</td>\n",
       "      <td>0.75</td>\n",
       "      <td>11.0</td>\n",
       "      <td>6</td>\n",
       "      <td>1</td>\n",
       "    </tr>\n",
       "    <tr>\n",
       "      <th>1597</th>\n",
       "      <td>5.9</td>\n",
       "      <td>0.645</td>\n",
       "      <td>0.12</td>\n",
       "      <td>2.0</td>\n",
       "      <td>0.075</td>\n",
       "      <td>32.0</td>\n",
       "      <td>44.0</td>\n",
       "      <td>0.99547</td>\n",
       "      <td>3.57</td>\n",
       "      <td>0.71</td>\n",
       "      <td>10.2</td>\n",
       "      <td>5</td>\n",
       "      <td>1</td>\n",
       "    </tr>\n",
       "    <tr>\n",
       "      <th>1598</th>\n",
       "      <td>6.0</td>\n",
       "      <td>0.310</td>\n",
       "      <td>0.47</td>\n",
       "      <td>3.6</td>\n",
       "      <td>0.067</td>\n",
       "      <td>18.0</td>\n",
       "      <td>42.0</td>\n",
       "      <td>0.99549</td>\n",
       "      <td>3.39</td>\n",
       "      <td>0.66</td>\n",
       "      <td>11.0</td>\n",
       "      <td>6</td>\n",
       "      <td>1</td>\n",
       "    </tr>\n",
       "  </tbody>\n",
       "</table>\n",
       "<p>1599 rows × 13 columns</p>\n",
       "</div>"
      ],
      "text/plain": [
       "      fixed acidity  volatile acidity  citric acid  residual sugar  chlorides  \\\n",
       "0               7.4             0.700         0.00             1.9      0.076   \n",
       "1               7.8             0.880         0.00             2.6      0.098   \n",
       "2               7.8             0.760         0.04             2.3      0.092   \n",
       "3              11.2             0.280         0.56             1.9      0.075   \n",
       "4               7.4             0.700         0.00             1.9      0.076   \n",
       "...             ...               ...          ...             ...        ...   \n",
       "1594            6.2             0.600         0.08             2.0      0.090   \n",
       "1595            5.9             0.550         0.10             2.2      0.062   \n",
       "1596            6.3             0.510         0.13             2.3      0.076   \n",
       "1597            5.9             0.645         0.12             2.0      0.075   \n",
       "1598            6.0             0.310         0.47             3.6      0.067   \n",
       "\n",
       "      free sulfur dioxide  total sulfur dioxide  density    pH  sulphates  \\\n",
       "0                    11.0                  34.0  0.99780  3.51       0.56   \n",
       "1                    25.0                  67.0  0.99680  3.20       0.68   \n",
       "2                    15.0                  54.0  0.99700  3.26       0.65   \n",
       "3                    17.0                  60.0  0.99800  3.16       0.58   \n",
       "4                    11.0                  34.0  0.99780  3.51       0.56   \n",
       "...                   ...                   ...      ...   ...        ...   \n",
       "1594                 32.0                  44.0  0.99490  3.45       0.58   \n",
       "1595                 39.0                  51.0  0.99512  3.52       0.76   \n",
       "1596                 29.0                  40.0  0.99574  3.42       0.75   \n",
       "1597                 32.0                  44.0  0.99547  3.57       0.71   \n",
       "1598                 18.0                  42.0  0.99549  3.39       0.66   \n",
       "\n",
       "      alcohol  quality quality_label  \n",
       "0         9.4        5             1  \n",
       "1         9.8        5             1  \n",
       "2         9.8        5             1  \n",
       "3         9.8        6             1  \n",
       "4         9.4        5             1  \n",
       "...       ...      ...           ...  \n",
       "1594     10.5        5             1  \n",
       "1595     11.2        6             1  \n",
       "1596     11.0        6             1  \n",
       "1597     10.2        5             1  \n",
       "1598     11.0        6             1  \n",
       "\n",
       "[1599 rows x 13 columns]"
      ]
     },
     "execution_count": 226,
     "metadata": {},
     "output_type": "execute_result"
    }
   ],
   "source": [
    "data"
   ]
  },
  {
   "cell_type": "code",
   "execution_count": 227,
   "metadata": {},
   "outputs": [
    {
     "data": {
      "text/plain": [
       "<BarContainer object of 1599 artists>"
      ]
     },
     "execution_count": 227,
     "metadata": {},
     "output_type": "execute_result"
    },
    {
     "data": {
      "image/png": "[encoded data removed]",
      "text/plain": [
       "<Figure size 432x288 with 1 Axes>"
      ]
     },
     "metadata": {
      "needs_background": "light"
     },
     "output_type": "display_data"
    }
   ],
   "source": [
    "plt.bar(data[\"quality_label\"], data[\"alcohol\"])\n",
    "# plt.bar(data[\"quality\"], data[\"alcohol\"])"
   ]
  },
  {
   "cell_type": "code",
   "execution_count": 228,
   "metadata": {},
   "outputs": [
    {
     "data": {
      "text/plain": [
       "(1599, 1)"
      ]
     },
     "execution_count": 228,
     "metadata": {},
     "output_type": "execute_result"
    }
   ],
   "source": [
    "df_y.shape"
   ]
  },
  {
   "cell_type": "code",
   "execution_count": 229,
   "metadata": {},
   "outputs": [],
   "source": [
    "df_x = data.drop(columns=[\"quality\", \"quality_label\"])\n",
    "# df_x = data.drop(columns=[\"quality\"])"
   ]
  },
  {
   "cell_type": "code",
   "execution_count": 230,
   "metadata": {},
   "outputs": [],
   "source": [
    "# Entropy\n",
    "from sklearn.tree import DecisionTreeClassifier"
   ]
  },
  {
   "cell_type": "code",
   "execution_count": 231,
   "metadata": {},
   "outputs": [],
   "source": [
    "classifier = DecisionTreeClassifier(criterion=\"entropy\")"
   ]
  },
  {
   "cell_type": "code",
   "execution_count": 232,
   "metadata": {},
   "outputs": [],
   "source": [
    "from sklearn.model_selection import train_test_split"
   ]
  },
  {
   "cell_type": "code",
   "execution_count": 273,
   "metadata": {},
   "outputs": [],
   "source": [
    "train_x, test_x, train_y, test_y = train_test_split(df_x, df_y, test_size=1/3, random_state=20)"
   ]
  },
  {
   "cell_type": "code",
   "execution_count": 275,
   "metadata": {},
   "outputs": [
    {
     "data": {
      "text/plain": [
       "array([['1'],\n",
       "       ['1'],\n",
       "       ['1'],\n",
       "       ...,\n",
       "       ['1'],\n",
       "       ['1'],\n",
       "       ['1']], dtype=object)"
      ]
     },
     "execution_count": 275,
     "metadata": {},
     "output_type": "execute_result"
    }
   ],
   "source": [
    "train_y"
   ]
  },
  {
   "cell_type": "code",
   "execution_count": 244,
   "metadata": {},
   "outputs": [],
   "source": [
    "train_y = train_y.astype(int)\n",
    "test_y = test_y.astype(int)"
   ]
  },
  {
   "cell_type": "code",
   "execution_count": 245,
   "metadata": {},
   "outputs": [
    {
     "data": {
      "text/html": [
       "<div>\n",
       "<style scoped>\n",
       "    .dataframe tbody tr th:only-of-type {\n",
       "        vertical-align: middle;\n",
       "    }\n",
       "\n",
       "    .dataframe tbody tr th {\n",
       "        vertical-align: top;\n",
       "    }\n",
       "\n",
       "    .dataframe thead th {\n",
       "        text-align: right;\n",
       "    }\n",
       "</style>\n",
       "<table border=\"1\" class=\"dataframe\">\n",
       "  <thead>\n",
       "    <tr style=\"text-align: right;\">\n",
       "      <th></th>\n",
       "      <th>fixed acidity</th>\n",
       "      <th>volatile acidity</th>\n",
       "      <th>citric acid</th>\n",
       "      <th>residual sugar</th>\n",
       "      <th>chlorides</th>\n",
       "      <th>free sulfur dioxide</th>\n",
       "      <th>total sulfur dioxide</th>\n",
       "      <th>density</th>\n",
       "      <th>pH</th>\n",
       "      <th>sulphates</th>\n",
       "      <th>alcohol</th>\n",
       "    </tr>\n",
       "  </thead>\n",
       "  <tbody>\n",
       "    <tr>\n",
       "      <th>1586</th>\n",
       "      <td>7.5</td>\n",
       "      <td>0.310</td>\n",
       "      <td>0.41</td>\n",
       "      <td>2.4</td>\n",
       "      <td>0.065</td>\n",
       "      <td>34.0</td>\n",
       "      <td>60.0</td>\n",
       "      <td>0.99492</td>\n",
       "      <td>3.34</td>\n",
       "      <td>0.85</td>\n",
       "      <td>11.4</td>\n",
       "    </tr>\n",
       "    <tr>\n",
       "      <th>239</th>\n",
       "      <td>8.2</td>\n",
       "      <td>1.000</td>\n",
       "      <td>0.09</td>\n",
       "      <td>2.3</td>\n",
       "      <td>0.065</td>\n",
       "      <td>7.0</td>\n",
       "      <td>37.0</td>\n",
       "      <td>0.99685</td>\n",
       "      <td>3.32</td>\n",
       "      <td>0.55</td>\n",
       "      <td>9.0</td>\n",
       "    </tr>\n",
       "    <tr>\n",
       "      <th>1294</th>\n",
       "      <td>8.2</td>\n",
       "      <td>0.635</td>\n",
       "      <td>0.10</td>\n",
       "      <td>2.1</td>\n",
       "      <td>0.073</td>\n",
       "      <td>25.0</td>\n",
       "      <td>60.0</td>\n",
       "      <td>0.99638</td>\n",
       "      <td>3.29</td>\n",
       "      <td>0.75</td>\n",
       "      <td>10.9</td>\n",
       "    </tr>\n",
       "    <tr>\n",
       "      <th>599</th>\n",
       "      <td>12.7</td>\n",
       "      <td>0.590</td>\n",
       "      <td>0.45</td>\n",
       "      <td>2.3</td>\n",
       "      <td>0.082</td>\n",
       "      <td>11.0</td>\n",
       "      <td>22.0</td>\n",
       "      <td>1.00000</td>\n",
       "      <td>3.00</td>\n",
       "      <td>0.70</td>\n",
       "      <td>9.3</td>\n",
       "    </tr>\n",
       "    <tr>\n",
       "      <th>802</th>\n",
       "      <td>5.1</td>\n",
       "      <td>0.585</td>\n",
       "      <td>0.00</td>\n",
       "      <td>1.7</td>\n",
       "      <td>0.044</td>\n",
       "      <td>14.0</td>\n",
       "      <td>86.0</td>\n",
       "      <td>0.99264</td>\n",
       "      <td>3.56</td>\n",
       "      <td>0.94</td>\n",
       "      <td>12.9</td>\n",
       "    </tr>\n",
       "    <tr>\n",
       "      <th>...</th>\n",
       "      <td>...</td>\n",
       "      <td>...</td>\n",
       "      <td>...</td>\n",
       "      <td>...</td>\n",
       "      <td>...</td>\n",
       "      <td>...</td>\n",
       "      <td>...</td>\n",
       "      <td>...</td>\n",
       "      <td>...</td>\n",
       "      <td>...</td>\n",
       "      <td>...</td>\n",
       "    </tr>\n",
       "    <tr>\n",
       "      <th>924</th>\n",
       "      <td>8.6</td>\n",
       "      <td>0.470</td>\n",
       "      <td>0.27</td>\n",
       "      <td>2.3</td>\n",
       "      <td>0.055</td>\n",
       "      <td>14.0</td>\n",
       "      <td>28.0</td>\n",
       "      <td>0.99516</td>\n",
       "      <td>3.18</td>\n",
       "      <td>0.80</td>\n",
       "      <td>11.2</td>\n",
       "    </tr>\n",
       "    <tr>\n",
       "      <th>1247</th>\n",
       "      <td>7.4</td>\n",
       "      <td>0.550</td>\n",
       "      <td>0.19</td>\n",
       "      <td>1.8</td>\n",
       "      <td>0.082</td>\n",
       "      <td>15.0</td>\n",
       "      <td>34.0</td>\n",
       "      <td>0.99655</td>\n",
       "      <td>3.49</td>\n",
       "      <td>0.68</td>\n",
       "      <td>10.5</td>\n",
       "    </tr>\n",
       "    <tr>\n",
       "      <th>271</th>\n",
       "      <td>11.5</td>\n",
       "      <td>0.180</td>\n",
       "      <td>0.51</td>\n",
       "      <td>4.0</td>\n",
       "      <td>0.104</td>\n",
       "      <td>4.0</td>\n",
       "      <td>23.0</td>\n",
       "      <td>0.99960</td>\n",
       "      <td>3.28</td>\n",
       "      <td>0.97</td>\n",
       "      <td>10.1</td>\n",
       "    </tr>\n",
       "    <tr>\n",
       "      <th>474</th>\n",
       "      <td>10.5</td>\n",
       "      <td>0.280</td>\n",
       "      <td>0.51</td>\n",
       "      <td>1.7</td>\n",
       "      <td>0.080</td>\n",
       "      <td>10.0</td>\n",
       "      <td>24.0</td>\n",
       "      <td>0.99820</td>\n",
       "      <td>3.20</td>\n",
       "      <td>0.89</td>\n",
       "      <td>9.4</td>\n",
       "    </tr>\n",
       "    <tr>\n",
       "      <th>1379</th>\n",
       "      <td>7.5</td>\n",
       "      <td>0.570</td>\n",
       "      <td>0.02</td>\n",
       "      <td>2.6</td>\n",
       "      <td>0.077</td>\n",
       "      <td>11.0</td>\n",
       "      <td>35.0</td>\n",
       "      <td>0.99557</td>\n",
       "      <td>3.36</td>\n",
       "      <td>0.62</td>\n",
       "      <td>10.8</td>\n",
       "    </tr>\n",
       "  </tbody>\n",
       "</table>\n",
       "<p>1066 rows × 11 columns</p>\n",
       "</div>"
      ],
      "text/plain": [
       "      fixed acidity  volatile acidity  citric acid  residual sugar  chlorides  \\\n",
       "1586            7.5             0.310         0.41             2.4      0.065   \n",
       "239             8.2             1.000         0.09             2.3      0.065   \n",
       "1294            8.2             0.635         0.10             2.1      0.073   \n",
       "599            12.7             0.590         0.45             2.3      0.082   \n",
       "802             5.1             0.585         0.00             1.7      0.044   \n",
       "...             ...               ...          ...             ...        ...   \n",
       "924             8.6             0.470         0.27             2.3      0.055   \n",
       "1247            7.4             0.550         0.19             1.8      0.082   \n",
       "271            11.5             0.180         0.51             4.0      0.104   \n",
       "474            10.5             0.280         0.51             1.7      0.080   \n",
       "1379            7.5             0.570         0.02             2.6      0.077   \n",
       "\n",
       "      free sulfur dioxide  total sulfur dioxide  density    pH  sulphates  \\\n",
       "1586                 34.0                  60.0  0.99492  3.34       0.85   \n",
       "239                   7.0                  37.0  0.99685  3.32       0.55   \n",
       "1294                 25.0                  60.0  0.99638  3.29       0.75   \n",
       "599                  11.0                  22.0  1.00000  3.00       0.70   \n",
       "802                  14.0                  86.0  0.99264  3.56       0.94   \n",
       "...                   ...                   ...      ...   ...        ...   \n",
       "924                  14.0                  28.0  0.99516  3.18       0.80   \n",
       "1247                 15.0                  34.0  0.99655  3.49       0.68   \n",
       "271                   4.0                  23.0  0.99960  3.28       0.97   \n",
       "474                  10.0                  24.0  0.99820  3.20       0.89   \n",
       "1379                 11.0                  35.0  0.99557  3.36       0.62   \n",
       "\n",
       "      alcohol  \n",
       "1586     11.4  \n",
       "239       9.0  \n",
       "1294     10.9  \n",
       "599       9.3  \n",
       "802      12.9  \n",
       "...       ...  \n",
       "924      11.2  \n",
       "1247     10.5  \n",
       "271      10.1  \n",
       "474       9.4  \n",
       "1379     10.8  \n",
       "\n",
       "[1066 rows x 11 columns]"
      ]
     },
     "execution_count": 245,
     "metadata": {},
     "output_type": "execute_result"
    }
   ],
   "source": [
    "train_x"
   ]
  },
  {
   "cell_type": "code",
   "execution_count": 246,
   "metadata": {},
   "outputs": [
    {
     "data": {
      "text/html": [
       "<div>\n",
       "<style scoped>\n",
       "    .dataframe tbody tr th:only-of-type {\n",
       "        vertical-align: middle;\n",
       "    }\n",
       "\n",
       "    .dataframe tbody tr th {\n",
       "        vertical-align: top;\n",
       "    }\n",
       "\n",
       "    .dataframe thead th {\n",
       "        text-align: right;\n",
       "    }\n",
       "</style>\n",
       "<table border=\"1\" class=\"dataframe\">\n",
       "  <thead>\n",
       "    <tr style=\"text-align: right;\">\n",
       "      <th></th>\n",
       "      <th>fixed acidity</th>\n",
       "      <th>volatile acidity</th>\n",
       "      <th>citric acid</th>\n",
       "      <th>residual sugar</th>\n",
       "      <th>chlorides</th>\n",
       "      <th>free sulfur dioxide</th>\n",
       "      <th>total sulfur dioxide</th>\n",
       "      <th>density</th>\n",
       "      <th>pH</th>\n",
       "      <th>sulphates</th>\n",
       "      <th>alcohol</th>\n",
       "    </tr>\n",
       "  </thead>\n",
       "  <tbody>\n",
       "    <tr>\n",
       "      <th>1508</th>\n",
       "      <td>7.1</td>\n",
       "      <td>0.270</td>\n",
       "      <td>0.60</td>\n",
       "      <td>2.1</td>\n",
       "      <td>0.074</td>\n",
       "      <td>17.0</td>\n",
       "      <td>25.0</td>\n",
       "      <td>0.99814</td>\n",
       "      <td>3.38</td>\n",
       "      <td>0.72</td>\n",
       "      <td>10.6</td>\n",
       "    </tr>\n",
       "    <tr>\n",
       "      <th>718</th>\n",
       "      <td>8.4</td>\n",
       "      <td>0.560</td>\n",
       "      <td>0.04</td>\n",
       "      <td>2.0</td>\n",
       "      <td>0.082</td>\n",
       "      <td>10.0</td>\n",
       "      <td>22.0</td>\n",
       "      <td>0.99760</td>\n",
       "      <td>3.22</td>\n",
       "      <td>0.44</td>\n",
       "      <td>9.6</td>\n",
       "    </tr>\n",
       "    <tr>\n",
       "      <th>1370</th>\n",
       "      <td>8.7</td>\n",
       "      <td>0.780</td>\n",
       "      <td>0.51</td>\n",
       "      <td>1.7</td>\n",
       "      <td>0.415</td>\n",
       "      <td>12.0</td>\n",
       "      <td>66.0</td>\n",
       "      <td>0.99623</td>\n",
       "      <td>3.00</td>\n",
       "      <td>1.17</td>\n",
       "      <td>9.2</td>\n",
       "    </tr>\n",
       "    <tr>\n",
       "      <th>579</th>\n",
       "      <td>10.6</td>\n",
       "      <td>0.310</td>\n",
       "      <td>0.49</td>\n",
       "      <td>2.2</td>\n",
       "      <td>0.063</td>\n",
       "      <td>18.0</td>\n",
       "      <td>40.0</td>\n",
       "      <td>0.99760</td>\n",
       "      <td>3.14</td>\n",
       "      <td>0.51</td>\n",
       "      <td>9.8</td>\n",
       "    </tr>\n",
       "    <tr>\n",
       "      <th>498</th>\n",
       "      <td>10.7</td>\n",
       "      <td>0.350</td>\n",
       "      <td>0.53</td>\n",
       "      <td>2.6</td>\n",
       "      <td>0.070</td>\n",
       "      <td>5.0</td>\n",
       "      <td>16.0</td>\n",
       "      <td>0.99720</td>\n",
       "      <td>3.15</td>\n",
       "      <td>0.65</td>\n",
       "      <td>11.0</td>\n",
       "    </tr>\n",
       "    <tr>\n",
       "      <th>...</th>\n",
       "      <td>...</td>\n",
       "      <td>...</td>\n",
       "      <td>...</td>\n",
       "      <td>...</td>\n",
       "      <td>...</td>\n",
       "      <td>...</td>\n",
       "      <td>...</td>\n",
       "      <td>...</td>\n",
       "      <td>...</td>\n",
       "      <td>...</td>\n",
       "      <td>...</td>\n",
       "    </tr>\n",
       "    <tr>\n",
       "      <th>1314</th>\n",
       "      <td>7.0</td>\n",
       "      <td>0.360</td>\n",
       "      <td>0.21</td>\n",
       "      <td>2.4</td>\n",
       "      <td>0.086</td>\n",
       "      <td>24.0</td>\n",
       "      <td>69.0</td>\n",
       "      <td>0.99556</td>\n",
       "      <td>3.40</td>\n",
       "      <td>0.53</td>\n",
       "      <td>10.1</td>\n",
       "    </tr>\n",
       "    <tr>\n",
       "      <th>90</th>\n",
       "      <td>7.9</td>\n",
       "      <td>0.520</td>\n",
       "      <td>0.26</td>\n",
       "      <td>1.9</td>\n",
       "      <td>0.079</td>\n",
       "      <td>42.0</td>\n",
       "      <td>140.0</td>\n",
       "      <td>0.99640</td>\n",
       "      <td>3.23</td>\n",
       "      <td>0.54</td>\n",
       "      <td>9.5</td>\n",
       "    </tr>\n",
       "    <tr>\n",
       "      <th>1306</th>\n",
       "      <td>9.7</td>\n",
       "      <td>0.690</td>\n",
       "      <td>0.32</td>\n",
       "      <td>2.5</td>\n",
       "      <td>0.088</td>\n",
       "      <td>22.0</td>\n",
       "      <td>91.0</td>\n",
       "      <td>0.99790</td>\n",
       "      <td>3.29</td>\n",
       "      <td>0.62</td>\n",
       "      <td>10.1</td>\n",
       "    </tr>\n",
       "    <tr>\n",
       "      <th>1557</th>\n",
       "      <td>6.6</td>\n",
       "      <td>0.855</td>\n",
       "      <td>0.02</td>\n",
       "      <td>2.4</td>\n",
       "      <td>0.062</td>\n",
       "      <td>15.0</td>\n",
       "      <td>23.0</td>\n",
       "      <td>0.99627</td>\n",
       "      <td>3.54</td>\n",
       "      <td>0.60</td>\n",
       "      <td>11.0</td>\n",
       "    </tr>\n",
       "    <tr>\n",
       "      <th>590</th>\n",
       "      <td>9.0</td>\n",
       "      <td>0.450</td>\n",
       "      <td>0.49</td>\n",
       "      <td>2.6</td>\n",
       "      <td>0.084</td>\n",
       "      <td>21.0</td>\n",
       "      <td>75.0</td>\n",
       "      <td>0.99870</td>\n",
       "      <td>3.35</td>\n",
       "      <td>0.57</td>\n",
       "      <td>9.7</td>\n",
       "    </tr>\n",
       "  </tbody>\n",
       "</table>\n",
       "<p>533 rows × 11 columns</p>\n",
       "</div>"
      ],
      "text/plain": [
       "      fixed acidity  volatile acidity  citric acid  residual sugar  chlorides  \\\n",
       "1508            7.1             0.270         0.60             2.1      0.074   \n",
       "718             8.4             0.560         0.04             2.0      0.082   \n",
       "1370            8.7             0.780         0.51             1.7      0.415   \n",
       "579            10.6             0.310         0.49             2.2      0.063   \n",
       "498            10.7             0.350         0.53             2.6      0.070   \n",
       "...             ...               ...          ...             ...        ...   \n",
       "1314            7.0             0.360         0.21             2.4      0.086   \n",
       "90              7.9             0.520         0.26             1.9      0.079   \n",
       "1306            9.7             0.690         0.32             2.5      0.088   \n",
       "1557            6.6             0.855         0.02             2.4      0.062   \n",
       "590             9.0             0.450         0.49             2.6      0.084   \n",
       "\n",
       "      free sulfur dioxide  total sulfur dioxide  density    pH  sulphates  \\\n",
       "1508                 17.0                  25.0  0.99814  3.38       0.72   \n",
       "718                  10.0                  22.0  0.99760  3.22       0.44   \n",
       "1370                 12.0                  66.0  0.99623  3.00       1.17   \n",
       "579                  18.0                  40.0  0.99760  3.14       0.51   \n",
       "498                   5.0                  16.0  0.99720  3.15       0.65   \n",
       "...                   ...                   ...      ...   ...        ...   \n",
       "1314                 24.0                  69.0  0.99556  3.40       0.53   \n",
       "90                   42.0                 140.0  0.99640  3.23       0.54   \n",
       "1306                 22.0                  91.0  0.99790  3.29       0.62   \n",
       "1557                 15.0                  23.0  0.99627  3.54       0.60   \n",
       "590                  21.0                  75.0  0.99870  3.35       0.57   \n",
       "\n",
       "      alcohol  \n",
       "1508     10.6  \n",
       "718       9.6  \n",
       "1370      9.2  \n",
       "579       9.8  \n",
       "498      11.0  \n",
       "...       ...  \n",
       "1314     10.1  \n",
       "90        9.5  \n",
       "1306     10.1  \n",
       "1557     11.0  \n",
       "590       9.7  \n",
       "\n",
       "[533 rows x 11 columns]"
      ]
     },
     "execution_count": 246,
     "metadata": {},
     "output_type": "execute_result"
    }
   ],
   "source": [
    "test_x"
   ]
  },
  {
   "cell_type": "code",
   "execution_count": 252,
   "metadata": {},
   "outputs": [
    {
     "data": {
      "text/plain": [
       "(1066, 1)"
      ]
     },
     "execution_count": 252,
     "metadata": {},
     "output_type": "execute_result"
    }
   ],
   "source": [
    "train_y.shape"
   ]
  },
  {
   "cell_type": "code",
   "execution_count": 253,
   "metadata": {},
   "outputs": [],
   "source": [
    "classifier = classifier.fit(train_x, train_y)"
   ]
  },
  {
   "cell_type": "code",
   "execution_count": 254,
   "metadata": {},
   "outputs": [],
   "source": [
    "y_pred = classifier.predict(test_x)"
   ]
  },
  {
   "cell_type": "code",
   "execution_count": 255,
   "metadata": {},
   "outputs": [
    {
     "data": {
      "text/plain": [
       "numpy.int32"
      ]
     },
     "execution_count": 255,
     "metadata": {},
     "output_type": "execute_result"
    }
   ],
   "source": [
    "type(y_pred[1])"
   ]
  },
  {
   "cell_type": "code",
   "execution_count": 256,
   "metadata": {},
   "outputs": [],
   "source": [
    "from sklearn.metrics import classification_report, accuracy_score"
   ]
  },
  {
   "cell_type": "code",
   "execution_count": 257,
   "metadata": {},
   "outputs": [
    {
     "name": "stdout",
     "output_type": "stream",
     "text": [
      "0.8105065666041276\n"
     ]
    }
   ],
   "source": [
    "print(accuracy_score(test_y, y_pred))"
   ]
  },
  {
   "cell_type": "code",
   "execution_count": 258,
   "metadata": {},
   "outputs": [],
   "source": [
    "from sklearn.metrics import confusion_matrix\n",
    "cm = confusion_matrix(test_y, y_pred)"
   ]
  },
  {
   "cell_type": "code",
   "execution_count": 259,
   "metadata": {},
   "outputs": [],
   "source": [
    "import seaborn as sns"
   ]
  },
  {
   "cell_type": "code",
   "execution_count": 260,
   "metadata": {},
   "outputs": [
    {
     "data": {
      "text/plain": [
       "array([[  4,  11,   0],\n",
       "       [ 22, 392,  37],\n",
       "       [  0,  31,  36]], dtype=int64)"
      ]
     },
     "execution_count": 260,
     "metadata": {},
     "output_type": "execute_result"
    }
   ],
   "source": [
    "cm"
   ]
  },
  {
   "cell_type": "code",
   "execution_count": 261,
   "metadata": {},
   "outputs": [
    {
     "data": {
      "text/plain": [
       "<AxesSubplot:>"
      ]
     },
     "execution_count": 261,
     "metadata": {},
     "output_type": "execute_result"
    },
    {
     "data": {
      "image/png": "[encoded data removed]",
      "text/plain": [
       "<Figure size 432x288 with 2 Axes>"
      ]
     },
     "metadata": {
      "needs_background": "light"
     },
     "output_type": "display_data"
    }
   ],
   "source": [
    "sns.heatmap(cm, annot=True, fmt=\"\", cmap='Blues')"
   ]
  },
  {
   "cell_type": "code",
   "execution_count": 262,
   "metadata": {},
   "outputs": [],
   "source": [
    "from sklearn.metrics import classification_report, accuracy_score"
   ]
  },
  {
   "cell_type": "code",
   "execution_count": 263,
   "metadata": {},
   "outputs": [],
   "source": [
    "report1 = classification_report(y_pred, test_y)"
   ]
  },
  {
   "cell_type": "code",
   "execution_count": 264,
   "metadata": {},
   "outputs": [
    {
     "name": "stdout",
     "output_type": "stream",
     "text": [
      "              precision    recall  f1-score   support\n",
      "\n",
      "           0       0.27      0.15      0.20        26\n",
      "           1       0.87      0.90      0.89       434\n",
      "           2       0.54      0.49      0.51        73\n",
      "\n",
      "    accuracy                           0.81       533\n",
      "   macro avg       0.56      0.52      0.53       533\n",
      "weighted avg       0.79      0.81      0.80       533\n",
      "\n"
     ]
    }
   ],
   "source": [
    "print(report1)"
   ]
  },
  {
   "cell_type": "code",
   "execution_count": 265,
   "metadata": {},
   "outputs": [
    {
     "data": {
      "text/plain": [
       "[Text(0.4590887404580153, 0.9642857142857143, 'x[10] <= 10.525\\nentropy = 0.841\\nsamples = 1066\\nvalue = [48, 868, 150]'),\n",
       " Text(0.21421755725190839, 0.8928571428571429, 'x[1] <= 0.605\\nentropy = 0.51\\nsamples = 648\\nvalue = [31, 592, 25]'),\n",
       " Text(0.09732824427480916, 0.8214285714285714, 'x[10] <= 9.65\\nentropy = 0.429\\nsamples = 405\\nvalue = [7, 376, 22]'),\n",
       " Text(0.04961832061068702, 0.75, 'x[0] <= 14.15\\nentropy = 0.246\\nsamples = 203\\nvalue = [5, 196, 2]'),\n",
       " Text(0.04198473282442748, 0.6785714285714286, 'x[2] <= 0.035\\nentropy = 0.212\\nsamples = 202\\nvalue = [5, 196, 1]'),\n",
       " Text(0.015267175572519083, 0.6071428571428571, 'x[10] <= 9.1\\nentropy = 1.149\\nsamples = 7\\nvalue = [1, 5, 1]'),\n",
       " Text(0.007633587786259542, 0.5357142857142857, 'entropy = 0.0\\nsamples = 1\\nvalue = [1, 0, 0]'),\n",
       " Text(0.022900763358778626, 0.5357142857142857, 'x[7] <= 0.997\\nentropy = 0.65\\nsamples = 6\\nvalue = [0, 5, 1]'),\n",
       " Text(0.015267175572519083, 0.4642857142857143, 'entropy = 0.0\\nsamples = 4\\nvalue = [0, 4, 0]'),\n",
       " Text(0.030534351145038167, 0.4642857142857143, 'x[9] <= 0.61\\nentropy = 1.0\\nsamples = 2\\nvalue = [0, 1, 1]'),\n",
       " Text(0.022900763358778626, 0.39285714285714285, 'entropy = 0.0\\nsamples = 1\\nvalue = [0, 0, 1]'),\n",
       " Text(0.03816793893129771, 0.39285714285714285, 'entropy = 0.0\\nsamples = 1\\nvalue = [0, 1, 0]'),\n",
       " Text(0.06870229007633588, 0.6071428571428571, 'x[8] <= 2.815\\nentropy = 0.144\\nsamples = 195\\nvalue = [4, 191, 0]'),\n",
       " Text(0.061068702290076333, 0.5357142857142857, 'entropy = 0.0\\nsamples = 1\\nvalue = [1, 0, 0]'),\n",
       " Text(0.07633587786259542, 0.5357142857142857, 'x[10] <= 9.55\\nentropy = 0.115\\nsamples = 194\\nvalue = [3, 191, 0]'),\n",
       " Text(0.061068702290076333, 0.4642857142857143, 'x[9] <= 0.435\\nentropy = 0.051\\nsamples = 173\\nvalue = [1, 172, 0]'),\n",
       " Text(0.05343511450381679, 0.39285714285714285, 'x[2] <= 0.21\\nentropy = 0.811\\nsamples = 4\\nvalue = [1, 3, 0]'),\n",
       " Text(0.04580152671755725, 0.32142857142857145, 'entropy = 0.0\\nsamples = 1\\nvalue = [1, 0, 0]'),\n",
       " Text(0.061068702290076333, 0.32142857142857145, 'entropy = 0.0\\nsamples = 3\\nvalue = [0, 3, 0]'),\n",
       " Text(0.06870229007633588, 0.39285714285714285, 'entropy = 0.0\\nsamples = 169\\nvalue = [0, 169, 0]'),\n",
       " Text(0.0916030534351145, 0.4642857142857143, 'x[2] <= 0.465\\nentropy = 0.454\\nsamples = 21\\nvalue = [2, 19, 0]'),\n",
       " Text(0.08396946564885496, 0.39285714285714285, 'entropy = 0.0\\nsamples = 16\\nvalue = [0, 16, 0]'),\n",
       " Text(0.09923664122137404, 0.39285714285714285, 'x[4] <= 0.075\\nentropy = 0.971\\nsamples = 5\\nvalue = [2, 3, 0]'),\n",
       " Text(0.0916030534351145, 0.32142857142857145, 'entropy = 0.0\\nsamples = 2\\nvalue = [2, 0, 0]'),\n",
       " Text(0.10687022900763359, 0.32142857142857145, 'entropy = 0.0\\nsamples = 3\\nvalue = [0, 3, 0]'),\n",
       " Text(0.05725190839694656, 0.6785714285714286, 'entropy = 0.0\\nsamples = 1\\nvalue = [0, 0, 1]'),\n",
       " Text(0.1450381679389313, 0.75, 'x[9] <= 0.595\\nentropy = 0.544\\nsamples = 202\\nvalue = [2, 180, 20]'),\n",
       " Text(0.11450381679389313, 0.6785714285714286, 'x[6] <= 18.5\\nentropy = 0.321\\nsamples = 85\\nvalue = [2, 81, 2]'),\n",
       " Text(0.10687022900763359, 0.6071428571428571, 'x[4] <= 0.086\\nentropy = 1.198\\nsamples = 13\\nvalue = [2, 9, 2]'),\n",
       " Text(0.09923664122137404, 0.5357142857142857, 'entropy = 0.0\\nsamples = 9\\nvalue = [0, 9, 0]'),\n",
       " Text(0.11450381679389313, 0.5357142857142857, 'x[5] <= 9.0\\nentropy = 1.0\\nsamples = 4\\nvalue = [2, 0, 2]'),\n",
       " Text(0.10687022900763359, 0.4642857142857143, 'entropy = 0.0\\nsamples = 2\\nvalue = [2, 0, 0]'),\n",
       " Text(0.12213740458015267, 0.4642857142857143, 'entropy = 0.0\\nsamples = 2\\nvalue = [0, 0, 2]'),\n",
       " Text(0.12213740458015267, 0.6071428571428571, 'entropy = 0.0\\nsamples = 72\\nvalue = [0, 72, 0]'),\n",
       " Text(0.17557251908396945, 0.6785714285714286, 'x[6] <= 68.0\\nentropy = 0.619\\nsamples = 117\\nvalue = [0, 99, 18]'),\n",
       " Text(0.16793893129770993, 0.6071428571428571, 'x[8] <= 3.025\\nentropy = 0.696\\nsamples = 96\\nvalue = [0, 78, 18]'),\n",
       " Text(0.1450381679389313, 0.5357142857142857, 'x[3] <= 1.95\\nentropy = 0.918\\nsamples = 6\\nvalue = [0, 2, 4]'),\n",
       " Text(0.13740458015267176, 0.4642857142857143, 'entropy = 0.0\\nsamples = 4\\nvalue = [0, 0, 4]'),\n",
       " Text(0.15267175572519084, 0.4642857142857143, 'entropy = 0.0\\nsamples = 2\\nvalue = [0, 2, 0]'),\n",
       " Text(0.19083969465648856, 0.5357142857142857, 'x[9] <= 0.795\\nentropy = 0.624\\nsamples = 90\\nvalue = [0, 76, 14]'),\n",
       " Text(0.16793893129770993, 0.4642857142857143, 'x[10] <= 10.25\\nentropy = 0.474\\nsamples = 69\\nvalue = [0, 62, 7]'),\n",
       " Text(0.16030534351145037, 0.39285714285714285, 'x[5] <= 8.5\\nentropy = 0.659\\nsamples = 41\\nvalue = [0, 34, 7]'),\n",
       " Text(0.15267175572519084, 0.32142857142857145, 'entropy = 0.0\\nsamples = 11\\nvalue = [0, 11, 0]'),\n",
       " Text(0.16793893129770993, 0.32142857142857145, 'x[5] <= 13.5\\nentropy = 0.784\\nsamples = 30\\nvalue = [0, 23, 7]'),\n",
       " Text(0.15267175572519084, 0.25, 'x[8] <= 3.25\\nentropy = 0.991\\nsamples = 9\\nvalue = [0, 4, 5]'),\n",
       " Text(0.1450381679389313, 0.17857142857142858, 'entropy = 0.0\\nsamples = 3\\nvalue = [0, 0, 3]'),\n",
       " Text(0.16030534351145037, 0.17857142857142858, 'x[8] <= 3.4\\nentropy = 0.918\\nsamples = 6\\nvalue = [0, 4, 2]'),\n",
       " Text(0.15267175572519084, 0.10714285714285714, 'entropy = 0.0\\nsamples = 4\\nvalue = [0, 4, 0]'),\n",
       " Text(0.16793893129770993, 0.10714285714285714, 'entropy = 0.0\\nsamples = 2\\nvalue = [0, 0, 2]'),\n",
       " Text(0.183206106870229, 0.25, 'x[3] <= 1.55\\nentropy = 0.454\\nsamples = 21\\nvalue = [0, 19, 2]'),\n",
       " Text(0.17557251908396945, 0.17857142857142858, 'entropy = 0.0\\nsamples = 1\\nvalue = [0, 0, 1]'),\n",
       " Text(0.19083969465648856, 0.17857142857142858, 'x[4] <= 0.062\\nentropy = 0.286\\nsamples = 20\\nvalue = [0, 19, 1]'),\n",
       " Text(0.183206106870229, 0.10714285714285714, 'x[8] <= 3.385\\nentropy = 0.918\\nsamples = 3\\nvalue = [0, 2, 1]'),\n",
       " Text(0.17557251908396945, 0.03571428571428571, 'entropy = 0.0\\nsamples = 1\\nvalue = [0, 0, 1]'),\n",
       " Text(0.19083969465648856, 0.03571428571428571, 'entropy = 0.0\\nsamples = 2\\nvalue = [0, 2, 0]'),\n",
       " Text(0.1984732824427481, 0.10714285714285714, 'entropy = 0.0\\nsamples = 17\\nvalue = [0, 17, 0]'),\n",
       " Text(0.17557251908396945, 0.39285714285714285, 'entropy = 0.0\\nsamples = 28\\nvalue = [0, 28, 0]'),\n",
       " Text(0.21374045801526717, 0.4642857142857143, 'x[4] <= 0.062\\nentropy = 0.918\\nsamples = 21\\nvalue = [0, 14, 7]'),\n",
       " Text(0.20610687022900764, 0.39285714285714285, 'entropy = 0.0\\nsamples = 3\\nvalue = [0, 0, 3]'),\n",
       " Text(0.22137404580152673, 0.39285714285714285, 'x[7] <= 1.0\\nentropy = 0.764\\nsamples = 18\\nvalue = [0, 14, 4]'),\n",
       " Text(0.20610687022900764, 0.32142857142857145, 'x[6] <= 62.0\\nentropy = 0.371\\nsamples = 14\\nvalue = [0, 13, 1]'),\n",
       " Text(0.1984732824427481, 0.25, 'entropy = 0.0\\nsamples = 13\\nvalue = [0, 13, 0]'),\n",
       " Text(0.21374045801526717, 0.25, 'entropy = 0.0\\nsamples = 1\\nvalue = [0, 0, 1]'),\n",
       " Text(0.2366412213740458, 0.32142857142857145, 'x[8] <= 3.42\\nentropy = 0.811\\nsamples = 4\\nvalue = [0, 1, 3]'),\n",
       " Text(0.22900763358778625, 0.25, 'entropy = 0.0\\nsamples = 3\\nvalue = [0, 0, 3]'),\n",
       " Text(0.24427480916030533, 0.25, 'entropy = 0.0\\nsamples = 1\\nvalue = [0, 1, 0]'),\n",
       " Text(0.183206106870229, 0.6071428571428571, 'entropy = 0.0\\nsamples = 21\\nvalue = [0, 21, 0]'),\n",
       " Text(0.33110687022900764, 0.8214285714285714, 'x[6] <= 26.5\\nentropy = 0.559\\nsamples = 243\\nvalue = [24, 216, 3]'),\n",
       " Text(0.2786259541984733, 0.75, 'x[0] <= 6.3\\nentropy = 0.93\\nsamples = 73\\nvalue = [16, 55, 2]'),\n",
       " Text(0.27099236641221375, 0.6785714285714286, 'entropy = 0.0\\nsamples = 3\\nvalue = [3, 0, 0]'),\n",
       " Text(0.2862595419847328, 0.6785714285714286, 'x[9] <= 0.465\\nentropy = 0.871\\nsamples = 70\\nvalue = [13, 55, 2]'),\n",
       " Text(0.27099236641221375, 0.6071428571428571, 'x[0] <= 7.55\\nentropy = 0.863\\nsamples = 7\\nvalue = [5, 2, 0]'),\n",
       " Text(0.2633587786259542, 0.5357142857142857, 'x[5] <= 5.5\\nentropy = 0.918\\nsamples = 3\\nvalue = [1, 2, 0]'),\n",
       " Text(0.25572519083969464, 0.4642857142857143, 'entropy = 0.0\\nsamples = 1\\nvalue = [1, 0, 0]'),\n",
       " Text(0.27099236641221375, 0.4642857142857143, 'entropy = 0.0\\nsamples = 2\\nvalue = [0, 2, 0]'),\n",
       " Text(0.2786259541984733, 0.5357142857142857, 'entropy = 0.0\\nsamples = 4\\nvalue = [4, 0, 0]'),\n",
       " Text(0.3015267175572519, 0.6071428571428571, 'x[3] <= 1.25\\nentropy = 0.746\\nsamples = 63\\nvalue = [8, 53, 2]'),\n",
       " Text(0.29389312977099236, 0.5357142857142857, 'entropy = 0.0\\nsamples = 1\\nvalue = [0, 0, 1]'),\n",
       " Text(0.30916030534351147, 0.5357142857142857, 'x[1] <= 0.857\\nentropy = 0.671\\nsamples = 62\\nvalue = [8, 53, 1]'),\n",
       " Text(0.2900763358778626, 0.4642857142857143, 'x[0] <= 9.05\\nentropy = 0.491\\nsamples = 56\\nvalue = [6, 50, 0]'),\n",
       " Text(0.2748091603053435, 0.39285714285714285, 'x[2] <= 0.025\\nentropy = 0.332\\nsamples = 49\\nvalue = [3, 46, 0]'),\n",
       " Text(0.26717557251908397, 0.32142857142857145, 'x[1] <= 0.67\\nentropy = 0.722\\nsamples = 15\\nvalue = [3, 12, 0]'),\n",
       " Text(0.2595419847328244, 0.25, 'entropy = 0.0\\nsamples = 8\\nvalue = [0, 8, 0]'),\n",
       " Text(0.2748091603053435, 0.25, 'x[7] <= 0.997\\nentropy = 0.985\\nsamples = 7\\nvalue = [3, 4, 0]'),\n",
       " Text(0.26717557251908397, 0.17857142857142858, 'x[5] <= 4.5\\nentropy = 0.811\\nsamples = 4\\nvalue = [3, 1, 0]'),\n",
       " Text(0.2595419847328244, 0.10714285714285714, 'entropy = 0.0\\nsamples = 1\\nvalue = [0, 1, 0]'),\n",
       " Text(0.2748091603053435, 0.10714285714285714, 'entropy = 0.0\\nsamples = 3\\nvalue = [3, 0, 0]'),\n",
       " Text(0.2824427480916031, 0.17857142857142858, 'entropy = 0.0\\nsamples = 3\\nvalue = [0, 3, 0]'),\n",
       " Text(0.2824427480916031, 0.32142857142857145, 'entropy = 0.0\\nsamples = 34\\nvalue = [0, 34, 0]'),\n",
       " Text(0.3053435114503817, 0.39285714285714285, 'x[1] <= 0.65\\nentropy = 0.985\\nsamples = 7\\nvalue = [3, 4, 0]'),\n",
       " Text(0.29770992366412213, 0.32142857142857145, 'entropy = 0.0\\nsamples = 2\\nvalue = [2, 0, 0]'),\n",
       " Text(0.31297709923664124, 0.32142857142857145, 'x[5] <= 5.0\\nentropy = 0.722\\nsamples = 5\\nvalue = [1, 4, 0]'),\n",
       " Text(0.3053435114503817, 0.25, 'entropy = 0.0\\nsamples = 1\\nvalue = [1, 0, 0]'),\n",
       " Text(0.32061068702290074, 0.25, 'entropy = 0.0\\nsamples = 4\\nvalue = [0, 4, 0]'),\n",
       " Text(0.3282442748091603, 0.4642857142857143, 'x[10] <= 9.8\\nentropy = 1.459\\nsamples = 6\\nvalue = [2, 3, 1]'),\n",
       " Text(0.32061068702290074, 0.39285714285714285, 'entropy = 0.0\\nsamples = 3\\nvalue = [0, 3, 0]'),\n",
       " Text(0.33587786259541985, 0.39285714285714285, 'x[9] <= 0.585\\nentropy = 0.918\\nsamples = 3\\nvalue = [2, 0, 1]'),\n",
       " Text(0.3282442748091603, 0.32142857142857145, 'entropy = 0.0\\nsamples = 2\\nvalue = [2, 0, 0]'),\n",
       " Text(0.3435114503816794, 0.32142857142857145, 'entropy = 0.0\\nsamples = 1\\nvalue = [0, 0, 1]'),\n",
       " Text(0.383587786259542, 0.75, 'x[3] <= 2.25\\nentropy = 0.325\\nsamples = 170\\nvalue = [8, 161, 1]'),\n",
       " Text(0.36259541984732824, 0.6785714285714286, 'x[3] <= 1.55\\nentropy = 0.417\\nsamples = 95\\nvalue = [8, 87, 0]'),\n",
       " Text(0.3435114503816794, 0.6071428571428571, 'x[0] <= 6.9\\nentropy = 0.985\\nsamples = 7\\nvalue = [3, 4, 0]'),\n",
       " Text(0.33587786259541985, 0.5357142857142857, 'entropy = 0.0\\nsamples = 2\\nvalue = [2, 0, 0]'),\n",
       " Text(0.3511450381679389, 0.5357142857142857, 'x[7] <= 0.997\\nentropy = 0.722\\nsamples = 5\\nvalue = [1, 4, 0]'),\n",
       " Text(0.3435114503816794, 0.4642857142857143, 'entropy = 0.0\\nsamples = 4\\nvalue = [0, 4, 0]'),\n",
       " Text(0.35877862595419846, 0.4642857142857143, 'entropy = 0.0\\nsamples = 1\\nvalue = [1, 0, 0]'),\n",
       " Text(0.3816793893129771, 0.6071428571428571, 'x[3] <= 1.95\\nentropy = 0.315\\nsamples = 88\\nvalue = [5, 83, 0]'),\n",
       " Text(0.37404580152671757, 0.5357142857142857, 'entropy = 0.0\\nsamples = 48\\nvalue = [0, 48, 0]'),\n",
       " Text(0.3893129770992366, 0.5357142857142857, 'x[8] <= 3.285\\nentropy = 0.544\\nsamples = 40\\nvalue = [5, 35, 0]'),\n",
       " Text(0.37404580152671757, 0.4642857142857143, 'x[2] <= 0.195\\nentropy = 0.235\\nsamples = 26\\nvalue = [1, 25, 0]'),\n",
       " Text(0.366412213740458, 0.39285714285714285, 'x[2] <= 0.185\\nentropy = 0.592\\nsamples = 7\\nvalue = [1, 6, 0]'),\n",
       " Text(0.35877862595419846, 0.32142857142857145, 'entropy = 0.0\\nsamples = 6\\nvalue = [0, 6, 0]'),\n",
       " Text(0.37404580152671757, 0.32142857142857145, 'entropy = 0.0\\nsamples = 1\\nvalue = [1, 0, 0]'),\n",
       " Text(0.3816793893129771, 0.39285714285714285, 'entropy = 0.0\\nsamples = 19\\nvalue = [0, 19, 0]'),\n",
       " Text(0.40458015267175573, 0.4642857142857143, 'x[8] <= 3.355\\nentropy = 0.863\\nsamples = 14\\nvalue = [4, 10, 0]'),\n",
       " Text(0.3969465648854962, 0.39285714285714285, 'entropy = 0.0\\nsamples = 4\\nvalue = [4, 0, 0]'),\n",
       " Text(0.4122137404580153, 0.39285714285714285, 'entropy = 0.0\\nsamples = 10\\nvalue = [0, 10, 0]'),\n",
       " Text(0.40458015267175573, 0.6785714285714286, 'x[2] <= 0.645\\nentropy = 0.102\\nsamples = 75\\nvalue = [0, 74, 1]'),\n",
       " Text(0.3969465648854962, 0.6071428571428571, 'entropy = 0.0\\nsamples = 74\\nvalue = [0, 74, 0]'),\n",
       " Text(0.4122137404580153, 0.6071428571428571, 'entropy = 0.0\\nsamples = 1\\nvalue = [0, 0, 1]'),\n",
       " Text(0.7039599236641222, 0.8928571428571429, 'x[9] <= 0.655\\nentropy = 1.104\\nsamples = 418\\nvalue = [17, 276, 125]'),\n",
       " Text(0.5651240458015268, 0.8214285714285714, 'x[1] <= 0.827\\nentropy = 1.006\\nsamples = 193\\nvalue = [17, 148, 28]'),\n",
       " Text(0.4985687022900763, 0.75, 'x[6] <= 10.5\\nentropy = 0.871\\nsamples = 177\\nvalue = [8, 142, 27]'),\n",
       " Text(0.4351145038167939, 0.6785714285714286, 'x[4] <= 0.108\\nentropy = 1.459\\nsamples = 18\\nvalue = [3, 6, 9]'),\n",
       " Text(0.42748091603053434, 0.6071428571428571, 'x[8] <= 3.275\\nentropy = 1.371\\nsamples = 15\\nvalue = [3, 3, 9]'),\n",
       " Text(0.4198473282442748, 0.5357142857142857, 'entropy = 0.0\\nsamples = 7\\nvalue = [0, 0, 7]'),\n",
       " Text(0.4351145038167939, 0.5357142857142857, 'x[1] <= 0.375\\nentropy = 1.561\\nsamples = 8\\nvalue = [3, 3, 2]'),\n",
       " Text(0.42748091603053434, 0.4642857142857143, 'entropy = 0.0\\nsamples = 2\\nvalue = [0, 0, 2]'),\n",
       " Text(0.44274809160305345, 0.4642857142857143, 'x[10] <= 11.45\\nentropy = 1.0\\nsamples = 6\\nvalue = [3, 3, 0]'),\n",
       " Text(0.4351145038167939, 0.39285714285714285, 'entropy = 0.0\\nsamples = 2\\nvalue = [2, 0, 0]'),\n",
       " Text(0.45038167938931295, 0.39285714285714285, 'x[5] <= 3.5\\nentropy = 0.811\\nsamples = 4\\nvalue = [1, 3, 0]'),\n",
       " Text(0.44274809160305345, 0.32142857142857145, 'entropy = 0.0\\nsamples = 1\\nvalue = [1, 0, 0]'),\n",
       " Text(0.4580152671755725, 0.32142857142857145, 'entropy = 0.0\\nsamples = 3\\nvalue = [0, 3, 0]'),\n",
       " Text(0.44274809160305345, 0.6071428571428571, 'entropy = 0.0\\nsamples = 3\\nvalue = [0, 3, 0]'),\n",
       " Text(0.5620229007633588, 0.6785714285714286, 'x[8] <= 3.285\\nentropy = 0.706\\nsamples = 159\\nvalue = [5, 136, 18]'),\n",
       " Text(0.5229007633587787, 0.6071428571428571, 'x[1] <= 0.47\\nentropy = 0.811\\nsamples = 44\\nvalue = [0, 33, 11]'),\n",
       " Text(0.5152671755725191, 0.5357142857142857, 'x[8] <= 3.255\\nentropy = 0.928\\nsamples = 32\\nvalue = [0, 21, 11]'),\n",
       " Text(0.5076335877862596, 0.4642857142857143, 'x[3] <= 4.0\\nentropy = 0.881\\nsamples = 30\\nvalue = [0, 21, 9]'),\n",
       " Text(0.48854961832061067, 0.39285714285714285, 'x[2] <= 0.36\\nentropy = 0.779\\nsamples = 26\\nvalue = [0, 20, 6]'),\n",
       " Text(0.4732824427480916, 0.32142857142857145, 'x[0] <= 7.05\\nentropy = 0.811\\nsamples = 4\\nvalue = [0, 1, 3]'),\n",
       " Text(0.46564885496183206, 0.25, 'entropy = 0.0\\nsamples = 1\\nvalue = [0, 1, 0]'),\n",
       " Text(0.48091603053435117, 0.25, 'entropy = 0.0\\nsamples = 3\\nvalue = [0, 0, 3]'),\n",
       " Text(0.5038167938931297, 0.32142857142857145, 'x[5] <= 41.25\\nentropy = 0.575\\nsamples = 22\\nvalue = [0, 19, 3]'),\n",
       " Text(0.4961832061068702, 0.25, 'x[8] <= 3.225\\nentropy = 0.454\\nsamples = 21\\nvalue = [0, 19, 2]'),\n",
       " Text(0.48854961832061067, 0.17857142857142858, 'entropy = 0.0\\nsamples = 16\\nvalue = [0, 16, 0]'),\n",
       " Text(0.5038167938931297, 0.17857142857142858, 'x[6] <= 23.5\\nentropy = 0.971\\nsamples = 5\\nvalue = [0, 3, 2]'),\n",
       " Text(0.4961832061068702, 0.10714285714285714, 'x[4] <= 0.104\\nentropy = 0.918\\nsamples = 3\\nvalue = [0, 1, 2]'),\n",
       " Text(0.48854961832061067, 0.03571428571428571, 'entropy = 0.0\\nsamples = 2\\nvalue = [0, 0, 2]'),\n",
       " Text(0.5038167938931297, 0.03571428571428571, 'entropy = 0.0\\nsamples = 1\\nvalue = [0, 1, 0]'),\n",
       " Text(0.5114503816793893, 0.10714285714285714, 'entropy = 0.0\\nsamples = 2\\nvalue = [0, 2, 0]'),\n",
       " Text(0.5114503816793893, 0.25, 'entropy = 0.0\\nsamples = 1\\nvalue = [0, 0, 1]'),\n",
       " Text(0.5267175572519084, 0.39285714285714285, 'x[2] <= 0.36\\nentropy = 0.811\\nsamples = 4\\nvalue = [0, 1, 3]'),\n",
       " Text(0.5190839694656488, 0.32142857142857145, 'entropy = 0.0\\nsamples = 1\\nvalue = [0, 1, 0]'),\n",
       " Text(0.5343511450381679, 0.32142857142857145, 'entropy = 0.0\\nsamples = 3\\nvalue = [0, 0, 3]'),\n",
       " Text(0.5229007633587787, 0.4642857142857143, 'entropy = 0.0\\nsamples = 2\\nvalue = [0, 0, 2]'),\n",
       " Text(0.5305343511450382, 0.5357142857142857, 'entropy = 0.0\\nsamples = 12\\nvalue = [0, 12, 0]'),\n",
       " Text(0.601145038167939, 0.6071428571428571, 'x[0] <= 7.15\\nentropy = 0.585\\nsamples = 115\\nvalue = [5, 103, 7]'),\n",
       " Text(0.5935114503816794, 0.5357142857142857, 'x[5] <= 13.5\\nentropy = 0.763\\nsamples = 79\\nvalue = [5, 67, 7]'),\n",
       " Text(0.5610687022900763, 0.4642857142857143, 'x[9] <= 0.545\\nentropy = 1.168\\nsamples = 34\\nvalue = [5, 24, 5]'),\n",
       " Text(0.5534351145038168, 0.39285714285714285, 'entropy = 0.0\\nsamples = 13\\nvalue = [0, 13, 0]'),\n",
       " Text(0.5687022900763359, 0.39285714285714285, 'x[4] <= 0.058\\nentropy = 1.475\\nsamples = 21\\nvalue = [5, 11, 5]'),\n",
       " Text(0.549618320610687, 0.32142857142857145, 'x[9] <= 0.57\\nentropy = 0.881\\nsamples = 10\\nvalue = [3, 7, 0]'),\n",
       " Text(0.5419847328244275, 0.25, 'x[2] <= 0.405\\nentropy = 0.811\\nsamples = 4\\nvalue = [3, 1, 0]'),\n",
       " Text(0.5343511450381679, 0.17857142857142858, 'entropy = 0.0\\nsamples = 3\\nvalue = [3, 0, 0]'),\n",
       " Text(0.549618320610687, 0.17857142857142858, 'entropy = 0.0\\nsamples = 1\\nvalue = [0, 1, 0]'),\n",
       " Text(0.5572519083969466, 0.25, 'entropy = 0.0\\nsamples = 6\\nvalue = [0, 6, 0]'),\n",
       " Text(0.5877862595419847, 0.32142857142857145, 'x[5] <= 7.5\\nentropy = 1.495\\nsamples = 11\\nvalue = [2, 4, 5]'),\n",
       " Text(0.5725190839694656, 0.25, 'x[6] <= 12.0\\nentropy = 0.918\\nsamples = 3\\nvalue = [2, 0, 1]'),\n",
       " Text(0.5648854961832062, 0.17857142857142858, 'entropy = 0.0\\nsamples = 1\\nvalue = [0, 0, 1]'),\n",
       " Text(0.5801526717557252, 0.17857142857142858, 'entropy = 0.0\\nsamples = 2\\nvalue = [2, 0, 0]'),\n",
       " Text(0.6030534351145038, 0.25, 'x[8] <= 3.425\\nentropy = 1.0\\nsamples = 8\\nvalue = [0, 4, 4]'),\n",
       " Text(0.5954198473282443, 0.17857142857142858, 'x[0] <= 6.55\\nentropy = 0.722\\nsamples = 5\\nvalue = [0, 1, 4]'),\n",
       " Text(0.5877862595419847, 0.10714285714285714, 'entropy = 0.0\\nsamples = 1\\nvalue = [0, 1, 0]'),\n",
       " Text(0.6030534351145038, 0.10714285714285714, 'entropy = 0.0\\nsamples = 4\\nvalue = [0, 0, 4]'),\n",
       " Text(0.6106870229007634, 0.17857142857142858, 'entropy = 0.0\\nsamples = 3\\nvalue = [0, 3, 0]'),\n",
       " Text(0.6259541984732825, 0.4642857142857143, 'x[0] <= 5.5\\nentropy = 0.262\\nsamples = 45\\nvalue = [0, 43, 2]'),\n",
       " Text(0.6183206106870229, 0.39285714285714285, 'x[5] <= 18.5\\nentropy = 0.811\\nsamples = 8\\nvalue = [0, 6, 2]'),\n",
       " Text(0.6106870229007634, 0.32142857142857145, 'entropy = 0.0\\nsamples = 5\\nvalue = [0, 5, 0]'),\n",
       " Text(0.6259541984732825, 0.32142857142857145, 'x[3] <= 2.15\\nentropy = 0.918\\nsamples = 3\\nvalue = [0, 1, 2]'),\n",
       " Text(0.6183206106870229, 0.25, 'entropy = 0.0\\nsamples = 2\\nvalue = [0, 0, 2]'),\n",
       " Text(0.6335877862595419, 0.25, 'entropy = 0.0\\nsamples = 1\\nvalue = [0, 1, 0]'),\n",
       " Text(0.6335877862595419, 0.39285714285714285, 'entropy = 0.0\\nsamples = 37\\nvalue = [0, 37, 0]'),\n",
       " Text(0.6087786259541985, 0.5357142857142857, 'entropy = 0.0\\nsamples = 36\\nvalue = [0, 36, 0]'),\n",
       " Text(0.6316793893129771, 0.75, 'x[3] <= 1.95\\nentropy = 1.248\\nsamples = 16\\nvalue = [9, 6, 1]'),\n",
       " Text(0.6240458015267175, 0.6785714285714286, 'entropy = 0.0\\nsamples = 4\\nvalue = [0, 4, 0]'),\n",
       " Text(0.6393129770992366, 0.6785714285714286, 'x[2] <= 0.195\\nentropy = 1.041\\nsamples = 12\\nvalue = [9, 2, 1]'),\n",
       " Text(0.6316793893129771, 0.6071428571428571, 'x[6] <= 47.5\\nentropy = 0.469\\nsamples = 10\\nvalue = [9, 0, 1]'),\n",
       " Text(0.6240458015267175, 0.5357142857142857, 'entropy = 0.0\\nsamples = 9\\nvalue = [9, 0, 0]'),\n",
       " Text(0.6393129770992366, 0.5357142857142857, 'entropy = 0.0\\nsamples = 1\\nvalue = [0, 0, 1]'),\n",
       " Text(0.6469465648854962, 0.6071428571428571, 'entropy = 0.0\\nsamples = 2\\nvalue = [0, 2, 0]'),\n",
       " Text(0.8427958015267175, 0.8214285714285714, 'x[10] <= 11.55\\nentropy = 0.986\\nsamples = 225\\nvalue = [0, 128, 97]'),\n",
       " Text(0.7581106870229007, 0.75, 'x[1] <= 0.395\\nentropy = 0.845\\nsamples = 132\\nvalue = [0, 96, 36]'),\n",
       " Text(0.6994274809160306, 0.6785714285714286, 'x[9] <= 0.735\\nentropy = 0.985\\nsamples = 63\\nvalue = [0, 36, 27]'),\n",
       " Text(0.6717557251908397, 0.6071428571428571, 'x[2] <= 0.405\\nentropy = 0.567\\nsamples = 15\\nvalue = [0, 13, 2]'),\n",
       " Text(0.6641221374045801, 0.5357142857142857, 'x[6] <= 25.5\\nentropy = 0.863\\nsamples = 7\\nvalue = [0, 5, 2]'),\n",
       " Text(0.6564885496183206, 0.4642857142857143, 'x[10] <= 11.15\\nentropy = 0.918\\nsamples = 3\\nvalue = [0, 1, 2]'),\n",
       " Text(0.648854961832061, 0.39285714285714285, 'entropy = 0.0\\nsamples = 1\\nvalue = [0, 1, 0]'),\n",
       " Text(0.6641221374045801, 0.39285714285714285, 'entropy = 0.0\\nsamples = 2\\nvalue = [0, 0, 2]'),\n",
       " Text(0.6717557251908397, 0.4642857142857143, 'entropy = 0.0\\nsamples = 4\\nvalue = [0, 4, 0]'),\n",
       " Text(0.6793893129770993, 0.5357142857142857, 'entropy = 0.0\\nsamples = 8\\nvalue = [0, 8, 0]'),\n",
       " Text(0.7270992366412213, 0.6071428571428571, 'x[7] <= 0.996\\nentropy = 0.999\\nsamples = 48\\nvalue = [0, 23, 25]'),\n",
       " Text(0.6946564885496184, 0.5357142857142857, 'x[6] <= 47.0\\nentropy = 0.722\\nsamples = 15\\nvalue = [0, 3, 12]'),\n",
       " Text(0.6870229007633588, 0.4642857142857143, 'entropy = 0.0\\nsamples = 11\\nvalue = [0, 0, 11]'),\n",
       " Text(0.7022900763358778, 0.4642857142857143, 'x[0] <= 9.05\\nentropy = 0.811\\nsamples = 4\\nvalue = [0, 3, 1]'),\n",
       " Text(0.6946564885496184, 0.39285714285714285, 'entropy = 0.0\\nsamples = 3\\nvalue = [0, 3, 0]'),\n",
       " Text(0.7099236641221374, 0.39285714285714285, 'entropy = 0.0\\nsamples = 1\\nvalue = [0, 0, 1]'),\n",
       " Text(0.7595419847328244, 0.5357142857142857, 'x[7] <= 0.998\\nentropy = 0.967\\nsamples = 33\\nvalue = [0, 20, 13]'),\n",
       " Text(0.732824427480916, 0.4642857142857143, 'x[3] <= 1.65\\nentropy = 0.755\\nsamples = 23\\nvalue = [0, 18, 5]'),\n",
       " Text(0.7251908396946565, 0.39285714285714285, 'entropy = 0.0\\nsamples = 2\\nvalue = [0, 0, 2]'),\n",
       " Text(0.7404580152671756, 0.39285714285714285, 'x[8] <= 3.395\\nentropy = 0.592\\nsamples = 21\\nvalue = [0, 18, 3]'),\n",
       " Text(0.7251908396946565, 0.32142857142857145, 'x[4] <= 0.101\\nentropy = 0.31\\nsamples = 18\\nvalue = [0, 17, 1]'),\n",
       " Text(0.7175572519083969, 0.25, 'entropy = 0.0\\nsamples = 16\\nvalue = [0, 16, 0]'),\n",
       " Text(0.732824427480916, 0.25, 'x[5] <= 12.5\\nentropy = 1.0\\nsamples = 2\\nvalue = [0, 1, 1]'),\n",
       " Text(0.7251908396946565, 0.17857142857142858, 'entropy = 0.0\\nsamples = 1\\nvalue = [0, 0, 1]'),\n",
       " Text(0.7404580152671756, 0.17857142857142858, 'entropy = 0.0\\nsamples = 1\\nvalue = [0, 1, 0]'),\n",
       " Text(0.7557251908396947, 0.32142857142857145, 'x[2] <= 0.295\\nentropy = 0.918\\nsamples = 3\\nvalue = [0, 1, 2]'),\n",
       " Text(0.7480916030534351, 0.25, 'entropy = 0.0\\nsamples = 1\\nvalue = [0, 1, 0]'),\n",
       " Text(0.7633587786259542, 0.25, 'entropy = 0.0\\nsamples = 2\\nvalue = [0, 0, 2]'),\n",
       " Text(0.7862595419847328, 0.4642857142857143, 'x[4] <= 0.076\\nentropy = 0.722\\nsamples = 10\\nvalue = [0, 2, 8]'),\n",
       " Text(0.7786259541984732, 0.39285714285714285, 'x[2] <= 0.48\\nentropy = 1.0\\nsamples = 4\\nvalue = [0, 2, 2]'),\n",
       " Text(0.7709923664122137, 0.32142857142857145, 'entropy = 0.0\\nsamples = 2\\nvalue = [0, 0, 2]'),\n",
       " Text(0.7862595419847328, 0.32142857142857145, 'entropy = 0.0\\nsamples = 2\\nvalue = [0, 2, 0]'),\n",
       " Text(0.7938931297709924, 0.39285714285714285, 'entropy = 0.0\\nsamples = 6\\nvalue = [0, 0, 6]'),\n",
       " Text(0.816793893129771, 0.6785714285714286, 'x[0] <= 6.9\\nentropy = 0.559\\nsamples = 69\\nvalue = [0, 60, 9]'),\n",
       " Text(0.8091603053435115, 0.6071428571428571, 'entropy = 0.0\\nsamples = 22\\nvalue = [0, 22, 0]'),\n",
       " Text(0.8244274809160306, 0.6071428571428571, 'x[8] <= 3.325\\nentropy = 0.705\\nsamples = 47\\nvalue = [0, 38, 9]'),\n",
       " Text(0.8091603053435115, 0.5357142857142857, 'x[2] <= 0.745\\nentropy = 0.206\\nsamples = 31\\nvalue = [0, 30, 1]'),\n",
       " Text(0.8015267175572519, 0.4642857142857143, 'entropy = 0.0\\nsamples = 30\\nvalue = [0, 30, 0]'),\n",
       " Text(0.816793893129771, 0.4642857142857143, 'entropy = 0.0\\nsamples = 1\\nvalue = [0, 0, 1]'),\n",
       " Text(0.8396946564885496, 0.5357142857142857, 'x[7] <= 0.997\\nentropy = 1.0\\nsamples = 16\\nvalue = [0, 8, 8]'),\n",
       " Text(0.8320610687022901, 0.4642857142857143, 'x[4] <= 0.071\\nentropy = 0.918\\nsamples = 12\\nvalue = [0, 8, 4]'),\n",
       " Text(0.8244274809160306, 0.39285714285714285, 'entropy = 0.0\\nsamples = 3\\nvalue = [0, 0, 3]'),\n",
       " Text(0.8396946564885496, 0.39285714285714285, 'x[3] <= 4.85\\nentropy = 0.503\\nsamples = 9\\nvalue = [0, 8, 1]'),\n",
       " Text(0.8320610687022901, 0.32142857142857145, 'entropy = 0.0\\nsamples = 8\\nvalue = [0, 8, 0]'),\n",
       " Text(0.8473282442748091, 0.32142857142857145, 'entropy = 0.0\\nsamples = 1\\nvalue = [0, 0, 1]'),\n",
       " Text(0.8473282442748091, 0.4642857142857143, 'entropy = 0.0\\nsamples = 4\\nvalue = [0, 0, 4]'),\n",
       " Text(0.9274809160305344, 0.75, 'x[5] <= 18.5\\nentropy = 0.929\\nsamples = 93\\nvalue = [0, 32, 61]'),\n",
       " Text(0.8854961832061069, 0.6785714285714286, 'x[9] <= 0.685\\nentropy = 0.752\\nsamples = 65\\nvalue = [0, 14, 51]'),\n",
       " Text(0.8625954198473282, 0.6071428571428571, 'x[6] <= 18.0\\nentropy = 0.946\\nsamples = 11\\nvalue = [0, 7, 4]'),\n",
       " Text(0.8549618320610687, 0.5357142857142857, 'entropy = 0.0\\nsamples = 3\\nvalue = [0, 0, 3]'),\n",
       " Text(0.8702290076335878, 0.5357142857142857, 'x[3] <= 5.05\\nentropy = 0.544\\nsamples = 8\\nvalue = [0, 7, 1]'),\n",
       " Text(0.8625954198473282, 0.4642857142857143, 'entropy = 0.0\\nsamples = 7\\nvalue = [0, 7, 0]'),\n",
       " Text(0.8778625954198473, 0.4642857142857143, 'entropy = 0.0\\nsamples = 1\\nvalue = [0, 0, 1]'),\n",
       " Text(0.9083969465648855, 0.6071428571428571, 'x[0] <= 12.2\\nentropy = 0.556\\nsamples = 54\\nvalue = [0, 7, 47]'),\n",
       " Text(0.9007633587786259, 0.5357142857142857, 'x[9] <= 0.775\\nentropy = 0.457\\nsamples = 52\\nvalue = [0, 5, 47]'),\n",
       " Text(0.8931297709923665, 0.4642857142857143, 'entropy = 0.0\\nsamples = 24\\nvalue = [0, 0, 24]'),\n",
       " Text(0.9083969465648855, 0.4642857142857143, 'x[4] <= 0.043\\nentropy = 0.677\\nsamples = 28\\nvalue = [0, 5, 23]'),\n",
       " Text(0.9007633587786259, 0.39285714285714285, 'entropy = 0.0\\nsamples = 2\\nvalue = [0, 2, 0]'),\n",
       " Text(0.916030534351145, 0.39285714285714285, 'x[1] <= 0.215\\nentropy = 0.516\\nsamples = 26\\nvalue = [0, 3, 23]'),\n",
       " Text(0.9083969465648855, 0.32142857142857145, 'entropy = 0.0\\nsamples = 1\\nvalue = [0, 1, 0]'),\n",
       " Text(0.9236641221374046, 0.32142857142857145, 'x[7] <= 0.996\\nentropy = 0.402\\nsamples = 25\\nvalue = [0, 2, 23]'),\n",
       " Text(0.916030534351145, 0.25, 'entropy = 0.0\\nsamples = 16\\nvalue = [0, 0, 16]'),\n",
       " Text(0.9312977099236641, 0.25, 'x[6] <= 22.5\\nentropy = 0.764\\nsamples = 9\\nvalue = [0, 2, 7]'),\n",
       " Text(0.9236641221374046, 0.17857142857142858, 'entropy = 0.0\\nsamples = 5\\nvalue = [0, 0, 5]'),\n",
       " Text(0.9389312977099237, 0.17857142857142858, 'x[6] <= 25.0\\nentropy = 1.0\\nsamples = 4\\nvalue = [0, 2, 2]'),\n",
       " Text(0.9312977099236641, 0.10714285714285714, 'entropy = 0.0\\nsamples = 2\\nvalue = [0, 2, 0]'),\n",
       " Text(0.9465648854961832, 0.10714285714285714, 'entropy = 0.0\\nsamples = 2\\nvalue = [0, 0, 2]'),\n",
       " Text(0.916030534351145, 0.5357142857142857, 'entropy = 0.0\\nsamples = 2\\nvalue = [0, 2, 0]'),\n",
       " Text(0.9694656488549618, 0.6785714285714286, 'x[1] <= 0.595\\nentropy = 0.94\\nsamples = 28\\nvalue = [0, 18, 10]'),\n",
       " Text(0.9618320610687023, 0.6071428571428571, 'x[5] <= 27.5\\nentropy = 0.994\\nsamples = 22\\nvalue = [0, 12, 10]'),\n",
       " Text(0.9465648854961832, 0.5357142857142857, 'x[0] <= 7.45\\nentropy = 0.811\\nsamples = 12\\nvalue = [0, 9, 3]'),\n",
       " Text(0.9389312977099237, 0.4642857142857143, 'x[6] <= 55.0\\nentropy = 0.971\\nsamples = 5\\nvalue = [0, 2, 3]'),\n",
       " Text(0.9312977099236641, 0.39285714285714285, 'entropy = 0.0\\nsamples = 3\\nvalue = [0, 0, 3]'),\n",
       " Text(0.9465648854961832, 0.39285714285714285, 'entropy = 0.0\\nsamples = 2\\nvalue = [0, 2, 0]'),\n",
       " Text(0.9541984732824428, 0.4642857142857143, 'entropy = 0.0\\nsamples = 7\\nvalue = [0, 7, 0]'),\n",
       " Text(0.9770992366412213, 0.5357142857142857, 'x[6] <= 57.5\\nentropy = 0.881\\nsamples = 10\\nvalue = [0, 3, 7]'),\n",
       " Text(0.9694656488549618, 0.4642857142857143, 'entropy = 0.0\\nsamples = 4\\nvalue = [0, 0, 4]'),\n",
       " Text(0.9847328244274809, 0.4642857142857143, 'x[6] <= 75.0\\nentropy = 1.0\\nsamples = 6\\nvalue = [0, 3, 3]'),\n",
       " Text(0.9770992366412213, 0.39285714285714285, 'entropy = 0.0\\nsamples = 3\\nvalue = [0, 3, 0]'),\n",
       " Text(0.9923664122137404, 0.39285714285714285, 'entropy = 0.0\\nsamples = 3\\nvalue = [0, 0, 3]'),\n",
       " Text(0.9770992366412213, 0.6071428571428571, 'entropy = 0.0\\nsamples = 6\\nvalue = [0, 6, 0]')]"
      ]
     },
     "execution_count": 265,
     "metadata": {},
     "output_type": "execute_result"
    },
    {
     "data": {
      "image/png": "[encoded data removed]",
      "text/plain": [
       "<Figure size 2880x1440 with 1 Axes>"
      ]
     },
     "metadata": {
      "needs_background": "light"
     },
     "output_type": "display_data"
    }
   ],
   "source": [
    "from sklearn import tree\n",
    "plt.figure(figsize=(40,20))\n",
    "tree.plot_tree(classifier)"
   ]
  },
  {
   "cell_type": "code",
   "execution_count": 266,
   "metadata": {},
   "outputs": [],
   "source": [
    "from sklearn.model_selection import cross_val_score"
   ]
  },
  {
   "cell_type": "code",
   "execution_count": 267,
   "metadata": {},
   "outputs": [],
   "source": [
    "scores = cross_val_score(classifier, df_x, df_y, cv=5)"
   ]
  },
  {
   "cell_type": "code",
   "execution_count": 268,
   "metadata": {},
   "outputs": [
    {
     "data": {
      "text/plain": [
       "0.7392123824451411"
      ]
     },
     "execution_count": 268,
     "metadata": {},
     "output_type": "execute_result"
    }
   ],
   "source": [
    "scores.mean()"
   ]
  },
  {
   "cell_type": "code",
   "execution_count": 269,
   "metadata": {},
   "outputs": [
    {
     "data": {
      "text/plain": [
       "1.0"
      ]
     },
     "execution_count": 269,
     "metadata": {},
     "output_type": "execute_result"
    }
   ],
   "source": [
    "y_pred_train = classifier.predict(train_x)\n",
    "accuracy_score(train_y, y_pred_train)"
   ]
  },
  {
   "cell_type": "code",
   "execution_count": 270,
   "metadata": {},
   "outputs": [],
   "source": [
    "import dtreeviz"
   ]
  },
  {
   "cell_type": "code",
   "execution_count": 271,
   "metadata": {},
   "outputs": [],
   "source": [
    "viz_model = dtreeviz.model(classifier, df_x, df_y)"
   ]
  },
  {
   "cell_type": "code",
   "execution_count": 277,
   "metadata": {},
   "outputs": [
    {
     "data": {
      "text/plain": [
       "(1599, 1)"
      ]
     },
     "execution_count": 277,
     "metadata": {},
     "output_type": "execute_result"
    }
   ],
   "source": [
    "df_y.shape"
   ]
  },
  {
   "cell_type": "code",
   "execution_count": 272,
   "metadata": {},
   "outputs": [
    {
     "ename": "ValueError",
     "evalue": "y_train must a one-dimensional list or Pandas Series, got: (1599, 1)",
     "output_type": "error",
     "traceback": [
      "\u001b[1;31m---------------------------------------------------------------------------\u001b[0m",
      "\u001b[1;31mValueError\u001b[0m                                Traceback (most recent call last)",
      "\u001b[1;32md:\\Python\\DataMining\\DecisionTree-Lab2\\DecisionTree.ipynb Cell 48\u001b[0m in \u001b[0;36m<cell line: 1>\u001b[1;34m()\u001b[0m\n\u001b[1;32m----> <a href='vscode-notebook-cell:/d%3A/Python/DataMining/DecisionTree-Lab2/DecisionTree.ipynb#Y112sZmlsZQ%3D%3D?line=0'>1</a>\u001b[0m viz_model\u001b[39m.\u001b[39;49mview()\n",
      "File \u001b[1;32mc:\\Users\\user\\anaconda3\\envs\\mlenv-310\\lib\\site-packages\\dtreeviz\\trees.py:546\u001b[0m, in \u001b[0;36mDTreeVizAPI.view\u001b[1;34m(self, precision, orientation, instance_orientation, show_root_edge_labels, show_node_labels, show_just_path, fancy, histtype, leaftype, highlight_path, x, max_X_features_LR, max_X_features_TD, depth_range_to_display, label_fontsize, ticks_fontsize, fontname, title, title_fontsize, colors, scale)\u001b[0m\n\u001b[0;32m    544\u001b[0m         \u001b[39mraise\u001b[39;00m \u001b[39mValueError\u001b[39;00m(\u001b[39m'\u001b[39m\u001b[39my_train needs to consist only of numerical values. \u001b[39m\u001b[39m{}\u001b[39;00m\u001b[39m'\u001b[39m\u001b[39m.\u001b[39mformat(e))\n\u001b[0;32m    545\u001b[0m     \u001b[39mif\u001b[39;00m \u001b[39mlen\u001b[39m(y_train\u001b[39m.\u001b[39mshape) \u001b[39m!=\u001b[39m \u001b[39m1\u001b[39m:\n\u001b[1;32m--> 546\u001b[0m         \u001b[39mraise\u001b[39;00m \u001b[39mValueError\u001b[39;00m(\u001b[39m'\u001b[39m\u001b[39my_train must a one-dimensional list or Pandas Series, got: \u001b[39m\u001b[39m{}\u001b[39;00m\u001b[39m'\u001b[39m\u001b[39m.\u001b[39mformat(y_train\u001b[39m.\u001b[39mshape))\n\u001b[0;32m    548\u001b[0m y_range \u001b[39m=\u001b[39m (\u001b[39mmin\u001b[39m(y_train) \u001b[39m*\u001b[39m \u001b[39m1.03\u001b[39m, \u001b[39mmax\u001b[39m(y_train) \u001b[39m*\u001b[39m \u001b[39m1.03\u001b[39m)  \u001b[39m# same y axis for all\u001b[39;00m\n\u001b[0;32m    550\u001b[0m \u001b[39m# Find max height (count) for any bar in any node\u001b[39;00m\n",
      "\u001b[1;31mValueError\u001b[0m: y_train must a one-dimensional list or Pandas Series, got: (1599, 1)"
     ]
    }
   ],
   "source": [
    "viz_model.view()"
   ]
  },
  {
   "cell_type": "code",
   "execution_count": null,
   "metadata": {},
   "outputs": [],
   "source": []
  },
  {
   "cell_type": "code",
   "execution_count": null,
   "metadata": {},
   "outputs": [],
   "source": []
  }
 ],
 "metadata": {
  "kernelspec": {
   "display_name": "mlenv-310",
   "language": "python",
   "name": "python3"
  },
  "language_info": {
   "codemirror_mode": {
    "name": "ipython",
    "version": 3
   },
   "file_extension": ".py",
   "mimetype": "text/x-python",
   "name": "python",
   "nbconvert_exporter": "python",
   "pygments_lexer": "ipython3",
   "version": "3.10.11"
  },
  "orig_nbformat": 4
 },
 "nbformat": 4,
 "nbformat_minor": 2
}
